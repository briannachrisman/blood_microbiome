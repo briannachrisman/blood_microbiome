{
 "cells": [
  {
   "cell_type": "code",
   "execution_count": 1,
   "metadata": {},
   "outputs": [],
   "source": [
    "import pandas as pd\n",
    "import numpy as np\n",
    "from collections import Counter \n",
    "import matplotlib.pyplot as plt\n",
    "import seaborn as sns\n",
    "import sys\n",
    "from tqdm import tqdm\n",
    "import scipy.stats as stats\n",
    "import statsmodels.api as sm\n",
    "from sklearn.preprocessing import StandardScaler\n",
    "from statsmodels.stats.anova import anova_lm\n",
    "from statsmodels.formula.api import ols\n",
    "sys.path.append('/home/groups/dpwall/briannac/general_scripts/plotting')\n",
    "from pvals_distribution_plots import PlotPvals\n",
    "from joblib import Parallel, delayed\n",
    "from statsmodels.graphics.gofplots import qqplot"
   ]
  },
  {
   "cell_type": "code",
   "execution_count": 2,
   "metadata": {},
   "outputs": [],
   "source": [
    "import mlxtend"
   ]
  },
  {
   "cell_type": "code",
   "execution_count": 53,
   "metadata": {},
   "outputs": [
    {
     "name": "stdout",
     "output_type": "stream",
     "text": [
      "Torque teno virus\n"
     ]
    }
   ],
   "source": [
    "import pandas as pd\n",
    "import numpy as np\n",
    "from collections import Counter \n",
    "import matplotlib.pyplot as plt\n",
    "import seaborn as sns\n",
    "import sys\n",
    "from tqdm import tqdm\n",
    "import scipy.stats as stats\n",
    "import statsmodels.api as sm\n",
    "from sklearn.preprocessing import StandardScaler\n",
    "from statsmodels.stats.anova import anova_lm\n",
    "from statsmodels.formula.api import ols\n",
    "\n",
    "from sklearn.feature_selection import f_regression\n",
    "MICROBE_TYPE = 'bacteria' # Types of microbes.\n",
    "\n",
    "BLOOD_MICROBIOME_DIR = '/home/groups/dpwall/briannac/blood_microbiome/'\n",
    "MICROBE_FILE = BLOOD_MICROBIOME_DIR + 'data/%s_filtered.csv' % MICROBE_TYPE\n",
    "BAM_MAPPINGS_FILE = BLOOD_MICROBIOME_DIR + 'data/bam_mappings.csv'\n",
    "EXOG_DIR = BLOOD_MICROBIOME_DIR + 'intermediate_files/linear_regression/exog.csv'\n",
    "bam_mappings = pd.read_csv(BAM_MAPPINGS_FILE, sep='\\t', index_col=1)\n",
    "bam_mappings['child'] = 1.0*(bam_mappings.relationship=='sibling')\n",
    "bam_mappings['autism'] = 1.0*(bam_mappings.derived_affected_status=='autism')\n",
    "\n",
    "df_microbe = pd.read_csv(BLOOD_MICROBIOME_DIR + 'data/virus_filtered.csv', index_col=0)\n",
    "\n",
    "# Write to exog directory if not written (should be written after first run)\n",
    "bam_mappings['sample_id'] = bam_mappings.index\n",
    "exog = pd.get_dummies(bam_mappings.loc[df_microbe.index][['bio_seq_source', 'sex_numeric', 'child', 'autism', \n",
    "                                                          'sequencing_plate', 'family', 'sample_id']], drop_first=False, dummy_na=True).astype(float)\n",
    "exog = exog.drop(['bio_seq_source_LCL', 'sex_numeric_1.0'], axis=1)\n",
    "exog = exog[exog.columns[exog.sum()!=0]]\n",
    "exog_scale = pd.DataFrame(StandardScaler().fit(exog).transform(exog))\n",
    "exog_scale.columns = exog.columns\n",
    "exog_scale.index = exog.index\n",
    "exog_scale.columns = [c.replace('.', '_').replace('-', '_') for c in exog_scale.columns]\n",
    "exog = exog_scale\n",
    "\n",
    "column = df_microbe.columns[3]\n",
    "endog = np.log10(df_microbe[[column]]+1)\n",
    "print(endog.columns[0])\n",
    "endog = StandardScaler().fit(endog).transform(endog)"
   ]
  },
  {
   "cell_type": "code",
   "execution_count": 4,
   "metadata": {},
   "outputs": [
    {
     "data": {
      "text/plain": [
       "-0.5"
      ]
     },
     "execution_count": 4,
     "metadata": {},
     "output_type": "execute_result"
    }
   ],
   "source": [
    "np.corrcoef([1,2,3], [2,3,1])[0,1]"
   ]
  },
  {
   "cell_type": "code",
   "execution_count": 84,
   "metadata": {},
   "outputs": [
    {
     "name": "stderr",
     "output_type": "stream",
     "text": [
      "/share/software/user/open/py-scikit-learn/0.19.1_py36/lib/python3.6/site-packages/sklearn/utils/validation.py:578: DataConversionWarning: A column-vector y was passed when a 1d array was expected. Please change the shape of y to (n_samples, ), for example using ravel().\n",
      "  y = column_or_1d(y, warn=True)\n"
     ]
    },
    {
     "name": "stdout",
     "output_type": "stream",
     "text": [
      "here\n",
      "here\n"
     ]
    },
    {
     "name": "stderr",
     "output_type": "stream",
     "text": [
      "/home/users/briannac/.local/lib/python3.6/site-packages/scipy/stats/_distn_infrastructure.py:1932: RuntimeWarning: invalid value encountered in less_equal\n",
      "  cond2 = cond0 & (x <= _a)\n"
     ]
    },
    {
     "name": "stdout",
     "output_type": "stream",
     "text": [
      "here\n",
      "here\n"
     ]
    }
   ],
   "source": [
    "import copy\n",
    "min_pval = 0\n",
    "sig_cols = []\n",
    "new_exog = exog\n",
    "new_endog = endog\n",
    "_, pvals = f_regression(new_exog, new_endog)\n",
    "cols_left = exog.columns\n",
    "ols_model = sm.OLS(endog, exog[[cols_left[np.argmin(pvals)]]]).fit()\n",
    "new_endog = ols_model.resid\n",
    "min_pval = old_model.f_pvalue\n",
    "while min_pval < (.05):\n",
    "    print('here')\n",
    "    sig_cols = sig_cols + [cols_left[np.argmin(pvals)]]\n",
    "    old_model = copy.deepcopy(ols_model)\n",
    "    cols_left = [c for c in exog.columns if c not in sig_cols]\n",
    "    _, pvals = f_regression(exog[cols_left], new_endog)\n",
    "    new_exog = exog[sig_cols + [cols_left[np.argmin(pvals)]]]\n",
    "    ols_model = sm.OLS(endog, new_exog).fit()\n",
    "    new_endog = ols_model.resid\n",
    "    min_pval = anova_lm(old_model, ols_model)['Pr(>F)'][1]    \n",
    "a = [(column, i,j) for i,j in zip(sig_cols, ols_model.params) if 'sample_id' not in i]"
   ]
  },
  {
   "cell_type": "code",
   "execution_count": 45,
   "metadata": {},
   "outputs": [
    {
     "data": {
      "text/plain": [
       "<statsmodels.regression.linear_model.RegressionResultsWrapper at 0x7f63c8450908>"
      ]
     },
     "execution_count": 45,
     "metadata": {},
     "output_type": "execute_result"
    }
   ],
   "source": [
    "ols_model = sm.OLS(endog, 1+0*exog[exog.columns[[0]]]).fit()\n",
    "ols_model"
   ]
  },
  {
   "cell_type": "code",
   "execution_count": 33,
   "metadata": {},
   "outputs": [
    {
     "name": "stderr",
     "output_type": "stream",
     "text": [
      "/home/users/briannac/.local/lib/python3.6/site-packages/scipy/stats/_distn_infrastructure.py:1932: RuntimeWarning: invalid value encountered in less_equal\n",
      "  cond2 = cond0 & (x <= _a)\n"
     ]
    },
    {
     "data": {
      "text/plain": [
       "nan"
      ]
     },
     "execution_count": 33,
     "metadata": {},
     "output_type": "execute_result"
    }
   ],
   "source": [
    "anova_lm(ols_model, ols_model)['Pr(>F)'][1]"
   ]
  },
  {
   "cell_type": "code",
   "execution_count": 6,
   "metadata": {},
   "outputs": [],
   "source": [
    "import seaborn as sns\n",
    "BLOOD_MICROBIOME_DIR = '/home/groups/dpwall/briannac/blood_microbiome/'\n",
    "\n",
    "df_bacteria = pd.read_csv(BLOOD_MICROBIOME_DIR + 'data/bacteria_filtered.csv', index_col=0)\n",
    "df_virus = pd.read_csv(BLOOD_MICROBIOME_DIR + 'data/virus_filtered.csv', index_col=0).loc[df_bacteria.index]\n",
    "BAM_MAPPINGS_FILE = BLOOD_MICROBIOME_DIR + 'data/bam_mappings.csv'\n",
    "bam_mappings = pd.read_csv(BAM_MAPPINGS_FILE, sep='\\t', index_col=1)\n",
    "bam_mappings['child'] = 1.0*(bam_mappings.relationship=='sibling')\n",
    "bam_mappings['autism'] = 1.0*(bam_mappings.derived_affected_status=='autism')\n",
    "bam_mappings = bam_mappings.loc[df_bacteria.index]\n",
    "exog = pd.get_dummies(bam_mappings.loc[df_bacteria.index][['bio_seq_source', 'sex_numeric', 'child', 'autism', \n",
    "                                                          'sequencing_plate', 'family']], drop_first=False, dummy_na=True).astype(float)"
   ]
  },
  {
   "cell_type": "code",
   "execution_count": 116,
   "metadata": {},
   "outputs": [],
   "source": [
    "%%bash \n",
    "cat /home/groups/dpwall/briannac/blood_microbiome/intermediate_files/linear_regression/virus*.txt > \\\n",
    "/home/groups/dpwall/briannac/blood_microbiome/results/lasso/f_regression_virus.csv"
   ]
  },
  {
   "cell_type": "code",
   "execution_count": 103,
   "metadata": {},
   "outputs": [
    {
     "data": {
      "text/plain": [
       "31"
      ]
     },
     "execution_count": 103,
     "metadata": {},
     "output_type": "execute_result"
    }
   ],
   "source": [
    "f_regression_results = pd.read_csv('/home/groups/dpwall/briannac/blood_microbiome/results/lasso/f_regression_virus.csv', header=None, index_col=0)\n",
    "f_regression_results.columns = ['microbe', 'sig_variable', 'coeff']\n",
    "f_regression_results = f_regression_results[[m in df_virus.columns[(df_virus>0).sum()>1] for m in f_regression_results.microbe]]\n",
    "len(set(f_regression_results.microbe))"
   ]
  },
  {
   "cell_type": "code",
   "execution_count": 110,
   "metadata": {},
   "outputs": [
    {
     "name": "stdout",
     "output_type": "stream",
     "text": [
      "1\n",
      "0\n",
      "1\n"
     ]
    },
    {
     "data": {
      "text/plain": [
       "0\n",
       "0      Human herpesvirus 4\n",
       "16    Human herpesvirus 6B\n",
       "4      Human herpesvirus 7\n",
       "Name: microbe, dtype: object"
      ]
     },
     "execution_count": 110,
     "metadata": {},
     "output_type": "execute_result"
    }
   ],
   "source": [
    "print(len(f_regression_results[['child' in f for f in f_regression_results['sig_variable']]]))\n",
    "print(len(f_regression_results[['autism' in f for f in f_regression_results['sig_variable']]]))\n",
    "print(len(f_regression_results[['sex' in f for f in f_regression_results['sig_variable']]]))\n",
    "f_regression_results[['bio_seq_source' in f for f in f_regression_results['sig_variable']]]['microbe']"
   ]
  },
  {
   "cell_type": "code",
   "execution_count": 115,
   "metadata": {},
   "outputs": [
    {
     "data": {
      "text/html": [
       "<div>\n",
       "<style scoped>\n",
       "    .dataframe tbody tr th:only-of-type {\n",
       "        vertical-align: middle;\n",
       "    }\n",
       "\n",
       "    .dataframe tbody tr th {\n",
       "        vertical-align: top;\n",
       "    }\n",
       "\n",
       "    .dataframe thead th {\n",
       "        text-align: right;\n",
       "    }\n",
       "</style>\n",
       "<table border=\"1\" class=\"dataframe\">\n",
       "  <thead>\n",
       "    <tr style=\"text-align: right;\">\n",
       "      <th></th>\n",
       "      <th>microbe</th>\n",
       "      <th>sig_variable</th>\n",
       "      <th>coeff</th>\n",
       "    </tr>\n",
       "    <tr>\n",
       "      <th>0</th>\n",
       "      <th></th>\n",
       "      <th></th>\n",
       "      <th></th>\n",
       "    </tr>\n",
       "  </thead>\n",
       "  <tbody>\n",
       "    <tr>\n",
       "      <th>0</th>\n",
       "      <td>Human herpesvirus 4</td>\n",
       "      <td>bio_seq_source_WB</td>\n",
       "      <td>-0.512160</td>\n",
       "    </tr>\n",
       "    <tr>\n",
       "      <th>1</th>\n",
       "      <td>Human herpesvirus 4</td>\n",
       "      <td>sequencing_plate_MTR-00010</td>\n",
       "      <td>0.130682</td>\n",
       "    </tr>\n",
       "    <tr>\n",
       "      <th>2</th>\n",
       "      <td>Human herpesvirus 4</td>\n",
       "      <td>sequencing_plate_MTR-00018</td>\n",
       "      <td>0.100106</td>\n",
       "    </tr>\n",
       "    <tr>\n",
       "      <th>3</th>\n",
       "      <td>Human herpesvirus 4</td>\n",
       "      <td>sequencing_plate_MTR-00016</td>\n",
       "      <td>0.114078</td>\n",
       "    </tr>\n",
       "    <tr>\n",
       "      <th>4</th>\n",
       "      <td>Human herpesvirus 4</td>\n",
       "      <td>sequencing_plate_MTR-00015</td>\n",
       "      <td>0.098722</td>\n",
       "    </tr>\n",
       "    <tr>\n",
       "      <th>...</th>\n",
       "      <td>...</td>\n",
       "      <td>...</td>\n",
       "      <td>...</td>\n",
       "    </tr>\n",
       "    <tr>\n",
       "      <th>135</th>\n",
       "      <td>Human herpesvirus 4</td>\n",
       "      <td>family_AU1876</td>\n",
       "      <td>0.021436</td>\n",
       "    </tr>\n",
       "    <tr>\n",
       "      <th>136</th>\n",
       "      <td>Human herpesvirus 4</td>\n",
       "      <td>family_AU3347</td>\n",
       "      <td>-0.019804</td>\n",
       "    </tr>\n",
       "    <tr>\n",
       "      <th>137</th>\n",
       "      <td>Human herpesvirus 4</td>\n",
       "      <td>family_AU2636</td>\n",
       "      <td>-0.019804</td>\n",
       "    </tr>\n",
       "    <tr>\n",
       "      <th>138</th>\n",
       "      <td>Human herpesvirus 4</td>\n",
       "      <td>family_AU1408</td>\n",
       "      <td>0.025702</td>\n",
       "    </tr>\n",
       "    <tr>\n",
       "      <th>139</th>\n",
       "      <td>Human herpesvirus 4</td>\n",
       "      <td>family_AU1224</td>\n",
       "      <td>0.020443</td>\n",
       "    </tr>\n",
       "  </tbody>\n",
       "</table>\n",
       "<p>140 rows × 3 columns</p>\n",
       "</div>"
      ],
      "text/plain": [
       "                 microbe                sig_variable     coeff\n",
       "0                                                             \n",
       "0    Human herpesvirus 4           bio_seq_source_WB -0.512160\n",
       "1    Human herpesvirus 4  sequencing_plate_MTR-00010  0.130682\n",
       "2    Human herpesvirus 4  sequencing_plate_MTR-00018  0.100106\n",
       "3    Human herpesvirus 4  sequencing_plate_MTR-00016  0.114078\n",
       "4    Human herpesvirus 4  sequencing_plate_MTR-00015  0.098722\n",
       "..                   ...                         ...       ...\n",
       "135  Human herpesvirus 4               family_AU1876  0.021436\n",
       "136  Human herpesvirus 4               family_AU3347 -0.019804\n",
       "137  Human herpesvirus 4               family_AU2636 -0.019804\n",
       "138  Human herpesvirus 4               family_AU1408  0.025702\n",
       "139  Human herpesvirus 4               family_AU1224  0.020443\n",
       "\n",
       "[140 rows x 3 columns]"
      ]
     },
     "execution_count": 115,
     "metadata": {},
     "output_type": "execute_result"
    }
   ],
   "source": [
    "f_regression_results[f_regression_results.microbe=='Human herpesvirus 4']"
   ]
  },
  {
   "cell_type": "code",
   "execution_count": 113,
   "metadata": {},
   "outputs": [
    {
     "data": {
      "text/plain": [
       "Counter({'Human adenovirus 5': 3,\n",
       "         'Human betaherpesvirus 6A': 5,\n",
       "         'Human herpesvirus 4': 114,\n",
       "         'Human herpesvirus 6A': 4,\n",
       "         'Human herpesvirus 6B': 24,\n",
       "         'Human herpesvirus 7': 11,\n",
       "         'Human parainfluenza virus': 2,\n",
       "         'Human parvovirus B19': 2,\n",
       "         'Lactococcus phage bIL170': 2,\n",
       "         'Lactococcus phage bIL67': 2,\n",
       "         'Lactococcus phage c2': 2,\n",
       "         'Lactococcus phage jj50': 2,\n",
       "         'Lactococcus phage P008': 1,\n",
       "         'Lactococcus phage sk1': 5,\n",
       "         'Molluscum contagiosum virus': 1,\n",
       "         'Moloney murine leukemia': 2,\n",
       "         'Propionibacterium phage PA6': 6,\n",
       "         'Rhodococcus phage Whack': 1,\n",
       "         'Squirrel monkey retrovirus': 4,\n",
       "         'Streptococcus phage ALQ13.2': 6,\n",
       "         'Streptococcus phage DT1': 1,\n",
       "         'Streptococcus phage PH10': 2,\n",
       "         'Torque teno virus.10': 1,\n",
       "         'Torque teno virus.1': 2,\n",
       "         'Torque teno virus.3': 2,\n",
       "         'Torque teno virus.4': 3,\n",
       "         'Torque teno virus.5': 1,\n",
       "         'Torque teno virus.6': 2,\n",
       "         'Torque teno virus.7': 3,\n",
       "         'Torque teno virus.8': 3,\n",
       "         'Torque teno virus': 1})"
      ]
     },
     "execution_count": 113,
     "metadata": {},
     "output_type": "execute_result"
    }
   ],
   "source": [
    "Counter(f_regression_results[['family' in f for f in f_regression_results['sig_variable']]]['microbe'])"
   ]
  },
  {
   "cell_type": "code",
   "execution_count": 11,
   "metadata": {},
   "outputs": [
    {
     "data": {
      "image/png": "[encoded data removed]",
      "text/plain": [
       "<Figure size 432x288 with 1 Axes>"
      ]
     },
     "metadata": {
      "needs_background": "light"
     },
     "output_type": "display_data"
    }
   ],
   "source": [
    "sns.boxplot(y=df_virus['Human herpesvirus 4'], x=exog['child'])\n",
    "plt.yscale('log')\n",
    "#plt.yscale('log')"
   ]
  },
  {
   "cell_type": "code",
   "execution_count": 12,
   "metadata": {},
   "outputs": [
    {
     "name": "stdout",
     "output_type": "stream",
     "text": [
      "0 linked to sex\n",
      "0 linked to asd\n"
     ]
    },
    {
     "data": {
      "text/html": [
       "<div>\n",
       "<style scoped>\n",
       "    .dataframe tbody tr th:only-of-type {\n",
       "        vertical-align: middle;\n",
       "    }\n",
       "\n",
       "    .dataframe tbody tr th {\n",
       "        vertical-align: top;\n",
       "    }\n",
       "\n",
       "    .dataframe thead th {\n",
       "        text-align: right;\n",
       "    }\n",
       "</style>\n",
       "<table border=\"1\" class=\"dataframe\">\n",
       "  <thead>\n",
       "    <tr style=\"text-align: right;\">\n",
       "      <th></th>\n",
       "      <th>microbe</th>\n",
       "      <th>sig_variable</th>\n",
       "      <th>coeff</th>\n",
       "    </tr>\n",
       "    <tr>\n",
       "      <th>0</th>\n",
       "      <th></th>\n",
       "      <th></th>\n",
       "      <th></th>\n",
       "    </tr>\n",
       "  </thead>\n",
       "  <tbody>\n",
       "    <tr>\n",
       "      <th>22</th>\n",
       "      <td>Enterobacteria phage lambda</td>\n",
       "      <td>bio_seq_source_WB</td>\n",
       "      <td>-0.177755</td>\n",
       "    </tr>\n",
       "    <tr>\n",
       "      <th>11</th>\n",
       "      <td>Glypta fumiferanae ichnovirus.1</td>\n",
       "      <td>bio_seq_source_WB</td>\n",
       "      <td>-0.119484</td>\n",
       "    </tr>\n",
       "    <tr>\n",
       "      <th>0</th>\n",
       "      <td>Human herpesvirus 4</td>\n",
       "      <td>bio_seq_source_WB</td>\n",
       "      <td>-0.522403</td>\n",
       "    </tr>\n",
       "    <tr>\n",
       "      <th>16</th>\n",
       "      <td>Human herpesvirus 6B</td>\n",
       "      <td>bio_seq_source_WB</td>\n",
       "      <td>0.131483</td>\n",
       "    </tr>\n",
       "    <tr>\n",
       "      <th>3</th>\n",
       "      <td>Torque teno virus.10</td>\n",
       "      <td>bio_seq_source_WB</td>\n",
       "      <td>-0.078405</td>\n",
       "    </tr>\n",
       "    <tr>\n",
       "      <th>4</th>\n",
       "      <td>Torque teno virus.6</td>\n",
       "      <td>bio_seq_source_WB</td>\n",
       "      <td>0.078399</td>\n",
       "    </tr>\n",
       "    <tr>\n",
       "      <th>4</th>\n",
       "      <td>Torque teno virus</td>\n",
       "      <td>bio_seq_source_WB</td>\n",
       "      <td>-0.128363</td>\n",
       "    </tr>\n",
       "  </tbody>\n",
       "</table>\n",
       "</div>"
      ],
      "text/plain": [
       "                            microbe       sig_variable     coeff\n",
       "0                                                               \n",
       "22      Enterobacteria phage lambda  bio_seq_source_WB -0.177755\n",
       "11  Glypta fumiferanae ichnovirus.1  bio_seq_source_WB -0.119484\n",
       "0               Human herpesvirus 4  bio_seq_source_WB -0.522403\n",
       "16             Human herpesvirus 6B  bio_seq_source_WB  0.131483\n",
       "3              Torque teno virus.10  bio_seq_source_WB -0.078405\n",
       "4               Torque teno virus.6  bio_seq_source_WB  0.078399\n",
       "4                 Torque teno virus  bio_seq_source_WB -0.128363"
      ]
     },
     "execution_count": 12,
     "metadata": {},
     "output_type": "execute_result"
    }
   ],
   "source": [
    "print(len(f_regression_results[['sex' in f for f in f_regression_results['sig_variable']]]), 'linked to sex')\n",
    "print(len(f_regression_results[['autism' in f for f in f_regression_results['sig_variable']]]), 'linked to asd')\n",
    "f_regression_results[['bio_seq' in f for f in f_regression_results['sig_variable']]]"
   ]
  },
  {
   "cell_type": "code",
   "execution_count": null,
   "metadata": {},
   "outputs": [],
   "source": [
    "ols_model = sm.OLS(endog, exog).fit()"
   ]
  },
  {
   "cell_type": "code",
   "execution_count": null,
   "metadata": {},
   "outputs": [],
   "source": [
    "ols_model."
   ]
  },
  {
   "cell_type": "code",
   "execution_count": 74,
   "metadata": {},
   "outputs": [
    {
     "data": {
      "text/plain": [
       "4"
      ]
     },
     "execution_count": 74,
     "metadata": {},
     "output_type": "execute_result"
    }
   ],
   "source": [
    "(df_virus['Torque teno virus.10']>0).sum()"
   ]
  },
  {
   "cell_type": "code",
   "execution_count": 69,
   "metadata": {},
   "outputs": [
    {
     "data": {
      "text/plain": [
       "<AxesSubplot:xlabel='bio_seq_source_WB', ylabel='Enterobacteria phage lambda'>"
      ]
     },
     "execution_count": 69,
     "metadata": {},
     "output_type": "execute_result"
    },
    {
     "data": {
      "image/png": "[encoded data removed]",
      "text/plain": [
       "<Figure size 432x288 with 1 Axes>"
      ]
     },
     "metadata": {
      "needs_background": "light"
     },
     "output_type": "display_data"
    }
   ],
   "source": [
    "sns.stripplot(y=df_virus['Enterobacteria phage lambda'], x=exog['bio_seq_source_WB'], jitter=.3)\n",
    "#plt.yscale('log')"
   ]
  },
  {
   "cell_type": "code",
   "execution_count": 23,
   "metadata": {},
   "outputs": [
    {
     "data": {
      "text/plain": [
       "Counter({0.0: 3998, 1.0: 570})"
      ]
     },
     "execution_count": 23,
     "metadata": {},
     "output_type": "execute_result"
    }
   ],
   "source": [
    "Counter(exog['bio_seq_source_WB'])"
   ]
  },
  {
   "cell_type": "code",
   "execution_count": 19,
   "metadata": {},
   "outputs": [
    {
     "data": {
      "text/plain": [
       "4"
      ]
     },
     "execution_count": 19,
     "metadata": {},
     "output_type": "execute_result"
    }
   ],
   "source": [
    "sum(df_virus['Torque teno virus.10']>0)"
   ]
  },
  {
   "cell_type": "code",
   "execution_count": 349,
   "metadata": {},
   "outputs": [
    {
     "data": {
      "text/html": [
       "<div>\n",
       "<style scoped>\n",
       "    .dataframe tbody tr th:only-of-type {\n",
       "        vertical-align: middle;\n",
       "    }\n",
       "\n",
       "    .dataframe tbody tr th {\n",
       "        vertical-align: top;\n",
       "    }\n",
       "\n",
       "    .dataframe thead th {\n",
       "        text-align: right;\n",
       "    }\n",
       "</style>\n",
       "<table border=\"1\" class=\"dataframe\">\n",
       "  <thead>\n",
       "    <tr style=\"text-align: right;\">\n",
       "      <th></th>\n",
       "      <th>Squirrel monkey retrovirus</th>\n",
       "      <th>Human herpesvirus 6B</th>\n",
       "      <th>Encephalomyocarditis virus complete</th>\n",
       "      <th>Torque teno virus</th>\n",
       "      <th>Torque teno virus.1</th>\n",
       "      <th>Torque teno virus.3</th>\n",
       "      <th>Torque teno virus.4</th>\n",
       "      <th>Torque teno virus.5</th>\n",
       "      <th>Torque teno virus.6</th>\n",
       "      <th>Torque teno virus.7</th>\n",
       "      <th>...</th>\n",
       "      <th>Enterobacteria phage phiX174</th>\n",
       "      <th>Lactococcus phage jj50</th>\n",
       "      <th>Lactococcus phage 712</th>\n",
       "      <th>Human adenovirus type</th>\n",
       "      <th>Human adenovirus 5</th>\n",
       "      <th>Moloney murine leukemia</th>\n",
       "      <th>Lactococcus phage bIL67</th>\n",
       "      <th>Rhodococcus phage Whack</th>\n",
       "      <th>Torque teno midi.4</th>\n",
       "      <th>Human betaherpesvirus 6A</th>\n",
       "    </tr>\n",
       "  </thead>\n",
       "  <tbody>\n",
       "    <tr>\n",
       "      <th>02C10540</th>\n",
       "      <td>0</td>\n",
       "      <td>0</td>\n",
       "      <td>1</td>\n",
       "      <td>0</td>\n",
       "      <td>0</td>\n",
       "      <td>0</td>\n",
       "      <td>0</td>\n",
       "      <td>0</td>\n",
       "      <td>0</td>\n",
       "      <td>0</td>\n",
       "      <td>...</td>\n",
       "      <td>661254</td>\n",
       "      <td>0</td>\n",
       "      <td>0</td>\n",
       "      <td>0</td>\n",
       "      <td>0</td>\n",
       "      <td>0</td>\n",
       "      <td>0</td>\n",
       "      <td>0</td>\n",
       "      <td>0</td>\n",
       "      <td>0</td>\n",
       "    </tr>\n",
       "    <tr>\n",
       "      <th>02C10541</th>\n",
       "      <td>0</td>\n",
       "      <td>0</td>\n",
       "      <td>2</td>\n",
       "      <td>0</td>\n",
       "      <td>0</td>\n",
       "      <td>0</td>\n",
       "      <td>0</td>\n",
       "      <td>0</td>\n",
       "      <td>0</td>\n",
       "      <td>0</td>\n",
       "      <td>...</td>\n",
       "      <td>681418</td>\n",
       "      <td>0</td>\n",
       "      <td>0</td>\n",
       "      <td>0</td>\n",
       "      <td>0</td>\n",
       "      <td>0</td>\n",
       "      <td>0</td>\n",
       "      <td>0</td>\n",
       "      <td>0</td>\n",
       "      <td>0</td>\n",
       "    </tr>\n",
       "    <tr>\n",
       "      <th>02C10542</th>\n",
       "      <td>0</td>\n",
       "      <td>0</td>\n",
       "      <td>3</td>\n",
       "      <td>0</td>\n",
       "      <td>0</td>\n",
       "      <td>0</td>\n",
       "      <td>0</td>\n",
       "      <td>0</td>\n",
       "      <td>0</td>\n",
       "      <td>0</td>\n",
       "      <td>...</td>\n",
       "      <td>312025</td>\n",
       "      <td>0</td>\n",
       "      <td>0</td>\n",
       "      <td>0</td>\n",
       "      <td>0</td>\n",
       "      <td>0</td>\n",
       "      <td>0</td>\n",
       "      <td>0</td>\n",
       "      <td>0</td>\n",
       "      <td>0</td>\n",
       "    </tr>\n",
       "    <tr>\n",
       "      <th>02C10543</th>\n",
       "      <td>0</td>\n",
       "      <td>0</td>\n",
       "      <td>3</td>\n",
       "      <td>0</td>\n",
       "      <td>0</td>\n",
       "      <td>0</td>\n",
       "      <td>0</td>\n",
       "      <td>0</td>\n",
       "      <td>0</td>\n",
       "      <td>0</td>\n",
       "      <td>...</td>\n",
       "      <td>746592</td>\n",
       "      <td>0</td>\n",
       "      <td>0</td>\n",
       "      <td>0</td>\n",
       "      <td>0</td>\n",
       "      <td>0</td>\n",
       "      <td>0</td>\n",
       "      <td>0</td>\n",
       "      <td>0</td>\n",
       "      <td>0</td>\n",
       "    </tr>\n",
       "    <tr>\n",
       "      <th>02C10702</th>\n",
       "      <td>0</td>\n",
       "      <td>0</td>\n",
       "      <td>2</td>\n",
       "      <td>0</td>\n",
       "      <td>0</td>\n",
       "      <td>0</td>\n",
       "      <td>0</td>\n",
       "      <td>0</td>\n",
       "      <td>0</td>\n",
       "      <td>0</td>\n",
       "      <td>...</td>\n",
       "      <td>494591</td>\n",
       "      <td>0</td>\n",
       "      <td>0</td>\n",
       "      <td>0</td>\n",
       "      <td>0</td>\n",
       "      <td>0</td>\n",
       "      <td>0</td>\n",
       "      <td>0</td>\n",
       "      <td>0</td>\n",
       "      <td>0</td>\n",
       "    </tr>\n",
       "    <tr>\n",
       "      <th>...</th>\n",
       "      <td>...</td>\n",
       "      <td>...</td>\n",
       "      <td>...</td>\n",
       "      <td>...</td>\n",
       "      <td>...</td>\n",
       "      <td>...</td>\n",
       "      <td>...</td>\n",
       "      <td>...</td>\n",
       "      <td>...</td>\n",
       "      <td>...</td>\n",
       "      <td>...</td>\n",
       "      <td>...</td>\n",
       "      <td>...</td>\n",
       "      <td>...</td>\n",
       "      <td>...</td>\n",
       "      <td>...</td>\n",
       "      <td>...</td>\n",
       "      <td>...</td>\n",
       "      <td>...</td>\n",
       "      <td>...</td>\n",
       "      <td>...</td>\n",
       "    </tr>\n",
       "    <tr>\n",
       "      <th>MH0143008</th>\n",
       "      <td>0</td>\n",
       "      <td>0</td>\n",
       "      <td>3</td>\n",
       "      <td>0</td>\n",
       "      <td>0</td>\n",
       "      <td>0</td>\n",
       "      <td>0</td>\n",
       "      <td>0</td>\n",
       "      <td>0</td>\n",
       "      <td>0</td>\n",
       "      <td>...</td>\n",
       "      <td>71833</td>\n",
       "      <td>0</td>\n",
       "      <td>0</td>\n",
       "      <td>0</td>\n",
       "      <td>0</td>\n",
       "      <td>0</td>\n",
       "      <td>0</td>\n",
       "      <td>0</td>\n",
       "      <td>0</td>\n",
       "      <td>0</td>\n",
       "    </tr>\n",
       "    <tr>\n",
       "      <th>MH0143009</th>\n",
       "      <td>0</td>\n",
       "      <td>0</td>\n",
       "      <td>1</td>\n",
       "      <td>0</td>\n",
       "      <td>0</td>\n",
       "      <td>0</td>\n",
       "      <td>0</td>\n",
       "      <td>0</td>\n",
       "      <td>0</td>\n",
       "      <td>0</td>\n",
       "      <td>...</td>\n",
       "      <td>370448</td>\n",
       "      <td>0</td>\n",
       "      <td>0</td>\n",
       "      <td>0</td>\n",
       "      <td>0</td>\n",
       "      <td>0</td>\n",
       "      <td>0</td>\n",
       "      <td>0</td>\n",
       "      <td>0</td>\n",
       "      <td>0</td>\n",
       "    </tr>\n",
       "    <tr>\n",
       "      <th>MH0143013</th>\n",
       "      <td>0</td>\n",
       "      <td>1</td>\n",
       "      <td>6</td>\n",
       "      <td>31</td>\n",
       "      <td>1</td>\n",
       "      <td>0</td>\n",
       "      <td>0</td>\n",
       "      <td>0</td>\n",
       "      <td>0</td>\n",
       "      <td>3</td>\n",
       "      <td>...</td>\n",
       "      <td>182175</td>\n",
       "      <td>0</td>\n",
       "      <td>0</td>\n",
       "      <td>0</td>\n",
       "      <td>0</td>\n",
       "      <td>0</td>\n",
       "      <td>0</td>\n",
       "      <td>0</td>\n",
       "      <td>0</td>\n",
       "      <td>0</td>\n",
       "    </tr>\n",
       "    <tr>\n",
       "      <th>MH0143018</th>\n",
       "      <td>0</td>\n",
       "      <td>0</td>\n",
       "      <td>5</td>\n",
       "      <td>0</td>\n",
       "      <td>0</td>\n",
       "      <td>0</td>\n",
       "      <td>0</td>\n",
       "      <td>0</td>\n",
       "      <td>0</td>\n",
       "      <td>0</td>\n",
       "      <td>...</td>\n",
       "      <td>421293</td>\n",
       "      <td>0</td>\n",
       "      <td>0</td>\n",
       "      <td>0</td>\n",
       "      <td>0</td>\n",
       "      <td>0</td>\n",
       "      <td>0</td>\n",
       "      <td>0</td>\n",
       "      <td>0</td>\n",
       "      <td>0</td>\n",
       "    </tr>\n",
       "    <tr>\n",
       "      <th>MH0143019</th>\n",
       "      <td>0</td>\n",
       "      <td>2</td>\n",
       "      <td>5</td>\n",
       "      <td>0</td>\n",
       "      <td>0</td>\n",
       "      <td>1</td>\n",
       "      <td>0</td>\n",
       "      <td>0</td>\n",
       "      <td>0</td>\n",
       "      <td>0</td>\n",
       "      <td>...</td>\n",
       "      <td>197690</td>\n",
       "      <td>0</td>\n",
       "      <td>0</td>\n",
       "      <td>0</td>\n",
       "      <td>0</td>\n",
       "      <td>0</td>\n",
       "      <td>0</td>\n",
       "      <td>0</td>\n",
       "      <td>0</td>\n",
       "      <td>0</td>\n",
       "    </tr>\n",
       "  </tbody>\n",
       "</table>\n",
       "<p>4568 rows × 45 columns</p>\n",
       "</div>"
      ],
      "text/plain": [
       "           Squirrel monkey retrovirus  Human herpesvirus 6B  \\\n",
       "02C10540                            0                     0   \n",
       "02C10541                            0                     0   \n",
       "02C10542                            0                     0   \n",
       "02C10543                            0                     0   \n",
       "02C10702                            0                     0   \n",
       "...                               ...                   ...   \n",
       "MH0143008                           0                     0   \n",
       "MH0143009                           0                     0   \n",
       "MH0143013                           0                     1   \n",
       "MH0143018                           0                     0   \n",
       "MH0143019                           0                     2   \n",
       "\n",
       "           Encephalomyocarditis virus complete  Torque teno virus  \\\n",
       "02C10540                                     1                  0   \n",
       "02C10541                                     2                  0   \n",
       "02C10542                                     3                  0   \n",
       "02C10543                                     3                  0   \n",
       "02C10702                                     2                  0   \n",
       "...                                        ...                ...   \n",
       "MH0143008                                    3                  0   \n",
       "MH0143009                                    1                  0   \n",
       "MH0143013                                    6                 31   \n",
       "MH0143018                                    5                  0   \n",
       "MH0143019                                    5                  0   \n",
       "\n",
       "           Torque teno virus.1  Torque teno virus.3  Torque teno virus.4  \\\n",
       "02C10540                     0                    0                    0   \n",
       "02C10541                     0                    0                    0   \n",
       "02C10542                     0                    0                    0   \n",
       "02C10543                     0                    0                    0   \n",
       "02C10702                     0                    0                    0   \n",
       "...                        ...                  ...                  ...   \n",
       "MH0143008                    0                    0                    0   \n",
       "MH0143009                    0                    0                    0   \n",
       "MH0143013                    1                    0                    0   \n",
       "MH0143018                    0                    0                    0   \n",
       "MH0143019                    0                    1                    0   \n",
       "\n",
       "           Torque teno virus.5  Torque teno virus.6  Torque teno virus.7  ...  \\\n",
       "02C10540                     0                    0                    0  ...   \n",
       "02C10541                     0                    0                    0  ...   \n",
       "02C10542                     0                    0                    0  ...   \n",
       "02C10543                     0                    0                    0  ...   \n",
       "02C10702                     0                    0                    0  ...   \n",
       "...                        ...                  ...                  ...  ...   \n",
       "MH0143008                    0                    0                    0  ...   \n",
       "MH0143009                    0                    0                    0  ...   \n",
       "MH0143013                    0                    0                    3  ...   \n",
       "MH0143018                    0                    0                    0  ...   \n",
       "MH0143019                    0                    0                    0  ...   \n",
       "\n",
       "           Enterobacteria phage phiX174  Lactococcus phage jj50  \\\n",
       "02C10540                         661254                       0   \n",
       "02C10541                         681418                       0   \n",
       "02C10542                         312025                       0   \n",
       "02C10543                         746592                       0   \n",
       "02C10702                         494591                       0   \n",
       "...                                 ...                     ...   \n",
       "MH0143008                         71833                       0   \n",
       "MH0143009                        370448                       0   \n",
       "MH0143013                        182175                       0   \n",
       "MH0143018                        421293                       0   \n",
       "MH0143019                        197690                       0   \n",
       "\n",
       "           Lactococcus phage 712  Human adenovirus type  Human adenovirus 5  \\\n",
       "02C10540                       0                      0                   0   \n",
       "02C10541                       0                      0                   0   \n",
       "02C10542                       0                      0                   0   \n",
       "02C10543                       0                      0                   0   \n",
       "02C10702                       0                      0                   0   \n",
       "...                          ...                    ...                 ...   \n",
       "MH0143008                      0                      0                   0   \n",
       "MH0143009                      0                      0                   0   \n",
       "MH0143013                      0                      0                   0   \n",
       "MH0143018                      0                      0                   0   \n",
       "MH0143019                      0                      0                   0   \n",
       "\n",
       "           Moloney murine leukemia  Lactococcus phage bIL67  \\\n",
       "02C10540                         0                        0   \n",
       "02C10541                         0                        0   \n",
       "02C10542                         0                        0   \n",
       "02C10543                         0                        0   \n",
       "02C10702                         0                        0   \n",
       "...                            ...                      ...   \n",
       "MH0143008                        0                        0   \n",
       "MH0143009                        0                        0   \n",
       "MH0143013                        0                        0   \n",
       "MH0143018                        0                        0   \n",
       "MH0143019                        0                        0   \n",
       "\n",
       "           Rhodococcus phage Whack  Torque teno midi.4  \\\n",
       "02C10540                         0                   0   \n",
       "02C10541                         0                   0   \n",
       "02C10542                         0                   0   \n",
       "02C10543                         0                   0   \n",
       "02C10702                         0                   0   \n",
       "...                            ...                 ...   \n",
       "MH0143008                        0                   0   \n",
       "MH0143009                        0                   0   \n",
       "MH0143013                        0                   0   \n",
       "MH0143018                        0                   0   \n",
       "MH0143019                        0                   0   \n",
       "\n",
       "           Human betaherpesvirus 6A  \n",
       "02C10540                          0  \n",
       "02C10541                          0  \n",
       "02C10542                          0  \n",
       "02C10543                          0  \n",
       "02C10702                          0  \n",
       "...                             ...  \n",
       "MH0143008                         0  \n",
       "MH0143009                         0  \n",
       "MH0143013                         0  \n",
       "MH0143018                         0  \n",
       "MH0143019                         0  \n",
       "\n",
       "[4568 rows x 45 columns]"
      ]
     },
     "execution_count": 349,
     "metadata": {},
     "output_type": "execute_result"
    }
   ],
   "source": [
    "df_virus"
   ]
  },
  {
   "cell_type": "code",
   "execution_count": 348,
   "metadata": {},
   "outputs": [
    {
     "data": {
      "text/plain": [
       "02C10540     0.0\n",
       "02C10541     0.0\n",
       "02C10542     0.0\n",
       "02C10543     0.0\n",
       "02C10702     0.0\n",
       "            ... \n",
       "MH0143008    1.0\n",
       "MH0143009    1.0\n",
       "MH0143013    1.0\n",
       "MH0143018    1.0\n",
       "MH0143019    1.0\n",
       "Name: bio_seq_source_WB, Length: 4568, dtype: float64"
      ]
     },
     "execution_count": 348,
     "metadata": {},
     "output_type": "execute_result"
    }
   ],
   "source": [
    "exog['bio_seq_source_WB']"
   ]
  },
  {
   "cell_type": "code",
   "execution_count": 346,
   "metadata": {},
   "outputs": [
    {
     "data": {
      "text/plain": [
       "2"
      ]
     },
     "execution_count": 346,
     "metadata": {},
     "output_type": "execute_result"
    }
   ],
   "source": [
    "(df_virus['Torque teno virus.6']>0).sum()"
   ]
  },
  {
   "cell_type": "code",
   "execution_count": 330,
   "metadata": {},
   "outputs": [
    {
     "data": {
      "text/plain": [
       "38"
      ]
     },
     "execution_count": 330,
     "metadata": {},
     "output_type": "execute_result"
    }
   ],
   "source": [
    "len(set(f_regression_results[['family' in f for f in f_regression_results['sig_variable']]]['microbe']))"
   ]
  },
  {
   "cell_type": "code",
   "execution_count": 331,
   "metadata": {},
   "outputs": [
    {
     "data": {
      "text/plain": [
       "37"
      ]
     },
     "execution_count": 331,
     "metadata": {},
     "output_type": "execute_result"
    }
   ],
   "source": [
    "len(set(f_regression_results[['sequencing_plate' in f for f in f_regression_results['sig_variable']]]['microbe']))"
   ]
  },
  {
   "cell_type": "code",
   "execution_count": null,
   "metadata": {},
   "outputs": [],
   "source": []
  },
  {
   "cell_type": "code",
   "execution_count": 198,
   "metadata": {},
   "outputs": [
    {
     "name": "stdout",
     "output_type": "stream",
     "text": [
      "Gemmata obscuriglobus UQM\n"
     ]
    }
   ],
   "source": [
    "endog = np.log10(df_microbe[[df_microbe.columns[286]]]+1)\n",
    "print(endog.columns[0])\n",
    "endog = StandardScaler().fit(endog).transform(endog)\n",
    "min_pval = 0\n",
    "sig_cols = []\n",
    "new_exog = exog\n",
    "new_endog = endog\n",
    "_, pvals = f_regression(new_exog, new_endog)\n",
    "min_pval = min(pvals)\n",
    "cols_left = exog.columns\n",
    "ols_model = sm.OLS(endog, 1+0*exog[exog.columns[[0]]]).fit()\n",
    "new_endog = ols_model.resid\n",
    "while min_pval < (.05/len(df_microbe.columns)/len([c for c in exog.columns if 'sample_id' not in c])):\n",
    "    sig_cols = sig_cols + [cols_left[np.argmin(pvals)]]\n",
    "    new_exog = exog[sig_cols]\n",
    "    ols_model = sm.OLS(endog, new_exog).fit()\n",
    "    new_endog = ols_model.resid\n",
    "    cols_left = [c for c in exog.columns if c not in sig_cols]\n",
    "    _, pvals = f_regression(exog[cols_left], new_endog)\n",
    "    min_pval = min(pvals)\n",
    "a = [(i,j) for i,j in zip(sig_cols, ols_model.params) if 'sample_id' not in i]"
   ]
  },
  {
   "cell_type": "code",
   "execution_count": 197,
   "metadata": {},
   "outputs": [],
   "source": [
    "cutoff = (.05/len(df_microbe.columns)/len([c for c in exog.columns if 'sample_id' not in c]))"
   ]
  },
  {
   "cell_type": "code",
   "execution_count": 157,
   "metadata": {},
   "outputs": [
    {
     "data": {
      "text/plain": [
       "Series([], Name: bio_seq_source, dtype: object)"
      ]
     },
     "execution_count": 157,
     "metadata": {},
     "output_type": "execute_result"
    }
   ],
   "source": [
    "bam_mappings[bam_mappings['family']=='family_AU3369'].bio_seq_source"
   ]
  },
  {
   "cell_type": "code",
   "execution_count": 31,
   "metadata": {},
   "outputs": [],
   "source": [
    "sig_cols = []\n",
    "sig_cols = sig_cols + [cols_left[np.argsort(pvals)][0]]\n",
    "new_exog = exog[sig_cols]\n",
    "ols_model = sm.OLS(endog, new_exog).fit()\n",
    "new_endog = ols_model.resid\n",
    "cols_left = [c for c in exog.columns if c not in sig_cols]\n",
    "_, pvals = f_regression(exog[cols_left], new_endog)"
   ]
  },
  {
   "cell_type": "code",
   "execution_count": 33,
   "metadata": {},
   "outputs": [
    {
     "data": {
      "text/plain": [
       "1063"
      ]
     },
     "execution_count": 33,
     "metadata": {},
     "output_type": "execute_result"
    }
   ],
   "source": [
    "len(pvals)"
   ]
  },
  {
   "cell_type": "code",
   "execution_count": 20,
   "metadata": {},
   "outputs": [],
   "source": [
    "anova_results = pd.read_csv('/home/groups/dpwall/briannac/blood_microbiome/results/lasso/virus_pvals_linear_regression.csv', header=None)\n",
    "anova_results.columns = ['feature', 'df', 'ss', 'mss', 'f', 'p', 'microbe']"
   ]
  },
  {
   "cell_type": "code",
   "execution_count": 33,
   "metadata": {},
   "outputs": [
    {
     "data": {
      "text/html": [
       "<div>\n",
       "<style scoped>\n",
       "    .dataframe tbody tr th:only-of-type {\n",
       "        vertical-align: middle;\n",
       "    }\n",
       "\n",
       "    .dataframe tbody tr th {\n",
       "        vertical-align: top;\n",
       "    }\n",
       "\n",
       "    .dataframe thead th {\n",
       "        text-align: right;\n",
       "    }\n",
       "</style>\n",
       "<table border=\"1\" class=\"dataframe\">\n",
       "  <thead>\n",
       "    <tr style=\"text-align: right;\">\n",
       "      <th></th>\n",
       "      <th>feature</th>\n",
       "      <th>df</th>\n",
       "      <th>ss</th>\n",
       "      <th>mss</th>\n",
       "      <th>f</th>\n",
       "      <th>p</th>\n",
       "      <th>microbe</th>\n",
       "    </tr>\n",
       "  </thead>\n",
       "  <tbody>\n",
       "    <tr>\n",
       "      <th>219</th>\n",
       "      <td>family_AU0800</td>\n",
       "      <td>1.0</td>\n",
       "      <td>0.075792</td>\n",
       "      <td>0.075792</td>\n",
       "      <td>39.979650</td>\n",
       "      <td>2.888081e-10</td>\n",
       "      <td>Lactococcus phage c2</td>\n",
       "    </tr>\n",
       "    <tr>\n",
       "      <th>550</th>\n",
       "      <td>family_AU1481</td>\n",
       "      <td>1.0</td>\n",
       "      <td>0.055673</td>\n",
       "      <td>0.055673</td>\n",
       "      <td>29.366870</td>\n",
       "      <td>6.391235e-08</td>\n",
       "      <td>Lactococcus phage c2</td>\n",
       "    </tr>\n",
       "    <tr>\n",
       "      <th>703</th>\n",
       "      <td>family_AU1781</td>\n",
       "      <td>1.0</td>\n",
       "      <td>0.054624</td>\n",
       "      <td>0.054624</td>\n",
       "      <td>28.813887</td>\n",
       "      <td>8.482618e-08</td>\n",
       "      <td>Lactococcus phage c2</td>\n",
       "    </tr>\n",
       "    <tr>\n",
       "      <th>752</th>\n",
       "      <td>family_AU1886</td>\n",
       "      <td>1.0</td>\n",
       "      <td>0.072913</td>\n",
       "      <td>0.072913</td>\n",
       "      <td>38.460888</td>\n",
       "      <td>6.233157e-10</td>\n",
       "      <td>Lactococcus phage c2</td>\n",
       "    </tr>\n",
       "    <tr>\n",
       "      <th>854</th>\n",
       "      <td>family_AU2178</td>\n",
       "      <td>1.0</td>\n",
       "      <td>0.063834</td>\n",
       "      <td>0.063834</td>\n",
       "      <td>33.671808</td>\n",
       "      <td>7.100207e-09</td>\n",
       "      <td>Lactococcus phage c2</td>\n",
       "    </tr>\n",
       "    <tr>\n",
       "      <th>890</th>\n",
       "      <td>family_AU2456</td>\n",
       "      <td>1.0</td>\n",
       "      <td>0.112018</td>\n",
       "      <td>0.112018</td>\n",
       "      <td>59.088839</td>\n",
       "      <td>1.941538e-14</td>\n",
       "      <td>Lactococcus phage c2</td>\n",
       "    </tr>\n",
       "    <tr>\n",
       "      <th>897</th>\n",
       "      <td>family_AU2497</td>\n",
       "      <td>1.0</td>\n",
       "      <td>0.479607</td>\n",
       "      <td>0.479607</td>\n",
       "      <td>252.989365</td>\n",
       "      <td>4.577740e-55</td>\n",
       "      <td>Lactococcus phage c2</td>\n",
       "    </tr>\n",
       "    <tr>\n",
       "      <th>903</th>\n",
       "      <td>family_AU2582</td>\n",
       "      <td>1.0</td>\n",
       "      <td>0.101599</td>\n",
       "      <td>0.101599</td>\n",
       "      <td>53.592658</td>\n",
       "      <td>3.040978e-13</td>\n",
       "      <td>Lactococcus phage c2</td>\n",
       "    </tr>\n",
       "  </tbody>\n",
       "</table>\n",
       "</div>"
      ],
      "text/plain": [
       "           feature   df        ss       mss           f             p  \\\n",
       "219  family_AU0800  1.0  0.075792  0.075792   39.979650  2.888081e-10   \n",
       "550  family_AU1481  1.0  0.055673  0.055673   29.366870  6.391235e-08   \n",
       "703  family_AU1781  1.0  0.054624  0.054624   28.813887  8.482618e-08   \n",
       "752  family_AU1886  1.0  0.072913  0.072913   38.460888  6.233157e-10   \n",
       "854  family_AU2178  1.0  0.063834  0.063834   33.671808  7.100207e-09   \n",
       "890  family_AU2456  1.0  0.112018  0.112018   59.088839  1.941538e-14   \n",
       "897  family_AU2497  1.0  0.479607  0.479607  252.989365  4.577740e-55   \n",
       "903  family_AU2582  1.0  0.101599  0.101599   53.592658  3.040978e-13   \n",
       "\n",
       "                  microbe  \n",
       "219  Lactococcus phage c2  \n",
       "550  Lactococcus phage c2  \n",
       "703  Lactococcus phage c2  \n",
       "752  Lactococcus phage c2  \n",
       "854  Lactococcus phage c2  \n",
       "890  Lactococcus phage c2  \n",
       "897  Lactococcus phage c2  \n",
       "903  Lactococcus phage c2  "
      ]
     },
     "execution_count": 33,
     "metadata": {},
     "output_type": "execute_result"
    }
   ],
   "source": [
    "anova_fams = anova_results[['family' in f for f in anova_results.feature]]\n",
    "anova_fams[anova_fams.p<(.05/len(set(anova_fams.feature))/84)]"
   ]
  },
  {
   "cell_type": "code",
   "execution_count": 29,
   "metadata": {},
   "outputs": [
    {
     "data": {
      "image/png": "[encoded data removed]",
      "text/plain": [
       "<Figure size 432x288 with 1 Axes>"
      ]
     },
     "execution_count": 29,
     "metadata": {},
     "output_type": "execute_result"
    },
    {
     "data": {
      "image/png": "[encoded data removed]",
      "text/plain": [
       "<Figure size 432x288 with 1 Axes>"
      ]
     },
     "metadata": {
      "needs_background": "light"
     },
     "output_type": "display_data"
    }
   ],
   "source": [
    "qqplot(anova_results[['family' in f for f in anova_results.feature]].p.values, dist=stats.uniform)"
   ]
  },
  {
   "cell_type": "code",
   "execution_count": 8,
   "metadata": {},
   "outputs": [
    {
     "data": {
      "text/plain": [
       "16"
      ]
     },
     "execution_count": 8,
     "metadata": {},
     "output_type": "execute_result"
    }
   ],
   "source": [
    "num_cores"
   ]
  },
  {
   "cell_type": "code",
   "execution_count": 641,
   "metadata": {},
   "outputs": [
    {
     "name": "stdout",
     "output_type": "stream",
     "text": [
      "Human herpesvirus 6B\n",
      "Cross-validation for alpha...\n"
     ]
    }
   ],
   "source": [
    "bam_mappings['sample_id'] = bam_mappings.index\n",
    "bam_mappings['asd'] = bam_mappings['derived_affected_status']=='autism'\n",
    "exog = pd.get_dummies(bam_mappings.loc[df_microbe.index][[\n",
    "    'sequencing_plate', 'bio_seq_source', 'sex_numeric', 'asd', 'relationship', 'family']], drop_first=False).astype(float)\n",
    "exog_scaled = pd.DataFrame(StandardScaler().fit(exog).transform(exog))\n",
    "exog_scaled.columns = exog.columns\n",
    "exog_scaled.index = exog.index\n",
    "#exog['derived_affected_status_autism'] = exog['derived_affected_status_autism'] + exog['derived_affected_status_asd']\n",
    "#exog['relationship_parent'] = 1-exog['relationship_sibling']\n",
    "#exog = exog.drop(['derived_affected_status_broad-spectrum', 'derived_affected_status_not-met', 'derived_affected_status_nqa','derived_affected_status_asd','relationship_mother', 'relationship_father'], axis=1) #, 'sex_numeric_1.0', 'bio_seq_source_LCL'], axis=1)\n",
    "#exog['derived_affected_status_nt'] = ((exog['relationship_sibling']==1) & (exog['derived_affected_status_autism']==0))*1.0\n",
    "COLUMN = df_microbe.columns[5]\n",
    "print(COLUMN)\n",
    "print('Cross-validation for alpha...')\n",
    "endog = np.log10(df_microbe[COLUMN]+1)\n",
    "lm = linear_model.LassoCV(positive=True, fit_intercept=True, cv=20)\n",
    "lm.fit(exog_scaled, endog)\n",
    "alpha = lm.alpha_\n",
    "\n",
    "#new_idx = [np.random.randint(0,len(exog)) for i in endog]\n",
    "c = []\n",
    "for i in range(20):\n",
    "    np.random.seed(i)\n",
    "    idx = np.where(pd.isnull(bam_mappings),bam_mappings,bam_mappings.astype(str))\n",
    "    sample_df = bam_mappings.loc[df_microbe.index][['sequencing_plate', 'bio_seq_source', 'sex_numeric', \n",
    "         'asd', 'relationship', 'family', 'sample_id']].groupby(\n",
    "        ['sequencing_plate', 'bio_seq_source', 'sex_numeric', \n",
    "         'asd', 'relationship', 'family']).aggregate(lambda x: list(np.random.choice(list(x), len(list(x)), replace=True)))\n",
    "    samples = np.concatenate(sample_df.reindex()['sample_id'])\n",
    "    #samples = np.random.choice(df_microbe.index, len(df_microbe), replace=True)\n",
    "    exog_new = exog_scaled.loc[samples]\n",
    "    endog_new = endog[samples]\n",
    "    lm = linear_model.Lasso(positive=True, fit_intercept=True, alpha=alpha)\n",
    "    lm.fit(exog_new, endog_new)\n",
    "    c = c + [exog.columns[lm.coef_>0]]\n"
   ]
  },
  {
   "cell_type": "code",
   "execution_count": 637,
   "metadata": {},
   "outputs": [
    {
     "data": {
      "text/plain": [
       "<AxesSubplot:xlabel='sequencing_plate_MTR-01003', ylabel='Human herpesvirus 6B'>"
      ]
     },
     "execution_count": 637,
     "metadata": {},
     "output_type": "execute_result"
    },
    {
     "data": {
      "image/png": "[encoded data removed]",
      "text/plain": [
       "<Figure size 432x288 with 1 Axes>"
      ]
     },
     "metadata": {
      "needs_background": "light"
     },
     "output_type": "display_data"
    }
   ],
   "source": [
    "sns.stripplot(y=endog, x=exog['sequencing_plate_MTR-01003'])"
   ]
  },
  {
   "cell_type": "code",
   "execution_count": 548,
   "metadata": {},
   "outputs": [],
   "source": [
    "idx = np.where(pd.isnull(bam_mappings),bam_mappings,bam_mappings.astype(str))\n",
    "bam_mappings['sample_id'] = bam_mappings.index\n",
    "bam_mappings['asd'] = bam_mappings['derived_affected_status']=='autism'\n",
    "sample_df = bam_mappings.loc[df_microbe.index][['sequencing_plate', 'bio_seq_source', 'sex_numeric', \n",
    "     'asd', 'relationship', 'family', 'sample_id']].groupby(\n",
    "    ['sequencing_plate', 'bio_seq_source', 'sex_numeric', \n",
    "     'asd', 'relationship']).aggregate(lambda x: list(np.random.choice(list(x), len(list(x)), replace=True)))\n",
    "samples = np.concatenate(sample_df.reindex()['sample_id'])"
   ]
  },
  {
   "cell_type": "code",
   "execution_count": 431,
   "metadata": {},
   "outputs": [
    {
     "data": {
      "text/plain": [
       "2167"
      ]
     },
     "execution_count": 431,
     "metadata": {},
     "output_type": "execute_result"
    }
   ],
   "source": [
    "len(np.concatenate(sample_df.reset_index()['sample_id']))"
   ]
  },
  {
   "cell_type": "code",
   "execution_count": 426,
   "metadata": {},
   "outputs": [
    {
     "data": {
      "text/plain": [
       "2167"
      ]
     },
     "execution_count": 426,
     "metadata": {},
     "output_type": "execute_result"
    }
   ],
   "source": [
    "len(np.concatenate(sample_df['sample_id'].values))"
   ]
  },
  {
   "cell_type": "code",
   "execution_count": null,
   "metadata": {},
   "outputs": [],
   "source": [
    "sample_df"
   ]
  },
  {
   "cell_type": "code",
   "execution_count": 375,
   "metadata": {},
   "outputs": [
    {
     "data": {
      "text/plain": [
       "2167"
      ]
     },
     "execution_count": 375,
     "metadata": {},
     "output_type": "execute_result"
    }
   ],
   "source": [
    "samples = [a[-1] for a in sample_df.index]\n",
    "len(samples)"
   ]
  },
  {
   "cell_type": "code",
   "execution_count": 332,
   "metadata": {},
   "outputs": [
    {
     "data": {
      "text/plain": [
       "[(('MTR-01011', 'LCL', '1.0', 'autism', 'sibling'), 43),\n",
       " (('MTR-01009', 'LCL', '1.0', 'autism', 'sibling'), 42),\n",
       " (('MTR-01012', 'LCL', '1.0', 'autism', 'sibling'), 42),\n",
       " (('MTR-01019', 'LCL', '1.0', 'autism', 'sibling'), 42)]"
      ]
     },
     "execution_count": 332,
     "metadata": {},
     "output_type": "execute_result"
    }
   ],
   "source": [
    "Counter([tuple(i[1].values) for i in bam_mappings.loc[df_microbe.index][\n",
    "    ['sequencing_plate', 'bio_seq_source', 'sex_numeric', 'derived_affected_status', 'relationship']].iterrows()]).most_common(4)"
   ]
  },
  {
   "cell_type": "code",
   "execution_count": null,
   "metadata": {},
   "outputs": [],
   "source": [
    "N_BOOTS = 10\n",
    "exog = pd.get_dummies(bam_mappings.loc[df_microbe.index][['sequencing_plate', 'bio_seq_source', 'sex_numeric', 'derived_affected_status', 'relationship']], drop_first=False).astype(float)\n",
    "exog['derived_affected_status_autism'] = exog['derived_affected_status_autism'] + exog['derived_affected_status_asd']\n",
    "exog['relationship_parent'] = 1-exog['relationship_sibling']\n",
    "exog = exog.drop(['derived_affected_status_broad-spectrum', 'derived_affected_status_not-met', 'derived_affected_status_nqa','derived_affected_status_asd','relationship_mother', 'relationship_father'], axis=1) #, 'sex_numeric_1.0', 'bio_seq_source_LCL'], axis=1)\n",
    "exog['derived_affected_status_nt'] = ((exog['relationship_sibling']==1) & (exog['derived_affected_status_autism']==0))*1.0\n",
    "    \n",
    "print('Cross-validation for alpha...')\n",
    "np.random.seed(np.cumsum([ord(i) for i in COLUMN])[-1])\n",
    "endog = np.log(df_microbe[COLUMN]+1)\n",
    "lm = linear_model.LassoCV(positive=True, fit_intercept=True, cv=10)\n",
    "lm.fit(exog, endog)\n",
    "alpha = lm.alpha_\n",
    "\n",
    "def ComputeCoefficients(i):\n",
    "    np.random.seed(i)\n",
    "    new_idx = [np.random.randint(0,len(exog)) for i in endog]\n",
    "    exog_new = exog.iloc[new_idx]\n",
    "    endog_new = endog[new_idx]\n",
    "    lm = linear_model.Lasso(positive=True, fit_intercept=True, alpha=alpha)\n",
    "    lm.fit(exog_new, endog_new)\n",
    "    return lm.coef_\n",
    "\n",
    "\n",
    "print('running bootstrap')\n",
    "inputs = tqdm([i for i in range(N_BOOTS)])\n",
    "coeffs = Parallel(n_jobs=num_cores)(delayed(ComputeCoefficients)(i) for i in inputs)\n",
    "print('Computing p values...')\n",
    "pvals = [sum([c[i]==0 for c in coeffs])/N_BOOTS for i in range(len(coeffs[0]))]\n",
    "print('Writing to file...')\n",
    "with open(COEFF_OUT_DIR, 'w') as f:\n",
    "    f.write(','.join([COLUMN] + [str(p) for p in list(pvals)]) + '\\n')"
   ]
  },
  {
   "cell_type": "code",
   "execution_count": null,
   "metadata": {},
   "outputs": [],
   "source": [
    "endog = np.log10(df_microbe[[column]]+1)\n",
    "endog.columns = ['microbe']\n",
    "exog = pd.get_dummies(bam_mappings.loc[df_microbe.index][['bio_seq_source', 'sequencing_plate', 'sex_numeric', 'child', 'autism', 'family']], drop_first=False, dummy_na=True).astype(float)\n",
    "exog = exog[exog.columns[exog.sum()!=0]]\n",
    "exog_scale = pd.DataFrame(StandardScaler().fit(exog).transform(exog))\n",
    "exog_scale.columns = exog.columns\n",
    "exog_scale.index = exog.index\n",
    "exog_scale.columns = [c.replace('.', '_').replace('-', '_') for c in exog_scale.columns]\n",
    "formula = 'microbe ~ ' + ' + '.join(exog_scale.columns)\n",
    "def GetFStats(column):\n",
    "    endog = np.log10(df_microbe[[column]]+1)\n",
    "    endog.columns = ['microbe']\n",
    "    model = ols(data=endog.join(exog_scale), formula=formula).fit()\n",
    "    anova_results = anova_lm(model)\n",
    "    anova_results = anova_results['PR(>F)'][:-1]\n",
    "    return[(i,j) for i,j in zip(anova_results.index, anova_results.values)]\n",
    "\n",
    "inputs = tqdm(df_microbe[:10])\n",
    "pvals = Parallel(n_jobs=num_cores)(delayed(GetFStats)(i) for i in inputs)"
   ]
  },
  {
   "cell_type": "code",
   "execution_count": 111,
   "metadata": {},
   "outputs": [],
   "source": [
    "import sys\n",
    "sys.path.append('/home/groups/dpwall/briannac/general_scripts/plotting')\n",
    "from pvals_distribution_plots import PlotPvals\n"
   ]
  },
  {
   "cell_type": "code",
   "execution_count": 352,
   "metadata": {},
   "outputs": [
    {
     "name": "stderr",
     "output_type": "stream",
     "text": [
      "\n",
      "  0%|          | 0/84 [00:00<?, ?it/s]\u001b[A"
     ]
    },
    {
     "name": "stdout",
     "output_type": "stream",
     "text": [
      "Fuscobacterium ulcerans\n"
     ]
    },
    {
     "name": "stderr",
     "output_type": "stream",
     "text": [
      "\n",
      " 38%|███▊      | 32/84 [00:00<00:00, 196.61it/s]\u001b[A\n",
      "100%|██████████| 84/84 [00:00<00:00, 92.98it/s]\n"
     ]
    }
   ],
   "source": [
    "from joblib import Parallel, delayed\n",
    "import glob \n",
    "import multiprocessing\n",
    "import pandas as pd\n",
    "import statsmodels.api as sm\n",
    "from tqdm import tqdm\n",
    "import numpy as np\n",
    "import seaborn as sns\n",
    "import matplotlib.pyplot as plt\n",
    "\n",
    "num_cores = multiprocessing.cpu_count()\n",
    "\n",
    "COLUMN = 'Fuscobacterium ulcerans' #sys.argv[1] # Bacteria or virus name.\n",
    "MICROBE_TYPE = 'virus' #sys.argv[3] # Types of microbes.\n",
    "\n",
    "print(COLUMN)\n",
    "\n",
    "BLOOD_MICROBIOME_DIR = '/home/groups/dpwall/briannac/blood_microbiome/'\n",
    "MICROBE_FILE = BLOOD_MICROBIOME_DIR + 'data/%s_filtered.csv' % MICROBE_TYPE\n",
    "BAM_MAPPINGS_FILE = BLOOD_MICROBIOME_DIR + 'data/bam_mappings.csv'\n",
    "\n",
    "bam_mappings = pd.read_csv(BAM_MAPPINGS_FILE, sep='\\t', index_col=1)\n",
    "df_microbe = pd.read_csv(MICROBE_FILE, index_col=0)\n",
    "\n",
    "\n",
    "exog = pd.get_dummies(bam_mappings.loc[df_microbe.index][['sequencing_plate', 'bio_seq_source', 'sex_numeric', 'derived_affected_status', 'relationship']], drop_first=False).astype(float)\n",
    "exog['derived_affected_status_autism'] = exog['derived_affected_status_autism'] + exog['derived_affected_status_asd']\n",
    "exog = exog.drop(\n",
    "    ['derived_affected_status_broad-spectrum', 'derived_affected_status_not-met', 'derived_affected_status_nqa', 'derived_affected_status_asd',\n",
    "     'relationship_mother', 'relationship_father', 'sex_numeric_1.0', 'bio_seq_source_LCL'], axis=1)\n",
    "exog['derived_affected_status_autism'] = exog['derived_affected_status_autism'] + ((exog['relationship_sibling']==1) & (exog['derived_affected_status_autism']==0))*-1.0\n",
    "exog['random'] = [np.random.random() for i in range(len(exog))]\n",
    "exog_new = sm.add_constant(exog)\n",
    "def GetPvals(column):\n",
    "    endog = np.log(df_microbe[column]+1)\n",
    "    mod = sm.OLS(endog, exog_new, hasconst=True)\n",
    "    res = mod.fit()\n",
    "    return [(column,i,j,k) for i,j,k in zip(exog.columns, res.pvalues[1:], res.params)]\n",
    "\n",
    "inputs = tqdm([i for i in df_microbe.columns])\n",
    "pvals = Parallel(n_jobs=num_cores)(delayed(GetPvals)(i) for i in inputs)"
   ]
  },
  {
   "cell_type": "code",
   "execution_count": 374,
   "metadata": {},
   "outputs": [],
   "source": [
    "def correction(variable):\n",
    "    if 'family' in variable:\n",
    "        return len(np.unique(bam_mappings.loc[df_microbe.index].family))*len(df_microbe.columns)\n",
    "    elif 'sequencing_plate' in variable:\n",
    "        return len(np.unique(bam_mappings.loc[df_microbe.index].sequencing_plate))*len(df_microbe.columns)\n",
    "    else:\n",
    "        return len(df_microbe.columns)\n",
    "    \n",
    "fam_cutoff = .05/len(np.unique(bam_mappings.loc[df_microbe.index].family))/len(df_microbe.columns)\n",
    "seq_plate_cutoff = .05/len(np.unique(bam_mappings.loc[df_microbe.index].sequencing_plate))/len(df_microbe.columns)\n",
    "other_cutoff = .05/len(df_microbe.columns)\n",
    "\n",
    "pvals_concat = [(p[0],p[1],p[2],p[3]) for pval in pvals for p in pval]\n",
    "fam_hits = [p for p in pvals_concat if ((float(p[2])<fam_cutoff) & ('family' in p[1]))]\n",
    "seq_plate_hits = [p for p in pvals_concat if ((float(p[2])<seq_plate_cutoff) & ('sequencing_plate' in p[1]))]\n",
    "sex_hits = [p for p in pvals_concat if ((float(p[2])<other_cutoff) & ('sex' in p[1]))]\n",
    "asd_hits = [p for p in pvals_concat if ((float(p[2])<other_cutoff) & ('autism' in p[1]))]\n",
    "relationship_hits = [p for p in pvals_concat if ((float(p[2])<other_cutoff) & ('relationship' in p[1]))]\n",
    "bio_seq_source_hits = [p for p in pvals_concat if ((float(p[2])<other_cutoff) & ('bio_seq_source' in p[1]))]\n"
   ]
  },
  {
   "cell_type": "code",
   "execution_count": 385,
   "metadata": {},
   "outputs": [
    {
     "data": {
      "image/png": "[encoded data removed]",
      "text/plain": [
       "<Figure size 432x288 with 1 Axes>"
      ]
     },
     "metadata": {
      "needs_background": "light"
     },
     "output_type": "display_data"
    }
   ],
   "source": [
    "sns.boxplot(y=df_microbe['Tupaiid herpesvirus 1'], x=exog['sequencing_plate_MTR-01002'])\n",
    "plt.yscale('log')"
   ]
  },
  {
   "cell_type": "code",
   "execution_count": 351,
   "metadata": {},
   "outputs": [
    {
     "data": {
      "image/png": "[encoded data removed]",
      "text/plain": [
       "<Figure size 432x288 with 1 Axes>"
      ]
     },
     "metadata": {
      "needs_background": "light"
     },
     "output_type": "display_data"
    },
    {
     "name": "stderr",
     "output_type": "stream",
     "text": [
      "/home/users/briannac/.local/lib/python3.6/site-packages/ipykernel_launcher.py:7: RuntimeWarning: divide by zero encountered in log10\n",
      "  import sys\n"
     ]
    },
    {
     "data": {
      "image/png": "[encoded data removed]",
      "text/plain": [
       "<Figure size 432x288 with 1 Axes>"
      ]
     },
     "metadata": {
      "needs_background": "light"
     },
     "output_type": "display_data"
    }
   ],
   "source": [
    "from statsmodels.stats.multitest import fdrcorrection\n",
    "from scipy.stats import probplot\n",
    "from statsmodels.graphics.gofplots import qqplot\n",
    "pvals_to_plot = (np.array(sorted([float(p[2]) for p in pvals_concat if 'sequencing_plate' in p[1]])))\n",
    "PlotPvals(pvals_to_plot)\n",
    "plt.show()\n",
    "exp = -np.log10(np.linspace(0,1,len(pvals_to_plot)))\n",
    "plt.plot(exp, -np.log10(sorted(pvals_to_plot)), 'x')\n",
    "plt.plot(exp, exp, 'r-')\n",
    "plt.ylim(0, np.max(exp[1:]))\n",
    "plt.xlim(0, np.max(exp[1:]))\n",
    "plt.show()"
   ]
  },
  {
   "cell_type": "code",
   "execution_count": 259,
   "metadata": {},
   "outputs": [
    {
     "data": {
      "image/png": "[encoded data removed]",
      "text/plain": [
       "<Figure size 432x288 with 1 Axes>"
      ]
     },
     "metadata": {
      "needs_background": "light"
     },
     "output_type": "display_data"
    },
    {
     "data": {
      "image/png": "[encoded data removed]",
      "text/plain": [
       "<Figure size 432x288 with 1 Axes>"
      ]
     },
     "metadata": {
      "needs_background": "light"
     },
     "output_type": "display_data"
    }
   ],
   "source": [
    "from statsmodels.stats.multitest import fdrcorrection\n",
    "from scipy.stats import probplot\n",
    "from statsmodels.graphics.gofplots import qqplot\n",
    "pvals_to_plot = (np.array(sorted([float(p[2]) for p in pvals_concat if 'sequencing_plate' in p[1]])))\n",
    "PlotPvals(pvals_to_plot)\n",
    "plt.plot(sorted(pvals_to_plot), np.linspace(0,1,len(pvals_to_plot), 'o'))plt.show()"
   ]
  },
  {
   "cell_type": "code",
   "execution_count": 248,
   "metadata": {},
   "outputs": [
    {
     "data": {
      "image/png": "[encoded data removed]",
      "text/plain": [
       "<Figure size 432x288 with 1 Axes>"
      ]
     },
     "metadata": {
      "needs_background": "light"
     },
     "output_type": "display_data"
    },
    {
     "data": {
      "image/png": "[encoded data removed]",
      "text/plain": [
       "<Figure size 432x288 with 1 Axes>"
      ]
     },
     "metadata": {
      "needs_background": "light"
     },
     "output_type": "display_data"
    }
   ],
   "source": [
    "from statsmodels.graphics.gofplots import ProbPlot\n",
    "_,pvals_to_plot = fdrcorrection(np.array(sorted([float(p[2]) for p in pvals_concat if 'sequencing_plate' in p[1]])),method='indep')\n",
    "PlotPvals(pvals_to_plot)\n",
    "qqplot(pvals_to_plot, fit=True, line='s')\n",
    "plt.show()"
   ]
  },
  {
   "cell_type": "code",
   "execution_count": 785,
   "metadata": {},
   "outputs": [
    {
     "data": {
      "text/plain": [
       "Index(['sequencing_plate_nan', 'bio_seq_source_nan', 'sex_numeric_nan',\n",
       "       'relationship_nan'],\n",
       "      dtype='object')"
      ]
     },
     "execution_count": 785,
     "metadata": {},
     "output_type": "execute_result"
    }
   ],
   "source": [
    "exog = pd.get_dummies(bam_mappings.loc[df_microbe.index][['sequencing_plate', 'bio_seq_source', 'sex_numeric', 'derived_affected_status', 'relationship']], drop_first=False, dummy_na=True).astype(float)\n",
    "np.shape(exog)\n",
    "exog.columns[exog.sum()==0]"
   ]
  },
  {
   "cell_type": "code",
   "execution_count": 784,
   "metadata": {},
   "outputs": [
    {
     "data": {
      "text/plain": [
       "(4568, 67)"
      ]
     },
     "execution_count": 784,
     "metadata": {},
     "output_type": "execute_result"
    }
   ],
   "source": [
    "exog = exog[exog.columns[exog.sum()!=0]]\n",
    "np.shape(exog)"
   ]
  },
  {
   "cell_type": "markdown",
   "metadata": {},
   "source": [
    "# Linear regression"
   ]
  },
  {
   "cell_type": "code",
   "execution_count": 11,
   "metadata": {},
   "outputs": [
    {
     "data": {
      "text/plain": [
       "33"
      ]
     },
     "execution_count": 11,
     "metadata": {},
     "output_type": "execute_result"
    }
   ],
   "source": [
    "min(pvals)"
   ]
  },
  {
   "cell_type": "code",
   "execution_count": 8,
   "metadata": {},
   "outputs": [
    {
     "data": {
      "image/png": "[encoded data removed]",
      "text/plain": [
       "<Figure size 432x288 with 1 Axes>"
      ]
     },
     "metadata": {
      "needs_background": "light"
     },
     "output_type": "display_data"
    },
    {
     "data": {
      "image/png": "[encoded data removed]",
      "text/plain": [
       "<Figure size 432x288 with 1 Axes>"
      ]
     },
     "metadata": {
      "needs_background": "light"
     },
     "output_type": "display_data"
    },
    {
     "name": "stderr",
     "output_type": "stream",
     "text": [
      "/home/users/briannac/.local/lib/python3.6/site-packages/ipykernel_launcher.py:15: RuntimeWarning: divide by zero encountered in log10\n",
      "  from ipykernel import kernelapp as app\n",
      "/home/users/briannac/.local/lib/python3.6/site-packages/ipykernel_launcher.py:16: RuntimeWarning: divide by zero encountered in log10\n",
      "  app.launch_new_instance()\n"
     ]
    },
    {
     "data": {
      "image/png": "[encoded data removed]",
      "text/plain": [
       "<Figure size 432x288 with 1 Axes>"
      ]
     },
     "metadata": {
      "needs_background": "light"
     },
     "output_type": "display_data"
    },
    {
     "data": {
      "image/png": "[encoded data removed]",
      "text/plain": [
       "<Figure size 432x288 with 1 Axes>"
      ]
     },
     "metadata": {
      "needs_background": "light"
     },
     "output_type": "display_data"
    }
   ],
   "source": [
    "pvals_df = pd.read_csv(virus_pvals_file)\n",
    "pvals_df = pvals_df[[c for c in pvals_df.columns if '_' in c]]\n",
    "pvals = np.concatenate(pvals_df.values)\n",
    "pvals = [np.random.binomial(100,.5) for i in range(1000)]\n",
    "plt.hist(pvals, bins=20)\n",
    "plt.show()\n",
    "pvals=np.array(sorted(pvals))\n",
    "stats.probplot(100*pvals, plot=plt,dist=stats.binom(100, .5))\n",
    "plt.show()\n",
    "\n",
    "\n",
    "pvals_transformed = [2*min(stats.binom.cdf(100*p, n=100, p=.5),stats.binom.sf(100*p, n=100, p=.5))  for p in pvals]\n",
    "pvals_transformed = np.array(pvals_transformed)\n",
    "exp = np.linspace(0,1,len(pvals_transformed))\n",
    "plt.plot(-np.log10(exp), -np.log10(sorted(pvals_transformed)), 'x')\n",
    "plt.plot(-np.log10(exp), -np.log10(exp), '-r')\n",
    "plt.show()\n",
    "\n",
    "\n",
    "nn = plt.hist(pvals, bins=np.linspace(0,1,102), alpha=.5)\n",
    "exp = np.array([len(pvals)*stats.binom.cdf(100*n,n=100,p=.5) for n in nn[1]])\n",
    "exp = exp[1:]-exp[:-1]\n",
    "plt.plot((nn[1][1:]+nn[1][:-1])/2, exp)\n",
    "plt.title('Bacteria pvals')\n",
    "plt.show()"
   ]
  },
  {
   "cell_type": "code",
   "execution_count": null,
   "metadata": {},
   "outputs": [],
   "source": [
    "r, c = np.where(pvals_df>.7)"
   ]
  },
  {
   "cell_type": "code",
   "execution_count": 45,
   "metadata": {},
   "outputs": [
    {
     "name": "stdout",
     "output_type": "stream",
     "text": [
      "seq_plate 0 0\n",
      "sex_hits 0 0\n",
      "asd_hits 45 83\n",
      "bio_source_hits 0 0\n",
      "relationship_hits 1 3\n"
     ]
    }
   ],
   "source": [
    "r, c = np.where(pvals_df>.7)\n",
    "hits = [(pvals_df.index[i],pvals_df.columns[j]) for i,j in zip(r,c)]\n",
    "seq_plate_hits = [h for h in hits if 'sequencing_plate' in h[1]]\n",
    "sex_hits = [h for h in hits if 'sex_numeric' in h[1]]\n",
    "asd_hits = [h for h in hits if 'derived_affected_status' in h[1]]\n",
    "bio_source_hits = [h for h in hits if 'bio_seq_source' in h[1]]\n",
    "relationship_hits = [h for h in hits if 'relationship' in h[1]]\n",
    "for label, hh in [('seq_plate', seq_plate_hits),\n",
    "                  ('sex_hits', sex_hits),\n",
    "                  ('asd_hits', asd_hits),\n",
    "                  ('bio_source_hits', bio_source_hits),\n",
    "                  ('relationship_hits', relationship_hits)]:\n",
    "    print(label, len(Counter([h[0] for h in hh])), len(hh)) #,len(hh), len(set([h[0] for h in hh])))"
   ]
  },
  {
   "cell_type": "code",
   "execution_count": 47,
   "metadata": {},
   "outputs": [
    {
     "data": {
      "text/plain": [
       "[('Moloney murine leukemia', 'relationship_father'),\n",
       " ('Moloney murine leukemia', 'relationship_mother'),\n",
       " ('Moloney murine leukemia', 'relationship_sibling')]"
      ]
     },
     "execution_count": 47,
     "metadata": {},
     "output_type": "execute_result"
    }
   ],
   "source": [
    "relationship_hits"
   ]
  },
  {
   "cell_type": "code",
   "execution_count": 27,
   "metadata": {},
   "outputs": [
    {
     "data": {
      "text/plain": [
       "[('Human adenovirus type', 'bio_seq_source_LCL'),\n",
       " ('Human adenovirus type', 'bio_seq_source_WB')]"
      ]
     },
     "execution_count": 27,
     "metadata": {},
     "output_type": "execute_result"
    }
   ],
   "source": [
    "bio_source_hits"
   ]
  },
  {
   "cell_type": "code",
   "execution_count": 1029,
   "metadata": {},
   "outputs": [
    {
     "data": {
      "image/png": "[encoded data removed]",
      "text/plain": [
       "<Figure size 432x288 with 1 Axes>"
      ]
     },
     "metadata": {
      "needs_background": "light"
     },
     "output_type": "display_data"
    },
    {
     "data": {
      "image/png": "[encoded data removed]",
      "text/plain": [
       "<Figure size 432x288 with 1 Axes>"
      ]
     },
     "metadata": {
      "needs_background": "light"
     },
     "output_type": "display_data"
    },
    {
     "name": "stderr",
     "output_type": "stream",
     "text": [
      "/home/users/briannac/.local/lib/python3.6/site-packages/ipykernel_launcher.py:13: RuntimeWarning: divide by zero encountered in log10\n",
      "  del sys.path[0]\n",
      "/home/users/briannac/.local/lib/python3.6/site-packages/ipykernel_launcher.py:14: RuntimeWarning: divide by zero encountered in log10\n",
      "  \n"
     ]
    },
    {
     "data": {
      "image/png": "[encoded data removed]",
      "text/plain": [
       "<Figure size 432x288 with 1 Axes>"
      ]
     },
     "metadata": {
      "needs_background": "light"
     },
     "output_type": "display_data"
    }
   ],
   "source": [
    "pvals_df = pd.read_csv(virus_pvals_file)\n",
    "pvals_df = pvals_df[[c for c in pvals_df.columns if 'bio_seq_source' in c]]\n",
    "pvals = np.concatenate(pvals_df.values)\n",
    "plt.hist(pvals, bins=20)\n",
    "plt.show()\n",
    "pvals=np.array(sorted(pvals))\n",
    "stats.probplot(pvals, plot=plt,dist=stats.binom(100, .5))\n",
    "plt.show()\n",
    "\n",
    "\n",
    "pvals_transformed = [2*min(stats.binom.cdf(100*p, n=100, p=.5),stats.binom.sf(100*p, n=100, p=.5))  for p in pvals]\n",
    "exp = np.linspace(0,1,len(pvals_transformed))\n",
    "plt.plot(-np.log10(exp), -np.log10(sorted(pvals_transformed)), 'x')\n",
    "plt.plot(-np.log10(exp), -np.log10(exp), '-r')\n",
    "plt.show()"
   ]
  },
  {
   "cell_type": "code",
   "execution_count": 1017,
   "metadata": {},
   "outputs": [
    {
     "data": {
      "image/png": "[encoded data removed]",
      "text/plain": [
       "<Figure size 432x288 with 1 Axes>"
      ]
     },
     "metadata": {
      "needs_background": "light"
     },
     "output_type": "display_data"
    }
   ],
   "source": [
    "stats.probplot(100*pvals, plot=plt)#,dist=stats.binom(100, .5))\n",
    "plt.show()"
   ]
  },
  {
   "cell_type": "code",
   "execution_count": 1025,
   "metadata": {},
   "outputs": [
    {
     "data": {
      "text/plain": [
       "array([30, 30, 30, 30, 30, 30, 30])"
      ]
     },
     "execution_count": 1025,
     "metadata": {},
     "output_type": "execute_result"
    }
   ],
   "source": [
    "pvals = np.array(pvals)\n",
    "pvals[pvals<stats.binom(100,.5).ppf(.05/len(pvals))]"
   ]
  },
  {
   "cell_type": "code",
   "execution_count": 20,
   "metadata": {},
   "outputs": [
    {
     "data": {
      "image/png": "[encoded data removed]",
      "text/plain": [
       "<Figure size 432x288 with 1 Axes>"
      ]
     },
     "metadata": {
      "needs_background": "light"
     },
     "output_type": "display_data"
    }
   ],
   "source": [
    "nn = plt.hist(pvals, bins=np.linspace(0,1,102), alpha=.5)\n",
    "exp = np.array([len(pvals)*stats.binom.cdf(100*n,n=100,p=.5) for n in nn[1]])\n",
    "exp = exp[1:]-exp[:-1]\n",
    "plt.plot((nn[1][1:]+nn[1][:-1])/2, exp)\n",
    "plt.title('Bacteria pvals')\n",
    "plt.show()"
   ]
  },
  {
   "cell_type": "code",
   "execution_count": 8,
   "metadata": {},
   "outputs": [
    {
     "data": {
      "text/plain": [
       "[1, 3, 3, None, 10]"
      ]
     },
     "execution_count": 8,
     "metadata": {},
     "output_type": "execute_result"
    }
   ],
   "source": [
    "[1,3,3,None,10]"
   ]
  },
  {
   "cell_type": "code",
   "execution_count": 21,
   "metadata": {},
   "outputs": [
    {
     "name": "stdout",
     "output_type": "stream",
     "text": [
      "VIRUS\n",
      "seq_plate 0 0\n",
      "sex_hits 10 10\n",
      "asd_hits 0 0\n",
      "bio_source_hits 8 8\n",
      "relationship_hits 0 0\n"
     ]
    }
   ],
   "source": [
    "## Virus\n",
    "print('VIRUS')\n",
    "r, c = np.where((virus_pvals<(.05/(len(virus_pvals)))) | (virus_pvals>(1-.05/(len(virus_pvals)))))\n",
    "hits = [(virus_pvals.index[i],virus_pvals.columns[j]) for i,j in zip(r,c)]\n",
    "seq_plate_hits = [h for h in hits if 'sequencing_plate' in h[1]]\n",
    "sex_hits = [h for h in hits if 'sex_numeric' in h[1]]\n",
    "asd_hits = [h for h in hits if 'derived_affected_status' in h[1]]\n",
    "bio_source_hits = [h for h in hits if 'bio_seq_source' in h[1]]\n",
    "relationship_hits = [h for h in hits if 'relationship' in h[1]]\n",
    "for label, hh in [('seq_plate', seq_plate_hits),\n",
    "                  ('sex_hits', sex_hits),\n",
    "                  ('asd_hits', asd_hits),\n",
    "                  ('bio_source_hits', bio_source_hits),\n",
    "                  ('relationship_hits', relationship_hits)]:\n",
    "    print(label, len(Counter([h[0] for h in hh])), len(hh)) #,len(hh), len(set([h[0] for h in hh])))"
   ]
  },
  {
   "cell_type": "code",
   "execution_count": 32,
   "metadata": {},
   "outputs": [
    {
     "name": "stdout",
     "output_type": "stream",
     "text": [
      "bacteria\n",
      "seq_plate 0 0\n",
      "sex_hits 18 18\n",
      "asd_hits 0 0\n",
      "bio_source_hits 149 149\n",
      "relationship_hits 0 0\n"
     ]
    }
   ],
   "source": [
    "## bacteria\n",
    "print('bacteria')\n",
    "r, c = np.where((bacteria_pvals<(.05/(len(bacteria_pvals)))) | (bacteria_pvals>(1-.05/(len(bacteria_pvals)))))\n",
    "hits = [(bacteria_pvals.index[i],bacteria_pvals.columns[j], bacteria_pvals.loc[bacteria_pvals.index[i]][bacteria_pvals.columns[j]]) for i,j in zip(r,c)]\n",
    "seq_plate_hits = [h for h in hits if 'sequencing_plate' in h[1]]\n",
    "sex_hits = [h for h in hits if 'sex_numeric' in h[1]]\n",
    "asd_hits = [h for h in hits if 'derived_affected_status' in h[1]]\n",
    "bio_source_hits = [h for h in hits if 'bio_seq_source' in h[1]]\n",
    "relationship_hits = [h for h in hits if 'relationship' in h[1]]\n",
    "for label, hh in [('seq_plate', seq_plate_hits),\n",
    "                  ('sex_hits', sex_hits),\n",
    "                  ('asd_hits', asd_hits),\n",
    "                  ('bio_source_hits', bio_source_hits),\n",
    "                  ('relationship_hits', relationship_hits)]:\n",
    "    print(label, len(Counter([h[0] for h in hh])), len(hh)) #,len(hh), len(set([h[0] for h in hh])))"
   ]
  },
  {
   "cell_type": "code",
   "execution_count": 5,
   "metadata": {},
   "outputs": [],
   "source": [
    "\n",
    "BLOOD_MICROBIOME_DIR = '/home/groups/dpwall/briannac/blood_microbiome/'\n",
    "MICROBE_FILE = BLOOD_MICROBIOME_DIR + 'data/%s_filtered.csv' % 'bacteria'\n",
    "BAM_MAPPINGS_FILE = BLOOD_MICROBIOME_DIR + 'data/bam_mappings.csv'\n",
    "\n",
    "bam_mappings = pd.read_csv(BAM_MAPPINGS_FILE, sep='\\t', index_col=1)\n",
    "df_microbe = pd.read_csv(MICROBE_FILE, index_col=0)\n",
    "bam_mappings['sample_id'] = bam_mappings.index\n",
    "bam_mappings = bam_mappings.loc[df_microbe.index]"
   ]
  },
  {
   "cell_type": "code",
   "execution_count": 6,
   "metadata": {},
   "outputs": [],
   "source": [
    "pairwise_dists = pairwise_distances(df_microbe, metric='braycurtis')"
   ]
  },
  {
   "cell_type": "code",
   "execution_count": 216,
   "metadata": {},
   "outputs": [
    {
     "data": {
      "text/plain": [
       "Index(['Fusobacterium ulcerans', 'Mycobacterium tuberculosis',\n",
       "       'Cyanothece CCY0110', 'Gemmata obscuriglobus UQM',\n",
       "       'Mollicutes bacterium D7', 'Podospora anserina S', 'Burkholderia ',\n",
       "       'Leishmania infantum JPCM5', 'Candidate division TM7',\n",
       "       'Leishmania major strain',\n",
       "       ...\n",
       "       'Neisseria cinerea', 'Neisseria elongataglycolytica',\n",
       "       'Neisseria flavescens NRL30031/H210', 'Neisseria flavescens SK114',\n",
       "       'Neisseria gonorrhoeae NCCP11945', 'Neisseria lactamica',\n",
       "       'Neisseria meningitidis', 'Neisseria meningitidis MC58',\n",
       "       'Neisseria mucosa', 'Abiotrophia defectiva'],\n",
       "      dtype='object', length=588)"
      ]
     },
     "execution_count": 216,
     "metadata": {},
     "output_type": "execute_result"
    }
   ],
   "source": [
    "df_microbe.columns[np.argsort(df_microbe.apply(np.median))][::-1]"
   ]
  },
  {
   "cell_type": "code",
   "execution_count": 3,
   "metadata": {},
   "outputs": [
    {
     "name": "stdout",
     "output_type": "stream",
     "text": [
      "Ralstonia pickettii 12J\n"
     ]
    }
   ],
   "source": [
    "import pandas as pd\n",
    "import sys\n",
    "import numpy as np\n",
    "from tqdm import tqdm\n",
    "from sklearn import linear_model\n",
    "import multiprocessing\n",
    "from joblib import Parallel, delayed\n",
    "import glob \n",
    "\n",
    "num_cores = multiprocessing.cpu_count()\n",
    "\n",
    "COLUMN = \"Ralstonia pickettii 12J\" #sys.argv[1] # Bacteria or virus name.\n",
    "N_BOOTS = 20 #int(sys.argv[2]) # Number of bootstraps to run.\n",
    "MICROBE_TYPE = 'bacteria' #sys.argv[3] # Types of microbes.\n",
    "\n",
    "print(COLUMN)\n",
    "\n",
    "BLOOD_MICROBIOME_DIR = '/home/groups/dpwall/briannac/blood_microbiome/'\n",
    "MICROBE_FILE = BLOOD_MICROBIOME_DIR + 'data/%s_filtered.csv' % MICROBE_TYPE\n",
    "BAM_MAPPINGS_FILE = BLOOD_MICROBIOME_DIR + 'data/bam_mappings.csv'\n",
    "\n",
    "bam_mappings = pd.read_csv(BAM_MAPPINGS_FILE, sep='\\t', index_col=1)\n",
    "df_microbe = pd.read_csv(MICROBE_FILE, index_col=0)\n",
    "bam_mappings['sample_id'] = bam_mappings.index\n",
    "bam_mappings = bam_mappings.loc[df_microbe.index]"
   ]
  },
  {
   "cell_type": "code",
   "execution_count": 1124,
   "metadata": {},
   "outputs": [
    {
     "data": {
      "text/plain": [
       "'Streptococcus phage Abc2'"
      ]
     },
     "execution_count": 1124,
     "metadata": {},
     "output_type": "execute_result"
    }
   ],
   "source": [
    "column = df_microbe.columns[33]\n",
    "column"
   ]
  },
  {
   "cell_type": "code",
   "execution_count": 164,
   "metadata": {},
   "outputs": [],
   "source": [
    "column = 'Human herpesvirus 7'\n",
    "all_columns = ['sex_numeric', 'bio_seq_source', 'sequencing_plate', 'relationship', 'derived_affected_status', 'family']\n",
    "drop_col = 'family'\n",
    "\n",
    "reduced_cols = ['sex_numeric']#[c for c in all_columns if c!=drop_col]\n",
    "all_cols = ['sex_numeric', 'bio_seq_source'] #reduced_cols + [drop_col]\n",
    "\n",
    "endog = np.log10(df_microbe[[column]] + 1)\n",
    "endog = StandardScaler().fit(endog).transform(endog)\n",
    "# All Model\n",
    "exog = pd.get_dummies(bam_mappings.loc[df_microbe.index][all_cols], drop_first=True, dummy_na=False).astype(float)\n",
    "exog = exog[exog.columns[exog.sum()!=0]]\n",
    "#exog = StandardScaler().fit(exog).transform(exog)\n",
    "exog = sm.add_constant(exog)\n",
    "mod = sm.OLS(endog, exog, hasconst=True)\n",
    "res_all = mod.fit()"
   ]
  },
  {
   "cell_type": "code",
   "execution_count": 175,
   "metadata": {},
   "outputs": [
    {
     "name": "stderr",
     "output_type": "stream",
     "text": [
      "/home/users/briannac/.local/lib/python3.6/site-packages/scipy/stats/_distn_infrastructure.py:1932: RuntimeWarning: invalid value encountered in less_equal\n",
      "  cond2 = cond0 & (x <= _a)\n"
     ]
    },
    {
     "data": {
      "text/html": [
       "<div>\n",
       "<style scoped>\n",
       "    .dataframe tbody tr th:only-of-type {\n",
       "        vertical-align: middle;\n",
       "    }\n",
       "\n",
       "    .dataframe tbody tr th {\n",
       "        vertical-align: top;\n",
       "    }\n",
       "\n",
       "    .dataframe thead th {\n",
       "        text-align: right;\n",
       "    }\n",
       "</style>\n",
       "<table border=\"1\" class=\"dataframe\">\n",
       "  <thead>\n",
       "    <tr style=\"text-align: right;\">\n",
       "      <th></th>\n",
       "      <th>df_resid</th>\n",
       "      <th>ssr</th>\n",
       "      <th>df_diff</th>\n",
       "      <th>ss_diff</th>\n",
       "      <th>F</th>\n",
       "      <th>Pr(&gt;F)</th>\n",
       "    </tr>\n",
       "  </thead>\n",
       "  <tbody>\n",
       "    <tr>\n",
       "      <th>0</th>\n",
       "      <td>4514.0</td>\n",
       "      <td>4466.793157</td>\n",
       "      <td>0.0</td>\n",
       "      <td>NaN</td>\n",
       "      <td>NaN</td>\n",
       "      <td>NaN</td>\n",
       "    </tr>\n",
       "    <tr>\n",
       "      <th>1</th>\n",
       "      <td>4567.0</td>\n",
       "      <td>4567.907703</td>\n",
       "      <td>-53.0</td>\n",
       "      <td>-101.114546</td>\n",
       "      <td>1.907443</td>\n",
       "      <td>NaN</td>\n",
       "    </tr>\n",
       "  </tbody>\n",
       "</table>\n",
       "</div>"
      ],
      "text/plain": [
       "   df_resid          ssr  df_diff     ss_diff         F  Pr(>F)\n",
       "0    4514.0  4466.793157      0.0         NaN       NaN     NaN\n",
       "1    4567.0  4567.907703    -53.0 -101.114546  1.907443     NaN"
      ]
     },
     "execution_count": 175,
     "metadata": {},
     "output_type": "execute_result"
    }
   ],
   "source": [
    "# reduced\n",
    "exog = pd.get_dummies(bam_mappings.loc[df_microbe.index][reduced_cols], drop_first=True, dummy_na=False).astype(float)\n",
    "exog = exog[exog.columns[exog.sum()!=0]]\n",
    "#exog = StandardScaler().fit(exog).transform(exog)\n",
    "exog = sm.add_constant(exog)\n",
    "mod1 = sm.OLS(endog, exog, hasconst=True)\n",
    "res_reduced = mod1.fit()\n",
    "\n",
    "anova_results = anova_lm(res_reduced, res_all)\n",
    "anova_results"
   ]
  },
  {
   "cell_type": "code",
   "execution_count": 224,
   "metadata": {},
   "outputs": [],
   "source": [
    "import statsmodels.api as sm\n",
    "from sklearn.preprocessing import StandardScaler\n",
    "from statsmodels.stats.anova import anova_lm\n",
    "from statsmodels.formula.api import ols\n",
    "import pandas as pd\n",
    "import numpy as np\n",
    "import scipy.stats as stats\n",
    "import matplotlib.pyplot as plt\n",
    "import multiprocessing\n",
    "from joblib import Parallel, delayed\n",
    "import glob \n",
    "from tqdm import tqdm\n",
    "num_cores = multiprocessing.cpu_count()\n",
    "\n",
    "BLOOD_MICROBIOME_DIR = '/home/groups/dpwall/briannac/blood_microbiome/'\n",
    "MICROBE_FILE = BLOOD_MICROBIOME_DIR + 'data/%s_filtered.csv' % 'virus'\n",
    "df_microbe = pd.read_csv(MICROBE_FILE, index_col=0)\n",
    "\n",
    "BAM_MAPPINGS_FILE = BLOOD_MICROBIOME_DIR + 'data/bam_mappings.csv'\n",
    "bam_mappings = pd.read_csv(BAM_MAPPINGS_FILE, sep='\\t', index_col=1)\n",
    "\n",
    "pvals = []\n",
    "bam_mappings['child'] = 1.0*(bam_mappings.relationship=='sibling')\n",
    "bam_mappings['autism'] = 1.0*(bam_mappings.derived_affected_status=='autism')\n",
    "\n",
    "def ANOVA_Pvals(column):\n",
    "    endog = np.log10(df_microbe[[column]]+1)\n",
    "    endog.columns = ['microbe']\n",
    "    data = endog.join(bam_mappings.loc[df_microbe.index])\n",
    "    not_done=True\n",
    "    formula = 'microbe ~  C(bio_seq_source) + C(sequencing_plate) + C(sex_numeric) + C(child) + C(autism) + C(family)'\n",
    "    while not_done:\n",
    "        try: moore_lm = ols(formula,data=data).fit()\n",
    "        except: \n",
    "            formula = formula = 'microbe ~ ' + ' + '.join(sig_predictors[::-1])\n",
    "            moore_lm = ols(formula,data=data).fit()\n",
    "        anova_results = sm.stats.anova_lm(moore_lm, typ=2)\n",
    "        if np.mean(anova_results['PR(>F)'][:-1]<(.05/len(df_microbe)/4))==1.0:\n",
    "            not_done=False\n",
    "            return (column, anova_results)\n",
    "        else:\n",
    "            if len(anova_results)==2: return (column, [])\n",
    "            sig_predictors = list(anova_results.index[np.argsort(anova_results['PR(>F)'])])[:-2]\n",
    "            formula = 'microbe ~ ' + ' + '.join(sig_predictors)\n",
    "            \n",
    "def ANOVA_Pvals_dummy(column):\n",
    "    endog = np.log10(df_microbe[[column]]+1)\n",
    "    endog.columns = ['microbe']\n",
    "    exog = pd.get_dummies(bam_mappings.loc[df_microbe.index][all_cols], drop_first=True, dummy_na=True).astype(float)\n",
    "    exog = exog[exog.columns[exog.sum()!=0]]\n",
    "    exog_scale = pd.DataFrame(StandardScaler().fit(exog).transform(exog))\n",
    "    exog_scale.columns = exog.columns\n",
    "    exog_scale.index = exog.index\n",
    "    exog_scale = sm.add_constant(exog_scale)\n",
    "    \n",
    "    \n",
    "    data = endog.join(bam_mappings.loc[df_microbe.index])\n",
    "    not_done=True\n",
    "    formula = 'microbe ~  C(bio_seq_source) + C(sequencing_plate) + C(sex_numeric) + C(child) + C(autism) + C(family)'\n",
    "    while not_done:\n",
    "        try: moore_lm = ols(formula,data=data).fit()\n",
    "        except: \n",
    "            formula = formula = 'microbe ~ ' + ' + '.join(sig_predictors[::-1])\n",
    "            moore_lm = ols(formula,data=data).fit()\n",
    "        anova_results = sm.stats.anova_lm(moore_lm, typ=2)\n",
    "        if np.mean(anova_results['PR(>F)'][:-1]<(.05/len(df_microbe)/4))==1.0:\n",
    "            not_done=False\n",
    "            return (column, anova_results)\n",
    "        else:\n",
    "            if len(anova_results)==2: return (column, [])\n",
    "            sig_predictors = list(anova_results.index[np.argsort(anova_results['PR(>F)'])])[:-2]\n",
    "            formula = 'microbe ~ ' + ' + '.join(sig_predictors)"
   ]
  },
  {
   "cell_type": "code",
   "execution_count": 360,
   "metadata": {},
   "outputs": [],
   "source": [
    "for column in df_microbe.columns:\n",
    "endog = np.log10(df_microbe[[column]]+1)\n",
    "endog.columns = ['microbe']\n",
    "exog = pd.get_dummies(bam_mappings.loc[df_microbe.index][['bio_seq_source', 'sequencing_plate', 'sex_numeric', 'child', 'autism', 'family']], drop_first=False, dummy_na=True).astype(float)\n",
    "exog = exog[exog.columns[exog.sum()!=0]]\n",
    "exog_scale = pd.DataFrame(StandardScaler().fit(exog).transform(exog))\n",
    "exog_scale.columns = exog.columns\n",
    "exog_scale.index = exog.index\n",
    "exog_scale.columns = [c.replace('.', '_').replace('-', '_') for c in exog_scale.columns]\n",
    "formula = 'microbe ~ ' + ' + '.join(exog_scale.columns)\n",
    "model = ols(data=endog.join(exog_scale), formula=formula).fit()\n",
    "anova_results = anova_lm(model)\n",
    "anova_results = anova_results['PR(>F)'][:-1]\n",
    "pvals = pvals + [(i,j) for i,j in zip(anova_results.index, anova_results.values)]"
   ]
  },
  {
   "cell_type": "code",
   "execution_count": 348,
   "metadata": {},
   "outputs": [
    {
     "data": {
      "text/plain": [
       "(array([116.,  81.,  77.,  83.,  72.,  90.,  63.,  88.,  90., 304.]),\n",
       " array([1.01775811e-09, 1.00000001e-01, 2.00000001e-01, 3.00000001e-01,\n",
       "        4.00000001e-01, 5.00000001e-01, 6.00000000e-01, 7.00000000e-01,\n",
       "        8.00000000e-01, 9.00000000e-01, 1.00000000e+00]),\n",
       " <BarContainer object of 10 artists>)"
      ]
     },
     "execution_count": 348,
     "metadata": {},
     "output_type": "execute_result"
    },
    {
     "data": {
      "image/png": "[encoded data removed]",
      "text/plain": [
       "<Figure size 432x288 with 1 Axes>"
      ]
     },
     "metadata": {
      "needs_background": "light"
     },
     "output_type": "display_data"
    }
   ],
   "source": [
    "plt.hist(anova_results.values)"
   ]
  },
  {
   "cell_type": "code",
   "execution_count": 361,
   "metadata": {},
   "outputs": [],
   "source": [
    "pvals = [(i,j) for i,j in zip(anova_results.index, anova_results.values)]"
   ]
  },
  {
   "cell_type": "code",
   "execution_count": 362,
   "metadata": {},
   "outputs": [
    {
     "data": {
      "text/plain": [
       "(array([22.,  7.,  2.,  6.,  4.,  3.,  4.,  1.,  3.,  2.]),\n",
       " array([0.0024404 , 0.10214143, 0.20184246, 0.30154349, 0.40124453,\n",
       "        0.50094556, 0.60064659, 0.70034762, 0.80004865, 0.89974969,\n",
       "        0.99945072]),\n",
       " <BarContainer object of 10 artists>)"
      ]
     },
     "execution_count": 362,
     "metadata": {},
     "output_type": "execute_result"
    },
    {
     "data": {
      "image/png": "[encoded data removed]",
      "text/plain": [
       "<Figure size 432x288 with 1 Axes>"
      ]
     },
     "metadata": {
      "needs_background": "light"
     },
     "output_type": "display_data"
    }
   ],
   "source": [
    "plt.hist([p[1] for p in vals if 'sequencing' in p[0]])"
   ]
  },
  {
   "cell_type": "code",
   "execution_count": 271,
   "metadata": {},
   "outputs": [],
   "source": [
    "model = ols(data=endog.join(exog_scale), formula=formula).fit()\n"
   ]
  },
  {
   "cell_type": "code",
   "execution_count": 320,
   "metadata": {},
   "outputs": [
    {
     "data": {
      "text/plain": [
       "Index(['family_AU4105', 'family_AU3684', 'family_AU1796', 'family_AU1423',\n",
       "       'family_AU0201', 'family_AU0132', 'family_AU1916', 'family_AU1553',\n",
       "       'family_AU0325', 'family_AU0980',\n",
       "       ...\n",
       "       'family_AU1054', 'family_AU1940', 'family_AU1824', 'family_AU1181',\n",
       "       'family_AU2038', 'family_AU1414', 'family_AU3858', 'family_AU0208',\n",
       "       'family_AU1500', 'family_AU0598'],\n",
       "      dtype='object', length=1059)"
      ]
     },
     "execution_count": 320,
     "metadata": {},
     "output_type": "execute_result"
    }
   ],
   "source": [
    "new_samples = anova_results.sort_values('PR(>F)', ascending=False).index[1:-1]\n",
    "new_samples"
   ]
  },
  {
   "cell_type": "code",
   "execution_count": 274,
   "metadata": {},
   "outputs": [],
   "source": [
    "anova_results = anova_lm(model)"
   ]
  },
  {
   "cell_type": "code",
   "execution_count": 315,
   "metadata": {},
   "outputs": [
    {
     "ename": "KeyboardInterrupt",
     "evalue": "",
     "output_type": "error",
     "traceback": [
      "\u001b[0;31m---------------------------------------------------------------------------\u001b[0m",
      "\u001b[0;31mKeyboardInterrupt\u001b[0m                         Traceback (most recent call last)",
      "\u001b[0;32m<ipython-input-315-f9761003a840>\u001b[0m in \u001b[0;36m<module>\u001b[0;34m\u001b[0m\n\u001b[0;32m----> 1\u001b[0;31m \u001b[0;32mwhile\u001b[0m \u001b[0mnp\u001b[0m\u001b[0;34m.\u001b[0m\u001b[0msum\u001b[0m\u001b[0;34m(\u001b[0m\u001b[0manova_results\u001b[0m\u001b[0;34m[\u001b[0m\u001b[0;34m'PR(>F)'\u001b[0m\u001b[0;34m]\u001b[0m\u001b[0;34m[\u001b[0m\u001b[0;34m:\u001b[0m\u001b[0;34m-\u001b[0m\u001b[0;36m1\u001b[0m\u001b[0;34m]\u001b[0m\u001b[0;34m>\u001b[0m\u001b[0;34m(\u001b[0m\u001b[0;36m.05\u001b[0m\u001b[0;34m/\u001b[0m\u001b[0mlen\u001b[0m\u001b[0;34m(\u001b[0m\u001b[0mdf_microbe\u001b[0m\u001b[0;34m)\u001b[0m\u001b[0;34m)\u001b[0m\u001b[0;34m)\u001b[0m\u001b[0;34m>\u001b[0m\u001b[0;36m0\u001b[0m\u001b[0;34m:\u001b[0m\u001b[0;34m\u001b[0m\u001b[0m\n\u001b[0m\u001b[1;32m      2\u001b[0m     \u001b[0manova_results\u001b[0m\u001b[0;34m.\u001b[0m\u001b[0msort_values\u001b[0m\u001b[0;34m(\u001b[0m\u001b[0;34m'PR(>F)'\u001b[0m\u001b[0;34m,\u001b[0m \u001b[0mascending\u001b[0m\u001b[0;34m=\u001b[0m\u001b[0;32mFalse\u001b[0m\u001b[0;34m)\u001b[0m\u001b[0;34m.\u001b[0m\u001b[0mindex\u001b[0m\u001b[0;34m[\u001b[0m\u001b[0;36m0\u001b[0m\u001b[0;34m]\u001b[0m\u001b[0;34m\u001b[0m\u001b[0m\n",
      "\u001b[0;32m~/.local/lib/python3.6/site-packages/pandas/core/ops/common.py\u001b[0m in \u001b[0;36mnew_method\u001b[0;34m(self, other)\u001b[0m\n\u001b[1;32m     62\u001b[0m         \u001b[0mother\u001b[0m \u001b[0;34m=\u001b[0m \u001b[0mitem_from_zerodim\u001b[0m\u001b[0;34m(\u001b[0m\u001b[0mother\u001b[0m\u001b[0;34m)\u001b[0m\u001b[0;34m\u001b[0m\u001b[0m\n\u001b[1;32m     63\u001b[0m \u001b[0;34m\u001b[0m\u001b[0m\n\u001b[0;32m---> 64\u001b[0;31m         \u001b[0;32mreturn\u001b[0m \u001b[0mmethod\u001b[0m\u001b[0;34m(\u001b[0m\u001b[0mself\u001b[0m\u001b[0;34m,\u001b[0m \u001b[0mother\u001b[0m\u001b[0;34m)\u001b[0m\u001b[0;34m\u001b[0m\u001b[0m\n\u001b[0m\u001b[1;32m     65\u001b[0m \u001b[0;34m\u001b[0m\u001b[0m\n\u001b[1;32m     66\u001b[0m     \u001b[0;32mreturn\u001b[0m \u001b[0mnew_method\u001b[0m\u001b[0;34m\u001b[0m\u001b[0m\n",
      "\u001b[0;32m~/.local/lib/python3.6/site-packages/pandas/core/ops/__init__.py\u001b[0m in \u001b[0;36mwrapper\u001b[0;34m(self, other)\u001b[0m\n\u001b[1;32m    527\u001b[0m         \u001b[0mrvalues\u001b[0m \u001b[0;34m=\u001b[0m \u001b[0mextract_array\u001b[0m\u001b[0;34m(\u001b[0m\u001b[0mother\u001b[0m\u001b[0;34m,\u001b[0m \u001b[0mextract_numpy\u001b[0m\u001b[0;34m=\u001b[0m\u001b[0;32mTrue\u001b[0m\u001b[0;34m)\u001b[0m\u001b[0;34m\u001b[0m\u001b[0m\n\u001b[1;32m    528\u001b[0m \u001b[0;34m\u001b[0m\u001b[0m\n\u001b[0;32m--> 529\u001b[0;31m         \u001b[0mres_values\u001b[0m \u001b[0;34m=\u001b[0m \u001b[0mcomparison_op\u001b[0m\u001b[0;34m(\u001b[0m\u001b[0mlvalues\u001b[0m\u001b[0;34m,\u001b[0m \u001b[0mrvalues\u001b[0m\u001b[0;34m,\u001b[0m \u001b[0mop\u001b[0m\u001b[0;34m)\u001b[0m\u001b[0;34m\u001b[0m\u001b[0m\n\u001b[0m\u001b[1;32m    530\u001b[0m \u001b[0;34m\u001b[0m\u001b[0m\n\u001b[1;32m    531\u001b[0m         \u001b[0;32mreturn\u001b[0m \u001b[0m_construct_result\u001b[0m\u001b[0;34m(\u001b[0m\u001b[0mself\u001b[0m\u001b[0;34m,\u001b[0m \u001b[0mres_values\u001b[0m\u001b[0;34m,\u001b[0m \u001b[0mindex\u001b[0m\u001b[0;34m=\u001b[0m\u001b[0mself\u001b[0m\u001b[0;34m.\u001b[0m\u001b[0mindex\u001b[0m\u001b[0;34m,\u001b[0m \u001b[0mname\u001b[0m\u001b[0;34m=\u001b[0m\u001b[0mres_name\u001b[0m\u001b[0;34m)\u001b[0m\u001b[0;34m\u001b[0m\u001b[0m\n",
      "\u001b[0;32m~/.local/lib/python3.6/site-packages/pandas/core/ops/array_ops.py\u001b[0m in \u001b[0;36mcomparison_op\u001b[0;34m(left, right, op)\u001b[0m\n\u001b[1;32m    251\u001b[0m         \u001b[0mmethod\u001b[0m \u001b[0;34m=\u001b[0m \u001b[0mgetattr\u001b[0m\u001b[0;34m(\u001b[0m\u001b[0mlvalues\u001b[0m\u001b[0;34m,\u001b[0m \u001b[0mop_name\u001b[0m\u001b[0;34m)\u001b[0m\u001b[0;34m\u001b[0m\u001b[0m\n\u001b[1;32m    252\u001b[0m         \u001b[0;32mwith\u001b[0m \u001b[0mnp\u001b[0m\u001b[0;34m.\u001b[0m\u001b[0merrstate\u001b[0m\u001b[0;34m(\u001b[0m\u001b[0mall\u001b[0m\u001b[0;34m=\u001b[0m\u001b[0;34m\"ignore\"\u001b[0m\u001b[0;34m)\u001b[0m\u001b[0;34m:\u001b[0m\u001b[0;34m\u001b[0m\u001b[0m\n\u001b[0;32m--> 253\u001b[0;31m             \u001b[0mres_values\u001b[0m \u001b[0;34m=\u001b[0m \u001b[0mmethod\u001b[0m\u001b[0;34m(\u001b[0m\u001b[0mrvalues\u001b[0m\u001b[0;34m)\u001b[0m\u001b[0;34m\u001b[0m\u001b[0m\n\u001b[0m\u001b[1;32m    254\u001b[0m \u001b[0;34m\u001b[0m\u001b[0m\n\u001b[1;32m    255\u001b[0m         \u001b[0;32mif\u001b[0m \u001b[0mres_values\u001b[0m \u001b[0;32mis\u001b[0m \u001b[0mNotImplemented\u001b[0m\u001b[0;34m:\u001b[0m\u001b[0;34m\u001b[0m\u001b[0m\n",
      "\u001b[0;32m~/.local/lib/python3.6/site-packages/numpy/core/numeric.py\u001b[0m in \u001b[0;36m__exit__\u001b[0;34m(self, *exc_info)\u001b[0m\n\u001b[1;32m   3062\u001b[0m \u001b[0;34m\u001b[0m\u001b[0m\n\u001b[1;32m   3063\u001b[0m     \u001b[0;32mdef\u001b[0m \u001b[0m__exit__\u001b[0m\u001b[0;34m(\u001b[0m\u001b[0mself\u001b[0m\u001b[0;34m,\u001b[0m \u001b[0;34m*\u001b[0m\u001b[0mexc_info\u001b[0m\u001b[0;34m)\u001b[0m\u001b[0;34m:\u001b[0m\u001b[0;34m\u001b[0m\u001b[0m\n\u001b[0;32m-> 3064\u001b[0;31m         \u001b[0mseterr\u001b[0m\u001b[0;34m(\u001b[0m\u001b[0;34m**\u001b[0m\u001b[0mself\u001b[0m\u001b[0;34m.\u001b[0m\u001b[0moldstate\u001b[0m\u001b[0;34m)\u001b[0m\u001b[0;34m\u001b[0m\u001b[0m\n\u001b[0m\u001b[1;32m   3065\u001b[0m         \u001b[0;32mif\u001b[0m \u001b[0mself\u001b[0m\u001b[0;34m.\u001b[0m\u001b[0mcall\u001b[0m \u001b[0;32mis\u001b[0m \u001b[0;32mnot\u001b[0m \u001b[0m_Unspecified\u001b[0m\u001b[0;34m:\u001b[0m\u001b[0;34m\u001b[0m\u001b[0m\n\u001b[1;32m   3066\u001b[0m             \u001b[0mseterrcall\u001b[0m\u001b[0;34m(\u001b[0m\u001b[0mself\u001b[0m\u001b[0;34m.\u001b[0m\u001b[0moldcall\u001b[0m\u001b[0;34m)\u001b[0m\u001b[0;34m\u001b[0m\u001b[0m\n",
      "\u001b[0;32m~/.local/lib/python3.6/site-packages/numpy/core/numeric.py\u001b[0m in \u001b[0;36mseterr\u001b[0;34m(all, divide, over, under, invalid)\u001b[0m\n\u001b[1;32m   2752\u001b[0m \u001b[0;34m\u001b[0m\u001b[0m\n\u001b[1;32m   2753\u001b[0m     \u001b[0mpyvals\u001b[0m\u001b[0;34m[\u001b[0m\u001b[0;36m1\u001b[0m\u001b[0;34m]\u001b[0m \u001b[0;34m=\u001b[0m \u001b[0mmaskvalue\u001b[0m\u001b[0;34m\u001b[0m\u001b[0m\n\u001b[0;32m-> 2754\u001b[0;31m     \u001b[0mumath\u001b[0m\u001b[0;34m.\u001b[0m\u001b[0mseterrobj\u001b[0m\u001b[0;34m(\u001b[0m\u001b[0mpyvals\u001b[0m\u001b[0;34m)\u001b[0m\u001b[0;34m\u001b[0m\u001b[0m\n\u001b[0m\u001b[1;32m   2755\u001b[0m     \u001b[0;32mreturn\u001b[0m \u001b[0mold\u001b[0m\u001b[0;34m\u001b[0m\u001b[0m\n\u001b[1;32m   2756\u001b[0m \u001b[0;34m\u001b[0m\u001b[0m\n",
      "\u001b[0;31mKeyboardInterrupt\u001b[0m: "
     ]
    }
   ],
   "source": [
    "while np.sum(anova_results['PR(>F)'][:-1]>(.05/len(df_microbe)))>0:\n",
    "    new_samples = anova_results.sort_values('PR(>F)', ascending=False).index[1:0]"
   ]
  },
  {
   "cell_type": "code",
   "execution_count": 314,
   "metadata": {},
   "outputs": [
    {
     "data": {
      "text/plain": [
       "Index(['family_AU4138', 'family_AU4105', 'family_AU3684', 'family_AU1796',\n",
       "       'family_AU1423', 'family_AU0201', 'family_AU0132', 'family_AU1916',\n",
       "       'family_AU1553', 'family_AU0325',\n",
       "       ...\n",
       "       'family_AU1940', 'family_AU1824', 'family_AU1181', 'family_AU2038',\n",
       "       'family_AU1414', 'family_AU3858', 'family_AU0208', 'family_AU1500',\n",
       "       'family_AU0598', 'Residual'],\n",
       "      dtype='object', length=1061)"
      ]
     },
     "execution_count": 314,
     "metadata": {},
     "output_type": "execute_result"
    }
   ],
   "source": [
    "anova_results.sort_values('PR(>F)', ascending=False).index"
   ]
  },
  {
   "cell_type": "code",
   "execution_count": 304,
   "metadata": {},
   "outputs": [
    {
     "data": {
      "text/plain": [
       "<AxesSubplot:xlabel='family_AU0598', ylabel='microbe'>"
      ]
     },
     "execution_count": 304,
     "metadata": {},
     "output_type": "execute_result"
    },
    {
     "data": {
      "image/png": "[encoded data removed]",
      "text/plain": [
       "<Figure size 432x288 with 1 Axes>"
      ]
     },
     "metadata": {
      "needs_background": "light"
     },
     "output_type": "display_data"
    }
   ],
   "source": [
    "import seaborn as sns\n",
    "sns.stripplot(y=endog['microbe'], x=exog['family_AU0598'])"
   ]
  },
  {
   "cell_type": "code",
   "execution_count": 214,
   "metadata": {},
   "outputs": [],
   "source": [
    "endog = np.log10(df_microbe[[column]]+1)\n",
    "endog.columns = ['microbe']\n",
    "formula='microbe ~ C(bio_seq_source) + C(family)'\n",
    "data = endog.join(bam_mappings.loc[df_microbe.index])\n",
    "a = ols(formula,data=data, missing='drop').fit()"
   ]
  },
  {
   "cell_type": "code",
   "execution_count": 200,
   "metadata": {},
   "outputs": [
    {
     "data": {
      "text/html": [
       "<div>\n",
       "<style scoped>\n",
       "    .dataframe tbody tr th:only-of-type {\n",
       "        vertical-align: middle;\n",
       "    }\n",
       "\n",
       "    .dataframe tbody tr th {\n",
       "        vertical-align: top;\n",
       "    }\n",
       "\n",
       "    .dataframe thead th {\n",
       "        text-align: right;\n",
       "    }\n",
       "</style>\n",
       "<table border=\"1\" class=\"dataframe\">\n",
       "  <thead>\n",
       "    <tr style=\"text-align: right;\">\n",
       "      <th></th>\n",
       "      <th>microbe</th>\n",
       "      <th>status</th>\n",
       "      <th>participant_id</th>\n",
       "      <th>family</th>\n",
       "      <th>AGRE Blood</th>\n",
       "      <th>NIMH Blood</th>\n",
       "      <th>relationship</th>\n",
       "      <th>FatherID</th>\n",
       "      <th>MotherID</th>\n",
       "      <th>sex_numeric</th>\n",
       "      <th>...</th>\n",
       "      <th>number_of_heterozygous_snvs</th>\n",
       "      <th>het_to_hom_ratio</th>\n",
       "      <th>ti_tv_ratio</th>\n",
       "      <th>dbsnp_overlap</th>\n",
       "      <th>concordance_with_genotyping_chip</th>\n",
       "      <th>cryptic_relatedness_check</th>\n",
       "      <th>family_based_average_coverage</th>\n",
       "      <th>familial_relationship_check</th>\n",
       "      <th>child</th>\n",
       "      <th>autism</th>\n",
       "    </tr>\n",
       "    <tr>\n",
       "      <th>sample</th>\n",
       "      <th></th>\n",
       "      <th></th>\n",
       "      <th></th>\n",
       "      <th></th>\n",
       "      <th></th>\n",
       "      <th></th>\n",
       "      <th></th>\n",
       "      <th></th>\n",
       "      <th></th>\n",
       "      <th></th>\n",
       "      <th></th>\n",
       "      <th></th>\n",
       "      <th></th>\n",
       "      <th></th>\n",
       "      <th></th>\n",
       "      <th></th>\n",
       "      <th></th>\n",
       "      <th></th>\n",
       "      <th></th>\n",
       "      <th></th>\n",
       "      <th></th>\n",
       "    </tr>\n",
       "  </thead>\n",
       "  <tbody>\n",
       "    <tr>\n",
       "      <th>02C10540</th>\n",
       "      <td>0.0</td>\n",
       "      <td>Passed_QC_analysis_ready</td>\n",
       "      <td>AU1005201</td>\n",
       "      <td>AU1005</td>\n",
       "      <td>HI2393</td>\n",
       "      <td>02C10540</td>\n",
       "      <td>father</td>\n",
       "      <td>0</td>\n",
       "      <td>0</td>\n",
       "      <td>1.0</td>\n",
       "      <td>...</td>\n",
       "      <td>NaN</td>\n",
       "      <td>NaN</td>\n",
       "      <td>NaN</td>\n",
       "      <td>NaN</td>\n",
       "      <td>NaN</td>\n",
       "      <td>NaN</td>\n",
       "      <td>NaN</td>\n",
       "      <td>NaN</td>\n",
       "      <td>0.0</td>\n",
       "      <td>0.0</td>\n",
       "    </tr>\n",
       "    <tr>\n",
       "      <th>02C10541</th>\n",
       "      <td>0.0</td>\n",
       "      <td>Passed_QC_analysis_ready</td>\n",
       "      <td>AU1005202</td>\n",
       "      <td>AU1005</td>\n",
       "      <td>HI2394</td>\n",
       "      <td>02C10541</td>\n",
       "      <td>mother</td>\n",
       "      <td>0</td>\n",
       "      <td>0</td>\n",
       "      <td>2.0</td>\n",
       "      <td>...</td>\n",
       "      <td>NaN</td>\n",
       "      <td>NaN</td>\n",
       "      <td>NaN</td>\n",
       "      <td>NaN</td>\n",
       "      <td>NaN</td>\n",
       "      <td>NaN</td>\n",
       "      <td>NaN</td>\n",
       "      <td>NaN</td>\n",
       "      <td>0.0</td>\n",
       "      <td>0.0</td>\n",
       "    </tr>\n",
       "    <tr>\n",
       "      <th>02C10542</th>\n",
       "      <td>0.0</td>\n",
       "      <td>Passed_QC_analysis_ready</td>\n",
       "      <td>AU1005302</td>\n",
       "      <td>AU1005</td>\n",
       "      <td>HI2395</td>\n",
       "      <td>02C10542</td>\n",
       "      <td>sibling</td>\n",
       "      <td>AU1005201</td>\n",
       "      <td>AU1005202</td>\n",
       "      <td>2.0</td>\n",
       "      <td>...</td>\n",
       "      <td>NaN</td>\n",
       "      <td>NaN</td>\n",
       "      <td>NaN</td>\n",
       "      <td>NaN</td>\n",
       "      <td>NaN</td>\n",
       "      <td>NaN</td>\n",
       "      <td>NaN</td>\n",
       "      <td>NaN</td>\n",
       "      <td>1.0</td>\n",
       "      <td>0.0</td>\n",
       "    </tr>\n",
       "    <tr>\n",
       "      <th>02C10543</th>\n",
       "      <td>0.0</td>\n",
       "      <td>Passed_QC_analysis_ready</td>\n",
       "      <td>AU1005301</td>\n",
       "      <td>AU1005</td>\n",
       "      <td>HI2396</td>\n",
       "      <td>02C10543</td>\n",
       "      <td>sibling</td>\n",
       "      <td>AU1005201</td>\n",
       "      <td>AU1005202</td>\n",
       "      <td>1.0</td>\n",
       "      <td>...</td>\n",
       "      <td>NaN</td>\n",
       "      <td>NaN</td>\n",
       "      <td>NaN</td>\n",
       "      <td>NaN</td>\n",
       "      <td>NaN</td>\n",
       "      <td>NaN</td>\n",
       "      <td>NaN</td>\n",
       "      <td>NaN</td>\n",
       "      <td>1.0</td>\n",
       "      <td>1.0</td>\n",
       "    </tr>\n",
       "    <tr>\n",
       "      <th>02C10702</th>\n",
       "      <td>0.0</td>\n",
       "      <td>Passed_QC_analysis_ready</td>\n",
       "      <td>AU1004202</td>\n",
       "      <td>AU1004</td>\n",
       "      <td>HI2397</td>\n",
       "      <td>02C10702</td>\n",
       "      <td>mother</td>\n",
       "      <td>0</td>\n",
       "      <td>0</td>\n",
       "      <td>2.0</td>\n",
       "      <td>...</td>\n",
       "      <td>NaN</td>\n",
       "      <td>NaN</td>\n",
       "      <td>NaN</td>\n",
       "      <td>NaN</td>\n",
       "      <td>NaN</td>\n",
       "      <td>NaN</td>\n",
       "      <td>NaN</td>\n",
       "      <td>NaN</td>\n",
       "      <td>0.0</td>\n",
       "      <td>0.0</td>\n",
       "    </tr>\n",
       "    <tr>\n",
       "      <th>...</th>\n",
       "      <td>...</td>\n",
       "      <td>...</td>\n",
       "      <td>...</td>\n",
       "      <td>...</td>\n",
       "      <td>...</td>\n",
       "      <td>...</td>\n",
       "      <td>...</td>\n",
       "      <td>...</td>\n",
       "      <td>...</td>\n",
       "      <td>...</td>\n",
       "      <td>...</td>\n",
       "      <td>...</td>\n",
       "      <td>...</td>\n",
       "      <td>...</td>\n",
       "      <td>...</td>\n",
       "      <td>...</td>\n",
       "      <td>...</td>\n",
       "      <td>...</td>\n",
       "      <td>...</td>\n",
       "      <td>...</td>\n",
       "      <td>...</td>\n",
       "    </tr>\n",
       "    <tr>\n",
       "      <th>MH0143008</th>\n",
       "      <td>0.0</td>\n",
       "      <td>Passed_QC_analysis_ready</td>\n",
       "      <td>AU3859201</td>\n",
       "      <td>AU3859</td>\n",
       "      <td>HI11780</td>\n",
       "      <td>MH0143008</td>\n",
       "      <td>father</td>\n",
       "      <td>0</td>\n",
       "      <td>0</td>\n",
       "      <td>1.0</td>\n",
       "      <td>...</td>\n",
       "      <td>NaN</td>\n",
       "      <td>NaN</td>\n",
       "      <td>NaN</td>\n",
       "      <td>NaN</td>\n",
       "      <td>NaN</td>\n",
       "      <td>NaN</td>\n",
       "      <td>NaN</td>\n",
       "      <td>NaN</td>\n",
       "      <td>0.0</td>\n",
       "      <td>0.0</td>\n",
       "    </tr>\n",
       "    <tr>\n",
       "      <th>MH0143009</th>\n",
       "      <td>0.0</td>\n",
       "      <td>Passed_QC_analysis_ready</td>\n",
       "      <td>AU3859202</td>\n",
       "      <td>AU3859</td>\n",
       "      <td>HI11781</td>\n",
       "      <td>MH0143009</td>\n",
       "      <td>mother</td>\n",
       "      <td>0</td>\n",
       "      <td>0</td>\n",
       "      <td>2.0</td>\n",
       "      <td>...</td>\n",
       "      <td>NaN</td>\n",
       "      <td>NaN</td>\n",
       "      <td>NaN</td>\n",
       "      <td>NaN</td>\n",
       "      <td>NaN</td>\n",
       "      <td>NaN</td>\n",
       "      <td>NaN</td>\n",
       "      <td>NaN</td>\n",
       "      <td>0.0</td>\n",
       "      <td>0.0</td>\n",
       "    </tr>\n",
       "    <tr>\n",
       "      <th>MH0143013</th>\n",
       "      <td>0.0</td>\n",
       "      <td>Passed_QC_analysis_ready</td>\n",
       "      <td>AU3859303</td>\n",
       "      <td>AU3859</td>\n",
       "      <td>HI11784</td>\n",
       "      <td>MH0143013</td>\n",
       "      <td>sibling</td>\n",
       "      <td>AU3859201</td>\n",
       "      <td>AU3859202</td>\n",
       "      <td>1.0</td>\n",
       "      <td>...</td>\n",
       "      <td>NaN</td>\n",
       "      <td>NaN</td>\n",
       "      <td>NaN</td>\n",
       "      <td>NaN</td>\n",
       "      <td>NaN</td>\n",
       "      <td>NaN</td>\n",
       "      <td>NaN</td>\n",
       "      <td>NaN</td>\n",
       "      <td>1.0</td>\n",
       "      <td>0.0</td>\n",
       "    </tr>\n",
       "    <tr>\n",
       "      <th>MH0143018</th>\n",
       "      <td>0.0</td>\n",
       "      <td>Passed_QC_analysis_ready</td>\n",
       "      <td>AU3859301</td>\n",
       "      <td>AU3859</td>\n",
       "      <td>HI11782</td>\n",
       "      <td>MH0143018</td>\n",
       "      <td>sibling</td>\n",
       "      <td>AU3859201</td>\n",
       "      <td>AU3859202</td>\n",
       "      <td>1.0</td>\n",
       "      <td>...</td>\n",
       "      <td>NaN</td>\n",
       "      <td>NaN</td>\n",
       "      <td>NaN</td>\n",
       "      <td>NaN</td>\n",
       "      <td>NaN</td>\n",
       "      <td>NaN</td>\n",
       "      <td>NaN</td>\n",
       "      <td>NaN</td>\n",
       "      <td>1.0</td>\n",
       "      <td>1.0</td>\n",
       "    </tr>\n",
       "    <tr>\n",
       "      <th>MH0143019</th>\n",
       "      <td>0.0</td>\n",
       "      <td>Passed_QC_analysis_ready</td>\n",
       "      <td>AU3859302</td>\n",
       "      <td>AU3859</td>\n",
       "      <td>HI11783</td>\n",
       "      <td>MH0143019</td>\n",
       "      <td>sibling</td>\n",
       "      <td>AU3859201</td>\n",
       "      <td>AU3859202</td>\n",
       "      <td>2.0</td>\n",
       "      <td>...</td>\n",
       "      <td>NaN</td>\n",
       "      <td>NaN</td>\n",
       "      <td>NaN</td>\n",
       "      <td>NaN</td>\n",
       "      <td>NaN</td>\n",
       "      <td>NaN</td>\n",
       "      <td>NaN</td>\n",
       "      <td>NaN</td>\n",
       "      <td>1.0</td>\n",
       "      <td>1.0</td>\n",
       "    </tr>\n",
       "  </tbody>\n",
       "</table>\n",
       "<p>4568 rows × 76 columns</p>\n",
       "</div>"
      ],
      "text/plain": [
       "           microbe                    status participant_id  family  \\\n",
       "sample                                                                \n",
       "02C10540       0.0  Passed_QC_analysis_ready      AU1005201  AU1005   \n",
       "02C10541       0.0  Passed_QC_analysis_ready      AU1005202  AU1005   \n",
       "02C10542       0.0  Passed_QC_analysis_ready      AU1005302  AU1005   \n",
       "02C10543       0.0  Passed_QC_analysis_ready      AU1005301  AU1005   \n",
       "02C10702       0.0  Passed_QC_analysis_ready      AU1004202  AU1004   \n",
       "...            ...                       ...            ...     ...   \n",
       "MH0143008      0.0  Passed_QC_analysis_ready      AU3859201  AU3859   \n",
       "MH0143009      0.0  Passed_QC_analysis_ready      AU3859202  AU3859   \n",
       "MH0143013      0.0  Passed_QC_analysis_ready      AU3859303  AU3859   \n",
       "MH0143018      0.0  Passed_QC_analysis_ready      AU3859301  AU3859   \n",
       "MH0143019      0.0  Passed_QC_analysis_ready      AU3859302  AU3859   \n",
       "\n",
       "          AGRE Blood NIMH Blood relationship   FatherID   MotherID  \\\n",
       "sample                                                               \n",
       "02C10540      HI2393   02C10540       father          0          0   \n",
       "02C10541      HI2394   02C10541       mother          0          0   \n",
       "02C10542      HI2395   02C10542      sibling  AU1005201  AU1005202   \n",
       "02C10543      HI2396   02C10543      sibling  AU1005201  AU1005202   \n",
       "02C10702      HI2397   02C10702       mother          0          0   \n",
       "...              ...        ...          ...        ...        ...   \n",
       "MH0143008    HI11780  MH0143008       father          0          0   \n",
       "MH0143009    HI11781  MH0143009       mother          0          0   \n",
       "MH0143013    HI11784  MH0143013      sibling  AU3859201  AU3859202   \n",
       "MH0143018    HI11782  MH0143018      sibling  AU3859201  AU3859202   \n",
       "MH0143019    HI11783  MH0143019      sibling  AU3859201  AU3859202   \n",
       "\n",
       "          sex_numeric  ... number_of_heterozygous_snvs het_to_hom_ratio  \\\n",
       "sample                 ...                                                \n",
       "02C10540          1.0  ...                         NaN              NaN   \n",
       "02C10541          2.0  ...                         NaN              NaN   \n",
       "02C10542          2.0  ...                         NaN              NaN   \n",
       "02C10543          1.0  ...                         NaN              NaN   \n",
       "02C10702          2.0  ...                         NaN              NaN   \n",
       "...               ...  ...                         ...              ...   \n",
       "MH0143008         1.0  ...                         NaN              NaN   \n",
       "MH0143009         2.0  ...                         NaN              NaN   \n",
       "MH0143013         1.0  ...                         NaN              NaN   \n",
       "MH0143018         1.0  ...                         NaN              NaN   \n",
       "MH0143019         2.0  ...                         NaN              NaN   \n",
       "\n",
       "           ti_tv_ratio dbsnp_overlap concordance_with_genotyping_chip  \\\n",
       "sample                                                                  \n",
       "02C10540           NaN           NaN                              NaN   \n",
       "02C10541           NaN           NaN                              NaN   \n",
       "02C10542           NaN           NaN                              NaN   \n",
       "02C10543           NaN           NaN                              NaN   \n",
       "02C10702           NaN           NaN                              NaN   \n",
       "...                ...           ...                              ...   \n",
       "MH0143008          NaN           NaN                              NaN   \n",
       "MH0143009          NaN           NaN                              NaN   \n",
       "MH0143013          NaN           NaN                              NaN   \n",
       "MH0143018          NaN           NaN                              NaN   \n",
       "MH0143019          NaN           NaN                              NaN   \n",
       "\n",
       "          cryptic_relatedness_check family_based_average_coverage  \\\n",
       "sample                                                              \n",
       "02C10540                        NaN                           NaN   \n",
       "02C10541                        NaN                           NaN   \n",
       "02C10542                        NaN                           NaN   \n",
       "02C10543                        NaN                           NaN   \n",
       "02C10702                        NaN                           NaN   \n",
       "...                             ...                           ...   \n",
       "MH0143008                       NaN                           NaN   \n",
       "MH0143009                       NaN                           NaN   \n",
       "MH0143013                       NaN                           NaN   \n",
       "MH0143018                       NaN                           NaN   \n",
       "MH0143019                       NaN                           NaN   \n",
       "\n",
       "          familial_relationship_check child autism  \n",
       "sample                                              \n",
       "02C10540                          NaN   0.0    0.0  \n",
       "02C10541                          NaN   0.0    0.0  \n",
       "02C10542                          NaN   1.0    0.0  \n",
       "02C10543                          NaN   1.0    1.0  \n",
       "02C10702                          NaN   0.0    0.0  \n",
       "...                               ...   ...    ...  \n",
       "MH0143008                         NaN   0.0    0.0  \n",
       "MH0143009                         NaN   0.0    0.0  \n",
       "MH0143013                         NaN   1.0    0.0  \n",
       "MH0143018                         NaN   1.0    1.0  \n",
       "MH0143019                         NaN   1.0    1.0  \n",
       "\n",
       "[4568 rows x 76 columns]"
      ]
     },
     "execution_count": 200,
     "metadata": {},
     "output_type": "execute_result"
    }
   ],
   "source": [
    "data"
   ]
  },
  {
   "cell_type": "code",
   "execution_count": null,
   "metadata": {},
   "outputs": [],
   "source": [
    "inputs = tqdm(df_microbe.columns)\n",
    "pval_list = Parallel(n_jobs=num_cores)(delayed(ANOVA_Pvals)(i) for i in inputs)\n",
    "pvals = [cc for c in pval_list for cc in c]"
   ]
  },
  {
   "cell_type": "code",
   "execution_count": 167,
   "metadata": {},
   "outputs": [
    {
     "data": {
      "text/plain": [
       "['C(sequencing_plate)',\n",
       " 'C(autism)',\n",
       " 'C(sex_numeric)',\n",
       " 'C(family)',\n",
       " 'C(bio_seq_source)',\n",
       " 'C(child)']"
      ]
     },
     "execution_count": 167,
     "metadata": {},
     "output_type": "execute_result"
    }
   ],
   "source": [
    "sig_predictors = list(anova_results.index[np.mean(anova_results['PR(>F)']<(1000.05/len(df_microbe)/4))])"
   ]
  },
  {
   "cell_type": "code",
   "execution_count": 162,
   "metadata": {},
   "outputs": [
    {
     "data": {
      "text/plain": [
       "'microbe ~ C(sequencing_plate)'"
      ]
     },
     "execution_count": 162,
     "metadata": {},
     "output_type": "execute_result"
    }
   ],
   "source": [
    "formula = 'microbe ~ ' + ' + '.join(sig_predictors)\n",
    "formula"
   ]
  },
  {
   "cell_type": "code",
   "execution_count": 141,
   "metadata": {},
   "outputs": [],
   "source": [
    "from sklearn.feature_selection import f_regression"
   ]
  },
  {
   "cell_type": "code",
   "execution_count": 142,
   "metadata": {},
   "outputs": [
    {
     "data": {
      "text/html": [
       "<div>\n",
       "<style scoped>\n",
       "    .dataframe tbody tr th:only-of-type {\n",
       "        vertical-align: middle;\n",
       "    }\n",
       "\n",
       "    .dataframe tbody tr th {\n",
       "        vertical-align: top;\n",
       "    }\n",
       "\n",
       "    .dataframe thead th {\n",
       "        text-align: right;\n",
       "    }\n",
       "</style>\n",
       "<table border=\"1\" class=\"dataframe\">\n",
       "  <thead>\n",
       "    <tr style=\"text-align: right;\">\n",
       "      <th></th>\n",
       "      <th>microbe</th>\n",
       "    </tr>\n",
       "    <tr>\n",
       "      <th>sample</th>\n",
       "      <th></th>\n",
       "    </tr>\n",
       "  </thead>\n",
       "  <tbody>\n",
       "    <tr>\n",
       "      <th>02C10540</th>\n",
       "      <td>0.0</td>\n",
       "    </tr>\n",
       "    <tr>\n",
       "      <th>02C10541</th>\n",
       "      <td>0.0</td>\n",
       "    </tr>\n",
       "    <tr>\n",
       "      <th>02C10542</th>\n",
       "      <td>0.0</td>\n",
       "    </tr>\n",
       "    <tr>\n",
       "      <th>02C10543</th>\n",
       "      <td>0.0</td>\n",
       "    </tr>\n",
       "    <tr>\n",
       "      <th>02C10702</th>\n",
       "      <td>0.0</td>\n",
       "    </tr>\n",
       "    <tr>\n",
       "      <th>...</th>\n",
       "      <td>...</td>\n",
       "    </tr>\n",
       "    <tr>\n",
       "      <th>MH0143008</th>\n",
       "      <td>0.0</td>\n",
       "    </tr>\n",
       "    <tr>\n",
       "      <th>MH0143009</th>\n",
       "      <td>0.0</td>\n",
       "    </tr>\n",
       "    <tr>\n",
       "      <th>MH0143013</th>\n",
       "      <td>0.0</td>\n",
       "    </tr>\n",
       "    <tr>\n",
       "      <th>MH0143018</th>\n",
       "      <td>0.0</td>\n",
       "    </tr>\n",
       "    <tr>\n",
       "      <th>MH0143019</th>\n",
       "      <td>0.0</td>\n",
       "    </tr>\n",
       "  </tbody>\n",
       "</table>\n",
       "<p>4568 rows × 1 columns</p>\n",
       "</div>"
      ],
      "text/plain": [
       "           microbe\n",
       "sample            \n",
       "02C10540       0.0\n",
       "02C10541       0.0\n",
       "02C10542       0.0\n",
       "02C10543       0.0\n",
       "02C10702       0.0\n",
       "...            ...\n",
       "MH0143008      0.0\n",
       "MH0143009      0.0\n",
       "MH0143013      0.0\n",
       "MH0143018      0.0\n",
       "MH0143019      0.0\n",
       "\n",
       "[4568 rows x 1 columns]"
      ]
     },
     "execution_count": 142,
     "metadata": {},
     "output_type": "execute_result"
    }
   ],
   "source": [
    "f_regression()"
   ]
  },
  {
   "cell_type": "code",
   "execution_count": null,
   "metadata": {},
   "outputs": [],
   "source": [
    "from statsmodels.stats.outliers_influence import variance_inflation_factor\n",
    "bam_mappings.loc[df_microbe.index][['bio_seq_source', 'sequencing_plate', 'sex_numeric', 'child', 'autism', 'family']]"
   ]
  },
  {
   "cell_type": "code",
   "execution_count": 139,
   "metadata": {},
   "outputs": [
    {
     "name": "stdout",
     "output_type": "stream",
     "text": [
      "[('Human herpesvirus 4', 'C(bio_seq_source)', 0.0), ('Saccharomyces cerevisiae killer', 'C(bio_seq_source)', 0.0), ('Hepatitis C virus.1', 'C(bio_seq_source)', 2.322449991950955e-32), ('Enterobacteria phage phiX174', 'C(bio_seq_source)', 6.130775605876699e-29), ('Torque teno virus.3', 'C(bio_seq_source)', 2.2321576059602236e-21), ('Cyprinid herpesvirus 3', 'C(bio_seq_source)', 6.272115717402026e-18), ('Torque teno virus.7', 'C(bio_seq_source)', 1.0540903033000278e-11), ('Torque teno mini.2', 'C(bio_seq_source)', 1.290250602005863e-11), ('Torque teno virus.8', 'C(bio_seq_source)', 6.845616044205761e-09), ('Torque teno virus.2', 'C(bio_seq_source)', 1.0084957424578058e-08)]\n"
     ]
    },
    {
     "data": {
      "image/png": "[encoded data removed]",
      "text/plain": [
       "<Figure size 432x288 with 1 Axes>"
      ]
     },
     "metadata": {
      "needs_background": "light"
     },
     "output_type": "display_data"
    },
    {
     "name": "stderr",
     "output_type": "stream",
     "text": [
      "/home/users/briannac/.local/lib/python3.6/site-packages/ipykernel_launcher.py:6: RuntimeWarning: divide by zero encountered in log10\n",
      "  \n",
      "/home/users/briannac/.local/lib/python3.6/site-packages/ipykernel_launcher.py:7: RuntimeWarning: divide by zero encountered in log10\n",
      "  import sys\n"
     ]
    },
    {
     "name": "stdout",
     "output_type": "stream",
     "text": [
      "0.0\n"
     ]
    },
    {
     "data": {
      "image/png": "[encoded data removed]",
      "text/plain": [
       "<Figure size 432x288 with 1 Axes>"
      ]
     },
     "metadata": {
      "needs_background": "light"
     },
     "output_type": "display_data"
    }
   ],
   "source": [
    "p_select = [p for p in pvals if 'bio_seq_source' in p[1]]\n",
    "print(sorted(p_select, key=lambda x: x[2])[:10])\n",
    "p_select = [p[2] for p in p_select]\n",
    "sm.qqplot(np.array(p_select), dist='uniform', line='45')\n",
    "plt.show()\n",
    "exp = -np.log10(np.linspace(0,1,len(p_select)))\n",
    "plt.plot(exp, -np.log10(sorted(p_select)), 'x')\n",
    "plt.plot(exp, exp, 'r-')\n",
    "plt.xlim(min(exp[1:]), max(exp[1:]))\n",
    "plt.ylim(min(exp[1:]), max(exp[1:]))\n",
    "#plt.xscale('log')\n",
    "#plt.yscale('log')\n",
    "print(min(p_select)*len(df_microbe)/5)"
   ]
  },
  {
   "cell_type": "code",
   "execution_count": null,
   "metadata": {},
   "outputs": [],
   "source": []
  },
  {
   "cell_type": "code",
   "execution_count": 906,
   "metadata": {},
   "outputs": [
    {
     "name": "stdout",
     "output_type": "stream",
     "text": [
      "sex_numeric\n",
      "Torque teno virus.7 0.5552934398734666 sex_numeric\n",
      "bio_seq_source\n",
      "Torque teno virus.7 0.5333142472377376 bio_seq_source\n",
      "sequencing_plate\n",
      "Torque teno virus.7 1.1133038329626608e-07 sequencing_plate\n",
      "relationship\n",
      "Torque teno virus.7 0.5229576759334147 relationship\n",
      "derived_affected_status\n",
      "Torque teno virus.7 0.9683936803421695 derived_affected_status\n"
     ]
    }
   ],
   "source": [
    "all_columns = ['sex_numeric', 'bio_seq_source', 'sequencing_plate', 'relationship', 'derived_affected_status']\n",
    "for drop_col in all_columns:\n",
    "    print(drop_col)\n",
    "    reduced_cols = [c for c in all_columns if c!=drop_col]\n",
    "    all_cols = reduced_cols + [drop_col]\n",
    "    \n",
    "    # All Model\n",
    "    exog = pd.get_dummies(bam_mappings.loc[df_microbe.index][all_cols], drop_first=True, dummy_na=True).astype(float)\n",
    "    exog = exog[exog.columns[exog.sum()!=0]]\n",
    "    exog = sm.add_constant(exog)\n",
    "    mod = sm.OLS(endog, exog, hasconst=True)\n",
    "    res_all = mod.fit()\n",
    "\n",
    "    # reduced\n",
    "    exog = pd.get_dummies(bam_mappings.loc[df_microbe.index][reduced_cols], drop_first=True, dummy_na=True).astype(float)\n",
    "    exog = exog[exog.columns[exog.sum()!=0]]\n",
    "    exog = sm.add_constant(exog)\n",
    "    mod1 = sm.OLS(endog, exog, hasconst=True)\n",
    "    res_reduced = mod1.fit()\n",
    "    \n",
    "    anova_results = anova_lm(res_reduced, res_all)\n",
    "    print(COLUMN, anova_results['Pr(>F)'][1], drop_col)"
   ]
  },
  {
   "cell_type": "code",
   "execution_count": 898,
   "metadata": {},
   "outputs": [
    {
     "data": {
      "text/html": [
       "<div>\n",
       "<style scoped>\n",
       "    .dataframe tbody tr th:only-of-type {\n",
       "        vertical-align: middle;\n",
       "    }\n",
       "\n",
       "    .dataframe tbody tr th {\n",
       "        vertical-align: top;\n",
       "    }\n",
       "\n",
       "    .dataframe thead th {\n",
       "        text-align: right;\n",
       "    }\n",
       "</style>\n",
       "<table border=\"1\" class=\"dataframe\">\n",
       "  <thead>\n",
       "    <tr style=\"text-align: right;\">\n",
       "      <th></th>\n",
       "      <th>sex_numeric_2.0</th>\n",
       "      <th>bio_seq_source_WB</th>\n",
       "      <th>sequencing_plate_MTR-00010</th>\n",
       "      <th>sequencing_plate_MTR-00011</th>\n",
       "      <th>sequencing_plate_MTR-00012</th>\n",
       "      <th>sequencing_plate_MTR-00013</th>\n",
       "      <th>sequencing_plate_MTR-00014</th>\n",
       "      <th>sequencing_plate_MTR-00015</th>\n",
       "      <th>sequencing_plate_MTR-00016</th>\n",
       "      <th>sequencing_plate_MTR-00017</th>\n",
       "      <th>...</th>\n",
       "      <th>sequencing_plate_MTR-01020</th>\n",
       "      <th>sequencing_plate_MTR-01021</th>\n",
       "      <th>sequencing_plate_MTR-01022</th>\n",
       "      <th>sequencing_plate_MTR-01024</th>\n",
       "      <th>sequencing_plate_MTR-01025</th>\n",
       "      <th>sequencing_plate_MTR-01372</th>\n",
       "      <th>sequencing_plate_MTR-01378</th>\n",
       "      <th>sequencing_plate_MTR-01379</th>\n",
       "      <th>relationship_mother</th>\n",
       "      <th>relationship_sibling</th>\n",
       "    </tr>\n",
       "    <tr>\n",
       "      <th>sample</th>\n",
       "      <th></th>\n",
       "      <th></th>\n",
       "      <th></th>\n",
       "      <th></th>\n",
       "      <th></th>\n",
       "      <th></th>\n",
       "      <th></th>\n",
       "      <th></th>\n",
       "      <th></th>\n",
       "      <th></th>\n",
       "      <th></th>\n",
       "      <th></th>\n",
       "      <th></th>\n",
       "      <th></th>\n",
       "      <th></th>\n",
       "      <th></th>\n",
       "      <th></th>\n",
       "      <th></th>\n",
       "      <th></th>\n",
       "      <th></th>\n",
       "      <th></th>\n",
       "    </tr>\n",
       "  </thead>\n",
       "  <tbody>\n",
       "    <tr>\n",
       "      <th>02C10540</th>\n",
       "      <td>0.0</td>\n",
       "      <td>0.0</td>\n",
       "      <td>0.0</td>\n",
       "      <td>0.0</td>\n",
       "      <td>0.0</td>\n",
       "      <td>0.0</td>\n",
       "      <td>0.0</td>\n",
       "      <td>0.0</td>\n",
       "      <td>0.0</td>\n",
       "      <td>0.0</td>\n",
       "      <td>...</td>\n",
       "      <td>0.0</td>\n",
       "      <td>0.0</td>\n",
       "      <td>0.0</td>\n",
       "      <td>0.0</td>\n",
       "      <td>0.0</td>\n",
       "      <td>0.0</td>\n",
       "      <td>0.0</td>\n",
       "      <td>0.0</td>\n",
       "      <td>0.0</td>\n",
       "      <td>0.0</td>\n",
       "    </tr>\n",
       "    <tr>\n",
       "      <th>02C10541</th>\n",
       "      <td>1.0</td>\n",
       "      <td>0.0</td>\n",
       "      <td>0.0</td>\n",
       "      <td>0.0</td>\n",
       "      <td>0.0</td>\n",
       "      <td>0.0</td>\n",
       "      <td>0.0</td>\n",
       "      <td>0.0</td>\n",
       "      <td>0.0</td>\n",
       "      <td>0.0</td>\n",
       "      <td>...</td>\n",
       "      <td>0.0</td>\n",
       "      <td>0.0</td>\n",
       "      <td>0.0</td>\n",
       "      <td>0.0</td>\n",
       "      <td>0.0</td>\n",
       "      <td>0.0</td>\n",
       "      <td>0.0</td>\n",
       "      <td>0.0</td>\n",
       "      <td>1.0</td>\n",
       "      <td>0.0</td>\n",
       "    </tr>\n",
       "    <tr>\n",
       "      <th>02C10542</th>\n",
       "      <td>1.0</td>\n",
       "      <td>0.0</td>\n",
       "      <td>0.0</td>\n",
       "      <td>0.0</td>\n",
       "      <td>0.0</td>\n",
       "      <td>0.0</td>\n",
       "      <td>0.0</td>\n",
       "      <td>0.0</td>\n",
       "      <td>0.0</td>\n",
       "      <td>0.0</td>\n",
       "      <td>...</td>\n",
       "      <td>0.0</td>\n",
       "      <td>0.0</td>\n",
       "      <td>0.0</td>\n",
       "      <td>0.0</td>\n",
       "      <td>0.0</td>\n",
       "      <td>0.0</td>\n",
       "      <td>0.0</td>\n",
       "      <td>0.0</td>\n",
       "      <td>0.0</td>\n",
       "      <td>1.0</td>\n",
       "    </tr>\n",
       "    <tr>\n",
       "      <th>02C10543</th>\n",
       "      <td>0.0</td>\n",
       "      <td>0.0</td>\n",
       "      <td>0.0</td>\n",
       "      <td>0.0</td>\n",
       "      <td>0.0</td>\n",
       "      <td>0.0</td>\n",
       "      <td>0.0</td>\n",
       "      <td>0.0</td>\n",
       "      <td>0.0</td>\n",
       "      <td>0.0</td>\n",
       "      <td>...</td>\n",
       "      <td>0.0</td>\n",
       "      <td>0.0</td>\n",
       "      <td>0.0</td>\n",
       "      <td>0.0</td>\n",
       "      <td>0.0</td>\n",
       "      <td>0.0</td>\n",
       "      <td>0.0</td>\n",
       "      <td>0.0</td>\n",
       "      <td>0.0</td>\n",
       "      <td>1.0</td>\n",
       "    </tr>\n",
       "    <tr>\n",
       "      <th>02C10702</th>\n",
       "      <td>1.0</td>\n",
       "      <td>0.0</td>\n",
       "      <td>1.0</td>\n",
       "      <td>0.0</td>\n",
       "      <td>0.0</td>\n",
       "      <td>0.0</td>\n",
       "      <td>0.0</td>\n",
       "      <td>0.0</td>\n",
       "      <td>0.0</td>\n",
       "      <td>0.0</td>\n",
       "      <td>...</td>\n",
       "      <td>0.0</td>\n",
       "      <td>0.0</td>\n",
       "      <td>0.0</td>\n",
       "      <td>0.0</td>\n",
       "      <td>0.0</td>\n",
       "      <td>0.0</td>\n",
       "      <td>0.0</td>\n",
       "      <td>0.0</td>\n",
       "      <td>1.0</td>\n",
       "      <td>0.0</td>\n",
       "    </tr>\n",
       "    <tr>\n",
       "      <th>...</th>\n",
       "      <td>...</td>\n",
       "      <td>...</td>\n",
       "      <td>...</td>\n",
       "      <td>...</td>\n",
       "      <td>...</td>\n",
       "      <td>...</td>\n",
       "      <td>...</td>\n",
       "      <td>...</td>\n",
       "      <td>...</td>\n",
       "      <td>...</td>\n",
       "      <td>...</td>\n",
       "      <td>...</td>\n",
       "      <td>...</td>\n",
       "      <td>...</td>\n",
       "      <td>...</td>\n",
       "      <td>...</td>\n",
       "      <td>...</td>\n",
       "      <td>...</td>\n",
       "      <td>...</td>\n",
       "      <td>...</td>\n",
       "      <td>...</td>\n",
       "    </tr>\n",
       "    <tr>\n",
       "      <th>MH0143008</th>\n",
       "      <td>0.0</td>\n",
       "      <td>1.0</td>\n",
       "      <td>0.0</td>\n",
       "      <td>0.0</td>\n",
       "      <td>0.0</td>\n",
       "      <td>0.0</td>\n",
       "      <td>0.0</td>\n",
       "      <td>0.0</td>\n",
       "      <td>0.0</td>\n",
       "      <td>0.0</td>\n",
       "      <td>...</td>\n",
       "      <td>0.0</td>\n",
       "      <td>0.0</td>\n",
       "      <td>0.0</td>\n",
       "      <td>0.0</td>\n",
       "      <td>0.0</td>\n",
       "      <td>0.0</td>\n",
       "      <td>0.0</td>\n",
       "      <td>0.0</td>\n",
       "      <td>0.0</td>\n",
       "      <td>0.0</td>\n",
       "    </tr>\n",
       "    <tr>\n",
       "      <th>MH0143009</th>\n",
       "      <td>1.0</td>\n",
       "      <td>1.0</td>\n",
       "      <td>0.0</td>\n",
       "      <td>0.0</td>\n",
       "      <td>0.0</td>\n",
       "      <td>0.0</td>\n",
       "      <td>0.0</td>\n",
       "      <td>0.0</td>\n",
       "      <td>0.0</td>\n",
       "      <td>0.0</td>\n",
       "      <td>...</td>\n",
       "      <td>0.0</td>\n",
       "      <td>0.0</td>\n",
       "      <td>0.0</td>\n",
       "      <td>0.0</td>\n",
       "      <td>0.0</td>\n",
       "      <td>0.0</td>\n",
       "      <td>0.0</td>\n",
       "      <td>0.0</td>\n",
       "      <td>1.0</td>\n",
       "      <td>0.0</td>\n",
       "    </tr>\n",
       "    <tr>\n",
       "      <th>MH0143013</th>\n",
       "      <td>0.0</td>\n",
       "      <td>1.0</td>\n",
       "      <td>0.0</td>\n",
       "      <td>0.0</td>\n",
       "      <td>0.0</td>\n",
       "      <td>0.0</td>\n",
       "      <td>0.0</td>\n",
       "      <td>0.0</td>\n",
       "      <td>0.0</td>\n",
       "      <td>0.0</td>\n",
       "      <td>...</td>\n",
       "      <td>0.0</td>\n",
       "      <td>0.0</td>\n",
       "      <td>0.0</td>\n",
       "      <td>0.0</td>\n",
       "      <td>0.0</td>\n",
       "      <td>0.0</td>\n",
       "      <td>0.0</td>\n",
       "      <td>0.0</td>\n",
       "      <td>0.0</td>\n",
       "      <td>1.0</td>\n",
       "    </tr>\n",
       "    <tr>\n",
       "      <th>MH0143018</th>\n",
       "      <td>0.0</td>\n",
       "      <td>1.0</td>\n",
       "      <td>0.0</td>\n",
       "      <td>0.0</td>\n",
       "      <td>0.0</td>\n",
       "      <td>0.0</td>\n",
       "      <td>0.0</td>\n",
       "      <td>0.0</td>\n",
       "      <td>0.0</td>\n",
       "      <td>0.0</td>\n",
       "      <td>...</td>\n",
       "      <td>0.0</td>\n",
       "      <td>0.0</td>\n",
       "      <td>0.0</td>\n",
       "      <td>0.0</td>\n",
       "      <td>0.0</td>\n",
       "      <td>0.0</td>\n",
       "      <td>0.0</td>\n",
       "      <td>0.0</td>\n",
       "      <td>0.0</td>\n",
       "      <td>1.0</td>\n",
       "    </tr>\n",
       "    <tr>\n",
       "      <th>MH0143019</th>\n",
       "      <td>1.0</td>\n",
       "      <td>1.0</td>\n",
       "      <td>0.0</td>\n",
       "      <td>0.0</td>\n",
       "      <td>0.0</td>\n",
       "      <td>0.0</td>\n",
       "      <td>0.0</td>\n",
       "      <td>0.0</td>\n",
       "      <td>0.0</td>\n",
       "      <td>0.0</td>\n",
       "      <td>...</td>\n",
       "      <td>0.0</td>\n",
       "      <td>0.0</td>\n",
       "      <td>0.0</td>\n",
       "      <td>0.0</td>\n",
       "      <td>0.0</td>\n",
       "      <td>0.0</td>\n",
       "      <td>0.0</td>\n",
       "      <td>0.0</td>\n",
       "      <td>0.0</td>\n",
       "      <td>1.0</td>\n",
       "    </tr>\n",
       "  </tbody>\n",
       "</table>\n",
       "<p>4568 rows × 57 columns</p>\n",
       "</div>"
      ],
      "text/plain": [
       "           sex_numeric_2.0  bio_seq_source_WB  sequencing_plate_MTR-00010  \\\n",
       "sample                                                                      \n",
       "02C10540               0.0                0.0                         0.0   \n",
       "02C10541               1.0                0.0                         0.0   \n",
       "02C10542               1.0                0.0                         0.0   \n",
       "02C10543               0.0                0.0                         0.0   \n",
       "02C10702               1.0                0.0                         1.0   \n",
       "...                    ...                ...                         ...   \n",
       "MH0143008              0.0                1.0                         0.0   \n",
       "MH0143009              1.0                1.0                         0.0   \n",
       "MH0143013              0.0                1.0                         0.0   \n",
       "MH0143018              0.0                1.0                         0.0   \n",
       "MH0143019              1.0                1.0                         0.0   \n",
       "\n",
       "           sequencing_plate_MTR-00011  sequencing_plate_MTR-00012  \\\n",
       "sample                                                              \n",
       "02C10540                          0.0                         0.0   \n",
       "02C10541                          0.0                         0.0   \n",
       "02C10542                          0.0                         0.0   \n",
       "02C10543                          0.0                         0.0   \n",
       "02C10702                          0.0                         0.0   \n",
       "...                               ...                         ...   \n",
       "MH0143008                         0.0                         0.0   \n",
       "MH0143009                         0.0                         0.0   \n",
       "MH0143013                         0.0                         0.0   \n",
       "MH0143018                         0.0                         0.0   \n",
       "MH0143019                         0.0                         0.0   \n",
       "\n",
       "           sequencing_plate_MTR-00013  sequencing_plate_MTR-00014  \\\n",
       "sample                                                              \n",
       "02C10540                          0.0                         0.0   \n",
       "02C10541                          0.0                         0.0   \n",
       "02C10542                          0.0                         0.0   \n",
       "02C10543                          0.0                         0.0   \n",
       "02C10702                          0.0                         0.0   \n",
       "...                               ...                         ...   \n",
       "MH0143008                         0.0                         0.0   \n",
       "MH0143009                         0.0                         0.0   \n",
       "MH0143013                         0.0                         0.0   \n",
       "MH0143018                         0.0                         0.0   \n",
       "MH0143019                         0.0                         0.0   \n",
       "\n",
       "           sequencing_plate_MTR-00015  sequencing_plate_MTR-00016  \\\n",
       "sample                                                              \n",
       "02C10540                          0.0                         0.0   \n",
       "02C10541                          0.0                         0.0   \n",
       "02C10542                          0.0                         0.0   \n",
       "02C10543                          0.0                         0.0   \n",
       "02C10702                          0.0                         0.0   \n",
       "...                               ...                         ...   \n",
       "MH0143008                         0.0                         0.0   \n",
       "MH0143009                         0.0                         0.0   \n",
       "MH0143013                         0.0                         0.0   \n",
       "MH0143018                         0.0                         0.0   \n",
       "MH0143019                         0.0                         0.0   \n",
       "\n",
       "           sequencing_plate_MTR-00017  ...  sequencing_plate_MTR-01020  \\\n",
       "sample                                 ...                               \n",
       "02C10540                          0.0  ...                         0.0   \n",
       "02C10541                          0.0  ...                         0.0   \n",
       "02C10542                          0.0  ...                         0.0   \n",
       "02C10543                          0.0  ...                         0.0   \n",
       "02C10702                          0.0  ...                         0.0   \n",
       "...                               ...  ...                         ...   \n",
       "MH0143008                         0.0  ...                         0.0   \n",
       "MH0143009                         0.0  ...                         0.0   \n",
       "MH0143013                         0.0  ...                         0.0   \n",
       "MH0143018                         0.0  ...                         0.0   \n",
       "MH0143019                         0.0  ...                         0.0   \n",
       "\n",
       "           sequencing_plate_MTR-01021  sequencing_plate_MTR-01022  \\\n",
       "sample                                                              \n",
       "02C10540                          0.0                         0.0   \n",
       "02C10541                          0.0                         0.0   \n",
       "02C10542                          0.0                         0.0   \n",
       "02C10543                          0.0                         0.0   \n",
       "02C10702                          0.0                         0.0   \n",
       "...                               ...                         ...   \n",
       "MH0143008                         0.0                         0.0   \n",
       "MH0143009                         0.0                         0.0   \n",
       "MH0143013                         0.0                         0.0   \n",
       "MH0143018                         0.0                         0.0   \n",
       "MH0143019                         0.0                         0.0   \n",
       "\n",
       "           sequencing_plate_MTR-01024  sequencing_plate_MTR-01025  \\\n",
       "sample                                                              \n",
       "02C10540                          0.0                         0.0   \n",
       "02C10541                          0.0                         0.0   \n",
       "02C10542                          0.0                         0.0   \n",
       "02C10543                          0.0                         0.0   \n",
       "02C10702                          0.0                         0.0   \n",
       "...                               ...                         ...   \n",
       "MH0143008                         0.0                         0.0   \n",
       "MH0143009                         0.0                         0.0   \n",
       "MH0143013                         0.0                         0.0   \n",
       "MH0143018                         0.0                         0.0   \n",
       "MH0143019                         0.0                         0.0   \n",
       "\n",
       "           sequencing_plate_MTR-01372  sequencing_plate_MTR-01378  \\\n",
       "sample                                                              \n",
       "02C10540                          0.0                         0.0   \n",
       "02C10541                          0.0                         0.0   \n",
       "02C10542                          0.0                         0.0   \n",
       "02C10543                          0.0                         0.0   \n",
       "02C10702                          0.0                         0.0   \n",
       "...                               ...                         ...   \n",
       "MH0143008                         0.0                         0.0   \n",
       "MH0143009                         0.0                         0.0   \n",
       "MH0143013                         0.0                         0.0   \n",
       "MH0143018                         0.0                         0.0   \n",
       "MH0143019                         0.0                         0.0   \n",
       "\n",
       "           sequencing_plate_MTR-01379  relationship_mother  \\\n",
       "sample                                                       \n",
       "02C10540                          0.0                  0.0   \n",
       "02C10541                          0.0                  1.0   \n",
       "02C10542                          0.0                  0.0   \n",
       "02C10543                          0.0                  0.0   \n",
       "02C10702                          0.0                  1.0   \n",
       "...                               ...                  ...   \n",
       "MH0143008                         0.0                  0.0   \n",
       "MH0143009                         0.0                  1.0   \n",
       "MH0143013                         0.0                  0.0   \n",
       "MH0143018                         0.0                  0.0   \n",
       "MH0143019                         0.0                  0.0   \n",
       "\n",
       "           relationship_sibling  \n",
       "sample                           \n",
       "02C10540                    0.0  \n",
       "02C10541                    0.0  \n",
       "02C10542                    1.0  \n",
       "02C10543                    1.0  \n",
       "02C10702                    0.0  \n",
       "...                         ...  \n",
       "MH0143008                   0.0  \n",
       "MH0143009                   0.0  \n",
       "MH0143013                   1.0  \n",
       "MH0143018                   1.0  \n",
       "MH0143019                   1.0  \n",
       "\n",
       "[4568 rows x 57 columns]"
      ]
     },
     "execution_count": 898,
     "metadata": {},
     "output_type": "execute_result"
    }
   ],
   "source": [
    "exog"
   ]
  },
  {
   "cell_type": "code",
   "execution_count": 814,
   "metadata": {},
   "outputs": [
    {
     "name": "stderr",
     "output_type": "stream",
     "text": [
      "/home/users/briannac/.local/lib/python3.6/site-packages/ipykernel_launcher.py:1: RuntimeWarning: divide by zero encountered in log10\n",
      "  \"\"\"Entry point for launching an IPython kernel.\n"
     ]
    },
    {
     "data": {
      "text/plain": [
       "(-0.0, 1.919078092376074)"
      ]
     },
     "execution_count": 814,
     "metadata": {},
     "output_type": "execute_result"
    },
    {
     "data": {
      "image/png": "[encoded data removed]",
      "text/plain": [
       "<Figure size 432x288 with 1 Axes>"
      ]
     },
     "metadata": {
      "needs_background": "light"
     },
     "output_type": "display_data"
    }
   ],
   "source": [
    "exp = -np.log10(np.linspace(0,1,len(pvals)))\n",
    "plt.plot(exp, -np.log10(sorted([p[2] for p in pvals])), 'x')\n",
    "plt.plot(exp, exp, 'r-')\n",
    "plt.xlim(min(exp[1:]), max(exp[1:]))\n",
    "plt.ylim(min(exp[1:]), max(exp[1:]))\n",
    "#plt.xscale('log')\n",
    "#plt.yscale('log')"
   ]
  },
  {
   "cell_type": "code",
   "execution_count": 815,
   "metadata": {},
   "outputs": [
    {
     "data": {
      "text/plain": [
       "(0.0, 5.0)"
      ]
     },
     "execution_count": 815,
     "metadata": {},
     "output_type": "execute_result"
    },
    {
     "data": {
      "image/png": "[encoded data removed]",
      "text/plain": [
       "<Figure size 432x288 with 1 Axes>"
      ]
     },
     "metadata": {
      "needs_background": "light"
     },
     "output_type": "display_data"
    }
   ],
   "source": [
    "sm.qqplot(np.array(-np.log(sorted([p[2] for p in pvals]))), dist=stats.expon, line='45')\n",
    "plt.xlim(0,5)\n",
    "plt.ylim(0,5)"
   ]
  },
  {
   "cell_type": "code",
   "execution_count": 797,
   "metadata": {},
   "outputs": [
    {
     "data": {
      "image/png": "[encoded data removed]",
      "text/plain": [
       "<Figure size 432x288 with 1 Axes>"
      ]
     },
     "metadata": {
      "needs_background": "light"
     },
     "output_type": "display_data"
    }
   ],
   "source": [
    "PlotPvals(np.array([p[2] for p in pvals]))"
   ]
  },
  {
   "cell_type": "code",
   "execution_count": 92,
   "metadata": {},
   "outputs": [
    {
     "ename": "TypeError",
     "evalue": "%s requires more parameters to compute ppf",
     "output_type": "error",
     "traceback": [
      "\u001b[0;31m---------------------------------------------------------------------------\u001b[0m",
      "\u001b[0;31mTypeError\u001b[0m                                 Traceback (most recent call last)",
      "\u001b[0;32m~/.local/lib/python3.6/site-packages/statsmodels/graphics/gofplots.py\u001b[0m in \u001b[0;36mtheoretical_quantiles\u001b[0;34m(self)\u001b[0m\n\u001b[1;32m    216\u001b[0m         \u001b[0;32mtry\u001b[0m\u001b[0;34m:\u001b[0m\u001b[0;34m\u001b[0m\u001b[0m\n\u001b[0;32m--> 217\u001b[0;31m             \u001b[0;32mreturn\u001b[0m \u001b[0mself\u001b[0m\u001b[0;34m.\u001b[0m\u001b[0mdist\u001b[0m\u001b[0;34m.\u001b[0m\u001b[0mppf\u001b[0m\u001b[0;34m(\u001b[0m\u001b[0mself\u001b[0m\u001b[0;34m.\u001b[0m\u001b[0mtheoretical_percentiles\u001b[0m\u001b[0;34m)\u001b[0m\u001b[0;34m\u001b[0m\u001b[0m\n\u001b[0m\u001b[1;32m    218\u001b[0m         \u001b[0;32mexcept\u001b[0m \u001b[0mTypeError\u001b[0m\u001b[0;34m:\u001b[0m\u001b[0;34m\u001b[0m\u001b[0m\n",
      "\u001b[0;32m~/.local/lib/python3.6/site-packages/scipy/stats/_distn_infrastructure.py\u001b[0m in \u001b[0;36mppf\u001b[0;34m(self, q, *args, **kwds)\u001b[0m\n\u001b[1;32m   2011\u001b[0m         \"\"\"\n\u001b[0;32m-> 2012\u001b[0;31m         \u001b[0margs\u001b[0m\u001b[0;34m,\u001b[0m \u001b[0mloc\u001b[0m\u001b[0;34m,\u001b[0m \u001b[0mscale\u001b[0m \u001b[0;34m=\u001b[0m \u001b[0mself\u001b[0m\u001b[0;34m.\u001b[0m\u001b[0m_parse_args\u001b[0m\u001b[0;34m(\u001b[0m\u001b[0;34m*\u001b[0m\u001b[0margs\u001b[0m\u001b[0;34m,\u001b[0m \u001b[0;34m**\u001b[0m\u001b[0mkwds\u001b[0m\u001b[0;34m)\u001b[0m\u001b[0;34m\u001b[0m\u001b[0m\n\u001b[0m\u001b[1;32m   2013\u001b[0m         \u001b[0mq\u001b[0m\u001b[0;34m,\u001b[0m \u001b[0mloc\u001b[0m\u001b[0;34m,\u001b[0m \u001b[0mscale\u001b[0m \u001b[0;34m=\u001b[0m \u001b[0mmap\u001b[0m\u001b[0;34m(\u001b[0m\u001b[0masarray\u001b[0m\u001b[0;34m,\u001b[0m \u001b[0;34m(\u001b[0m\u001b[0mq\u001b[0m\u001b[0;34m,\u001b[0m \u001b[0mloc\u001b[0m\u001b[0;34m,\u001b[0m \u001b[0mscale\u001b[0m\u001b[0;34m)\u001b[0m\u001b[0;34m)\u001b[0m\u001b[0;34m\u001b[0m\u001b[0m\n",
      "\u001b[0;31mTypeError\u001b[0m: _parse_args() missing 1 required positional argument: 'c'",
      "\nDuring handling of the above exception, another exception occurred:\n",
      "\u001b[0;31mTypeError\u001b[0m                                 Traceback (most recent call last)",
      "\u001b[0;32m<ipython-input-92-79b3ba65fbbb>\u001b[0m in \u001b[0;36m<module>\u001b[0;34m\u001b[0m\n\u001b[0;32m----> 1\u001b[0;31m \u001b[0msm\u001b[0m\u001b[0;34m.\u001b[0m\u001b[0mqqplot\u001b[0m\u001b[0;34m(\u001b[0m\u001b[0;34m-\u001b[0m\u001b[0mnp\u001b[0m\u001b[0;34m.\u001b[0m\u001b[0mlog10\u001b[0m\u001b[0;34m(\u001b[0m\u001b[0mnp\u001b[0m\u001b[0;34m.\u001b[0m\u001b[0marray\u001b[0m\u001b[0;34m(\u001b[0m\u001b[0;34m[\u001b[0m\u001b[0mp\u001b[0m\u001b[0;34m[\u001b[0m\u001b[0;36m2\u001b[0m\u001b[0;34m]\u001b[0m \u001b[0;32mfor\u001b[0m \u001b[0mp\u001b[0m \u001b[0;32min\u001b[0m \u001b[0mpvals\u001b[0m\u001b[0;34m]\u001b[0m\u001b[0;34m)\u001b[0m\u001b[0;34m)\u001b[0m\u001b[0;34m,\u001b[0m \u001b[0mdist\u001b[0m\u001b[0;34m=\u001b[0m\u001b[0mstats\u001b[0m\u001b[0;34m.\u001b[0m\u001b[0mloggamma\u001b[0m\u001b[0;34m)\u001b[0m\u001b[0;34m\u001b[0m\u001b[0m\n\u001b[0m",
      "\u001b[0;32m~/.local/lib/python3.6/site-packages/statsmodels/graphics/gofplots.py\u001b[0m in \u001b[0;36mqqplot\u001b[0;34m(data, dist, distargs, a, loc, scale, fit, line, ax, **plotkwargs)\u001b[0m\n\u001b[1;32m    584\u001b[0m     probplot = ProbPlot(data, dist=dist, distargs=distargs,\n\u001b[1;32m    585\u001b[0m                          fit=fit, a=a, loc=loc, scale=scale)\n\u001b[0;32m--> 586\u001b[0;31m     \u001b[0mfig\u001b[0m \u001b[0;34m=\u001b[0m \u001b[0mprobplot\u001b[0m\u001b[0;34m.\u001b[0m\u001b[0mqqplot\u001b[0m\u001b[0;34m(\u001b[0m\u001b[0max\u001b[0m\u001b[0;34m=\u001b[0m\u001b[0max\u001b[0m\u001b[0;34m,\u001b[0m \u001b[0mline\u001b[0m\u001b[0;34m=\u001b[0m\u001b[0mline\u001b[0m\u001b[0;34m,\u001b[0m \u001b[0;34m**\u001b[0m\u001b[0mplotkwargs\u001b[0m\u001b[0;34m)\u001b[0m\u001b[0;34m\u001b[0m\u001b[0m\n\u001b[0m\u001b[1;32m    587\u001b[0m     \u001b[0;32mreturn\u001b[0m \u001b[0mfig\u001b[0m\u001b[0;34m\u001b[0m\u001b[0m\n\u001b[1;32m    588\u001b[0m \u001b[0;34m\u001b[0m\u001b[0m\n",
      "\u001b[0;32m~/.local/lib/python3.6/site-packages/statsmodels/graphics/gofplots.py\u001b[0m in \u001b[0;36mqqplot\u001b[0;34m(self, xlabel, ylabel, line, other, ax, **plotkwargs)\u001b[0m\n\u001b[1;32m    400\u001b[0m \u001b[0;34m\u001b[0m\u001b[0m\n\u001b[1;32m    401\u001b[0m         \u001b[0;32melse\u001b[0m\u001b[0;34m:\u001b[0m\u001b[0;34m\u001b[0m\u001b[0m\n\u001b[0;32m--> 402\u001b[0;31m             fig, ax = _do_plot(self.theoretical_quantiles,\n\u001b[0m\u001b[1;32m    403\u001b[0m                                \u001b[0mself\u001b[0m\u001b[0;34m.\u001b[0m\u001b[0msample_quantiles\u001b[0m\u001b[0;34m,\u001b[0m\u001b[0;34m\u001b[0m\u001b[0m\n\u001b[1;32m    404\u001b[0m                                \u001b[0mself\u001b[0m\u001b[0;34m.\u001b[0m\u001b[0mdist\u001b[0m\u001b[0;34m,\u001b[0m \u001b[0max\u001b[0m\u001b[0;34m=\u001b[0m\u001b[0max\u001b[0m\u001b[0;34m,\u001b[0m \u001b[0mline\u001b[0m\u001b[0;34m=\u001b[0m\u001b[0mline\u001b[0m\u001b[0;34m,\u001b[0m\u001b[0;34m\u001b[0m\u001b[0m\n",
      "\u001b[0;32mpandas/_libs/properties.pyx\u001b[0m in \u001b[0;36mpandas._libs.properties.CachedProperty.__get__\u001b[0;34m()\u001b[0m\n",
      "\u001b[0;32m~/.local/lib/python3.6/site-packages/statsmodels/graphics/gofplots.py\u001b[0m in \u001b[0;36mtheoretical_quantiles\u001b[0;34m(self)\u001b[0m\n\u001b[1;32m    219\u001b[0m             \u001b[0mmsg\u001b[0m \u001b[0;34m=\u001b[0m \u001b[0;34m'%s requires more parameters to '\u001b[0m\u001b[0;31m \u001b[0m\u001b[0;31m\\\u001b[0m\u001b[0;34m\u001b[0m\u001b[0m\n\u001b[1;32m    220\u001b[0m                   \u001b[0;34m'compute ppf'\u001b[0m\u001b[0;34m.\u001b[0m\u001b[0mformat\u001b[0m\u001b[0;34m(\u001b[0m\u001b[0mself\u001b[0m\u001b[0;34m.\u001b[0m\u001b[0mdist\u001b[0m\u001b[0;34m.\u001b[0m\u001b[0mname\u001b[0m\u001b[0;34m,\u001b[0m\u001b[0;34m)\u001b[0m\u001b[0;34m\u001b[0m\u001b[0m\n\u001b[0;32m--> 221\u001b[0;31m             \u001b[0;32mraise\u001b[0m \u001b[0mTypeError\u001b[0m\u001b[0;34m(\u001b[0m\u001b[0mmsg\u001b[0m\u001b[0;34m)\u001b[0m\u001b[0;34m\u001b[0m\u001b[0m\n\u001b[0m\u001b[1;32m    222\u001b[0m         \u001b[0;32mexcept\u001b[0m\u001b[0;34m:\u001b[0m\u001b[0;34m\u001b[0m\u001b[0m\n\u001b[1;32m    223\u001b[0m             \u001b[0mmsg\u001b[0m \u001b[0;34m=\u001b[0m \u001b[0;34m'failed to compute the ppf of {0}'\u001b[0m\u001b[0;34m.\u001b[0m\u001b[0mformat\u001b[0m\u001b[0;34m(\u001b[0m\u001b[0mself\u001b[0m\u001b[0;34m.\u001b[0m\u001b[0mdist\u001b[0m\u001b[0;34m.\u001b[0m\u001b[0mname\u001b[0m\u001b[0;34m,\u001b[0m\u001b[0;34m)\u001b[0m\u001b[0;34m\u001b[0m\u001b[0m\n",
      "\u001b[0;31mTypeError\u001b[0m: %s requires more parameters to compute ppf"
     ]
    }
   ],
   "source": [
    "sm.qqplot(-np.log10(np.array([p[2] for p in pvals])), dist=stats.loggamma)"
   ]
  },
  {
   "cell_type": "code",
   "execution_count": 223,
   "metadata": {},
   "outputs": [],
   "source": [
    "fam_cutoff = .05/len(np.unique(bam_mappings.loc[df_microbe.index].family))/len(pvals_dict)\n",
    "seq_plate_cutoff = .05/len(np.unique(bam_mappings.loc[df_microbe.index].sequencing_plate))/len(pvals_dict)\n",
    "other_cutoff = .05/len(pvals_dict)"
   ]
  },
  {
   "cell_type": "code",
   "execution_count": null,
   "metadata": {},
   "outputs": [],
   "source": []
  },
  {
   "cell_type": "code",
   "execution_count": 215,
   "metadata": {},
   "outputs": [],
   "source": [
    "import statsmodels.api as sm\n",
    "exog_new = sm.add_constant(exog)\n",
    "mod = sm.OLS(endog, exog_new, hasconst=True)\n",
    "res = mod.fit()"
   ]
  },
  {
   "cell_type": "code",
   "execution_count": 217,
   "metadata": {},
   "outputs": [
    {
     "data": {
      "text/plain": [
       "[('family_AU1245', 9.533004416565341e-10),\n",
       " ('family_AU1795', 1.0346611807110084e-08),\n",
       " ('family_AU2204', 2.954969485332945e-08),\n",
       " ('family_AU3907', 1.3800440809741099e-06),\n",
       " ('family_AU0025', 6.264403395028167e-06),\n",
       " ('family_AU2997', 1.4309065714134361e-05),\n",
       " ('sequencing_plate_MTR-01379', 3.556918559876469e-05),\n",
       " ('family_AU3126', 0.0009690506211639752),\n",
       " ('family_AU3792', 0.0011994838582216596),\n",
       " ('family_AU0889', 0.0031070534903114887),\n",
       " ('family_AU1766', 0.00545094987626212),\n",
       " ('family_AU2313', 0.011948426762190953),\n",
       " ('family_AU1616', 0.016739074906737022),\n",
       " ('family_AU0043', 0.019987350801427297),\n",
       " ('family_AU0651', 0.020994087355327373),\n",
       " ('family_AU1173', 0.02498741639503736),\n",
       " ('family_AU0994', 0.025422408485803794),\n",
       " ('family_AU1686', 0.026945123148944282),\n",
       " ('family_AU4105', 0.04511450007917053),\n",
       " ('sequencing_plate_MTR-01009', 0.0476559937434753),\n",
       " ('family_AU1638', 0.04779390927162295),\n",
       " ('family_AU1631', 0.04779390927162295),\n",
       " ('family_AU1655', 0.04781775444491799),\n",
       " ('family_AU1551', 0.047830921048545555),\n",
       " ('family_AU1572', 0.04783092104854567),\n",
       " ('family_AU1639', 0.04783092104854568),\n",
       " ('family_AU1582', 0.047830921048545694),\n",
       " ('family_AU1576', 0.04783092104854578),\n",
       " ('family_AU1207', 0.048421657584197315),\n",
       " ('sequencing_plate_MTR-01012', 0.048491958547611944),\n",
       " ('family_AU1199', 0.04875339774547268),\n",
       " ('family_AU1648', 0.05047931812963863),\n",
       " ('family_AU1626', 0.05047931812963868),\n",
       " ('family_AU1544', 0.050479318129638795),\n",
       " ('family_AU1589', 0.050479318129638795),\n",
       " ('family_AU1546', 0.05047931812963885),\n",
       " ('family_AU1547', 0.05047931812963886),\n",
       " ('family_AU1573', 0.05047931812963886),\n",
       " ('family_AU1633', 0.05047931812963898),\n",
       " ('family_AU1535', 0.05047931812963898),\n",
       " ('family_AU1969', 0.05055845937138041),\n",
       " ('family_AU1188', 0.050685252807182904),\n",
       " ('family_AU1614', 0.051080090206392294),\n",
       " ('family_AU1537', 0.051124482589337765),\n",
       " ('family_AU3680', 0.05385269085434423),\n",
       " ('family_AU1043', 0.055605406378052),\n",
       " ('family_AU1539', 0.05582411793664642),\n",
       " ('family_AU1575', 0.055824117936646676),\n",
       " ('family_AU1622', 0.05589733732669454),\n",
       " ('sequencing_plate_MTR-01015', 0.05727489034333287),\n",
       " ('sequencing_plate_MTR-01003', 0.06052548697547928),\n",
       " ('family_AU0821', 0.06297509809495364),\n",
       " ('family_AU0871', 0.06397964651871019),\n",
       " ('family_AU0862', 0.06397964651871041),\n",
       " ('family_AU0845', 0.06400568264476517),\n",
       " ('family_AU0947', 0.06400568264476615),\n",
       " ('family_AU0905', 0.06808520712278543),\n",
       " ('family_AU0839', 0.06811471292350008),\n",
       " ('family_AU0916', 0.06811471292350053),\n",
       " ('family_AU0832', 0.0681147129235008)]"
      ]
     },
     "execution_count": 217,
     "metadata": {},
     "output_type": "execute_result"
    }
   ],
   "source": [
    "[(i,j) for i,j in zip(exog.columns[np.argsort(res.pvalues[1:])], sorted(res.pvalues[1:]))][:60]"
   ]
  },
  {
   "cell_type": "code",
   "execution_count": 58,
   "metadata": {},
   "outputs": [
    {
     "data": {
      "text/plain": [
       "<AxesSubplot:xlabel='sequencing_plate', ylabel='Acetobacter pasteurianus IFO'>"
      ]
     },
     "execution_count": 58,
     "metadata": {},
     "output_type": "execute_result"
    },
    {
     "data": {
      "image/png": "[encoded data removed]",
      "text/plain": [
       "<Figure size 1440x216 with 1 Axes>"
      ]
     },
     "metadata": {
      "needs_background": "light"
     },
     "output_type": "display_data"
    }
   ],
   "source": [
    "plt.figure(figsize=(20,3))\n",
    "sns.stripplot(y=endog, x=bam_mappings['sequencing_plate'])"
   ]
  },
  {
   "cell_type": "code",
   "execution_count": 624,
   "metadata": {},
   "outputs": [
    {
     "name": "stderr",
     "output_type": "stream",
     "text": [
      "\n",
      "  0%|          | 0/20 [00:00<?, ?it/s]\u001b[A"
     ]
    },
    {
     "name": "stdout",
     "output_type": "stream",
     "text": [
      "Cross-validation for alpha...\n",
      "running bootstrap\n"
     ]
    },
    {
     "name": "stderr",
     "output_type": "stream",
     "text": [
      "\n",
      "100%|██████████| 20/20 [00:03<00:00,  6.51it/s]\n"
     ]
    },
    {
     "name": "stdout",
     "output_type": "stream",
     "text": [
      "Computing p values...\n"
     ]
    }
   ],
   "source": [
    "# Write to exog directory if not written (should be written after first run)\n",
    "# Write to exog directory if not written (should be written after first run)\n",
    "exog = pd.get_dummies(bam_mappings.loc[df_microbe.index][['sequencing_plate', 'bio_seq_source', 'sex_numeric', 'derived_affected_status', 'relationship']], drop_first=False).astype(float)\n",
    "exog['derived_affected_status_autism'] = exog['derived_affected_status_autism'] + exog['derived_affected_status_asd']\n",
    "exog = exog.drop(\n",
    "    ['derived_affected_status_broad-spectrum', 'derived_affected_status_not-met', 'derived_affected_status_nqa', 'derived_affected_status_asd',\n",
    "     'relationship_mother', 'relationship_father', 'sex_numeric_1.0', 'bio_seq_source_LCL'], axis=1)\n",
    "exog['derived_affected_status_nt'] = ((exog['relationship_sibling']==1) & (exog['derived_affected_status_autism']==0))*1.0\n",
    "\n",
    "print('Cross-validation for alpha...')\n",
    "np.random.seed(np.cumsum([ord(i) for i in COLUMN])[-1])\n",
    "endog = np.log(df_microbe[COLUMN]+1)\n",
    "\n",
    "def ComputeCoefficients(i):\n",
    "    np.random.seed(i)\n",
    "    new_idx = np.random.choice(list(range(len(exog))), len(exog), replace=True)#np.concatenate(bam_mappings.loc[exog.index][['sample_id', 'family']].groupby('family').aggregate(lambda x: list(np.random.choice(list(x), len(list(x)), replace=True)))['sample_id'].values)\n",
    "    exog_new = exog.iloc[new_idx]\n",
    "    endog_new = endog[new_idx]\n",
    "    lm = linear_model.LinearRegression(fit_intercept=True, normalize=True)#, alpha=alpha)\n",
    "    lm.fit(exog_new, endog_new)\n",
    "    #endog_new = endog - (exog.apply(lambda x: sum(x*lm.coef_), axis=1) + lm.intercept_)\n",
    "    #endog_new = endog_new - np.mean(endog_new)\n",
    "    #df = pd.DataFrame([bam_mappings.loc[endog_new.keys()]['family'], endog_new]).transpose()\n",
    "    #df.columns = ['family', 'val']\n",
    "    #df = df.sort_values('family')\n",
    "    fam_coefs = list(df.groupby('family').aggregate(lambda x: np.mean(list(x)))['val'].values)\n",
    "    return lm.coef_\n",
    "\n",
    "print('running bootstrap')\n",
    "inputs = tqdm([i for i in range(N_BOOTS)])\n",
    "coeffs = Parallel(n_jobs=num_cores)(delayed(ComputeCoefficients)(i) for i in inputs)\n",
    "print('Computing p values...')\n",
    "\n",
    "pvals_coeffs = [sum([c[i]>0 for c in coeffs])/N_BOOTS  for i in range(len(exog.columns))]\n",
    "#pvals_fams = [sum([c[i]>0 for c in coeffs])/N_BOOTS  for i in range(len(exog.columns), len(coeffs[0]))]#len(coeffs[0][len(exog.columns):]))]\n"
   ]
  },
  {
   "cell_type": "code",
   "execution_count": null,
   "metadata": {},
   "outputs": [],
   "source": [
    "fams = np.unique(bam_mappings.family)\n",
    "for microbe in df_microbe.columns[100:]:\n",
    "    endog = df_microbe[microbe].values\n",
    "    lm = linear_model.LinearRegression(fit_intercept=True)\n",
    "    lm.fit(exog, endog)\n",
    "    endog_new = endog - (exog.apply(lambda x: sum(x*lm.coef_), axis=1) + lm.intercept_)\n",
    "    endog_new = endog_new - np.mean(endog_new)\n",
    "    df = pd.DataFrame([bam_mappings.loc[endog_new.keys()]['family'], endog_new]).transpose()\n",
    "    df.columns = ['family', 'val']\n",
    "    #mannu_whitney_pval = [(stats.mannwhitneyu(df[df.family==f].val, df[df.family!=f].val, alternative='greater').pvalue) for f in fams]\n",
    "    print(microbe)\n",
    "    print(stats.kruskal(*[i for i in df.groupby('family').aggregate(list).val]))\n",
    "    print(stats.)\n",
    "    print(microbe, [m for m in mannu_whitney_pval if m<(.05/(len(df_microbe.columns)*len(mannu_whitney_pval)))], min(mannu_whitney_pval))\n",
    "#df = df.sort_values('family')\n",
    "#fam_coefs = list(df.groupby('family').aggregate(lambda x: np.mean(list(x)))['val'].values)"
   ]
  },
  {
   "cell_type": "code",
   "execution_count": 672,
   "metadata": {},
   "outputs": [],
   "source": [
    "import scikit_posthocs as sp"
   ]
  },
  {
   "cell_type": "code",
   "execution_count": null,
   "metadata": {},
   "outputs": [],
   "source": [
    "sp.posthoc_conover([i for i in df.groupby('family').aggregate(list).val])"
   ]
  },
  {
   "cell_type": "code",
   "execution_count": null,
   "metadata": {},
   "outputs": [],
   "source": [
    "df_microbe[['Borrelia duttonii Ly']].sort_values('Borrelia duttonii Ly')[::-1][:10]"
   ]
  },
  {
   "cell_type": "code",
   "execution_count": null,
   "metadata": {},
   "outputs": [],
   "source": [
    "[i for i in df.groupby('family').aggregate(list).val]"
   ]
  },
  {
   "cell_type": "code",
   "execution_count": 649,
   "metadata": {},
   "outputs": [
    {
     "data": {
      "text/plain": [
       "8.46952326747432e-08"
      ]
     },
     "execution_count": 649,
     "metadata": {},
     "output_type": "execute_result"
    }
   ],
   "source": [
    ".05/(len(df_microbe.columns)*len(mannu_whitney_pval))"
   ]
  },
  {
   "cell_type": "code",
   "execution_count": null,
   "metadata": {},
   "outputs": [],
   "source": [
    "bam_mappings['se']"
   ]
  },
  {
   "cell_type": "code",
   "execution_count": 638,
   "metadata": {},
   "outputs": [
    {
     "data": {
      "text/html": [
       "<div>\n",
       "<style scoped>\n",
       "    .dataframe tbody tr th:only-of-type {\n",
       "        vertical-align: middle;\n",
       "    }\n",
       "\n",
       "    .dataframe tbody tr th {\n",
       "        vertical-align: top;\n",
       "    }\n",
       "\n",
       "    .dataframe thead th {\n",
       "        text-align: right;\n",
       "    }\n",
       "</style>\n",
       "<table border=\"1\" class=\"dataframe\">\n",
       "  <thead>\n",
       "    <tr style=\"text-align: right;\">\n",
       "      <th></th>\n",
       "      <th>p</th>\n",
       "    </tr>\n",
       "  </thead>\n",
       "  <tbody>\n",
       "    <tr>\n",
       "      <th>bio_seq_source_WB</th>\n",
       "      <td>1.00</td>\n",
       "    </tr>\n",
       "    <tr>\n",
       "      <th>derived_affected_status_nt</th>\n",
       "      <td>0.95</td>\n",
       "    </tr>\n",
       "    <tr>\n",
       "      <th>derived_affected_status_autism</th>\n",
       "      <td>0.95</td>\n",
       "    </tr>\n",
       "    <tr>\n",
       "      <th>sequencing_plate_MTR-00516</th>\n",
       "      <td>0.50</td>\n",
       "    </tr>\n",
       "    <tr>\n",
       "      <th>sequencing_plate_MTR-00027</th>\n",
       "      <td>0.45</td>\n",
       "    </tr>\n",
       "  </tbody>\n",
       "</table>\n",
       "</div>"
      ],
      "text/plain": [
       "                                   p\n",
       "bio_seq_source_WB               1.00\n",
       "derived_affected_status_nt      0.95\n",
       "derived_affected_status_autism  0.95\n",
       "sequencing_plate_MTR-00516      0.50\n",
       "sequencing_plate_MTR-00027      0.45"
      ]
     },
     "execution_count": 638,
     "metadata": {},
     "output_type": "execute_result"
    }
   ],
   "source": [
    "pvals_coeffs_df = pd.DataFrame(pvals_coeffs)\n",
    "pvals_coeffs_df.index = exog.columns\n",
    "pvals_coeffs_df.columns = ['p']\n",
    "pvals_coeffs_df.sort_values('p')[::-1][:5]"
   ]
  },
  {
   "cell_type": "code",
   "execution_count": 4,
   "metadata": {},
   "outputs": [],
   "source": [
    "virus_pvals = pd.read_csv(virus_pvals_file, index_col=0)\n",
    "bacteria_pvals = pd.read_csv(bacteria_pvals_file, index_col=0)"
   ]
  },
  {
   "cell_type": "code",
   "execution_count": null,
   "metadata": {},
   "outputs": [],
   "source": [
    "bacteria_pvals"
   ]
  },
  {
   "cell_type": "code",
   "execution_count": 37,
   "metadata": {},
   "outputs": [
    {
     "data": {
      "text/plain": [
       "(array([139.,  15.,   8.,  14.,  15.,  14.,  18.,  29.,  37., 299.]),\n",
       " array([-4.00000000e+00, -3.59999566e+00, -3.19999131e+00, -2.79998697e+00,\n",
       "        -2.39998263e+00, -1.99997829e+00, -1.59997394e+00, -1.19996960e+00,\n",
       "        -7.99965258e-01, -3.99960915e-01,  4.34272769e-05]),\n",
       " <BarContainer object of 10 artists>)"
      ]
     },
     "execution_count": 37,
     "metadata": {},
     "output_type": "execute_result"
    },
    {
     "data": {
      "image/png": "[encoded data removed]",
      "text/plain": [
       "<Figure size 432x288 with 1 Axes>"
      ]
     },
     "metadata": {
      "needs_background": "light"
     },
     "output_type": "display_data"
    }
   ],
   "source": [
    "plt.hist(np.log10(bacteria_pvals['sequencing_plate_MTR-00009']+.0001))"
   ]
  },
  {
   "cell_type": "code",
   "execution_count": 31,
   "metadata": {},
   "outputs": [
    {
     "name": "stdout",
     "output_type": "stream",
     "text": [
      "VIRUS\n",
      "seq_plate 19 399\n",
      "sex_hits 1 1\n",
      "asd_hits 1 1\n",
      "bio_source_hits 4 4\n",
      "relationship_hits 2 2\n",
      "family_hits 1 2\n"
     ]
    }
   ],
   "source": [
    "## Virus\n",
    "print('VIRUS')\n",
    "r, c = np.where(virus_pvals<(.05/(len(virus_pvals))))\n",
    "hits = [(virus_pvals.index[i],virus_pvals.columns[j]) for i,j in zip(r,c)]\n",
    "seq_plate_hits = [h for h in hits if 'sequencing_plate' in h[1]]\n",
    "sex_hits = [h for h in hits if 'sex_numeric' in h[1]]\n",
    "asd_hits = [h for h in hits if 'derived_affected_status' in h[1]]\n",
    "bio_source_hits = [h for h in hits if 'bio_seq_source' in h[1]]\n",
    "relationship_hits = [h for h in hits if 'relationship' in h[1]]\n",
    "family_hits = [h for h in hits if 'family' in h[1]]\n",
    "for label, hh in [('seq_plate', seq_plate_hits),\n",
    "                  ('sex_hits', sex_hits),\n",
    "                  ('asd_hits', asd_hits),\n",
    "                  ('bio_source_hits', bio_source_hits),\n",
    "                  ('relationship_hits', relationship_hits),\n",
    "                  ('family_hits', family_hits)]:\n",
    "    print(label, len(Counter([h[0] for h in hh])), len(hh)) #,len(hh), len(set([h[0] for h in hh])))"
   ]
  },
  {
   "cell_type": "code",
   "execution_count": 30,
   "metadata": {},
   "outputs": [
    {
     "data": {
      "text/plain": [
       "[('Enterobacteria phage phiX174', 'family_AU1905'),\n",
       " ('Enterobacteria phage phiX174', 'family_AU1921')]"
      ]
     },
     "execution_count": 30,
     "metadata": {},
     "output_type": "execute_result"
    }
   ],
   "source": [
    "family_hits"
   ]
  },
  {
   "cell_type": "code",
   "execution_count": 5,
   "metadata": {},
   "outputs": [
    {
     "name": "stdout",
     "output_type": "stream",
     "text": [
      "BACTERIA\n",
      "seq_plate 400 4001\n",
      "sex_hits 3 3\n",
      "asd_hits 0 0\n",
      "bio_source_hits 97 97\n",
      "relationship_hits 0 0\n",
      "family_hits 1 1\n"
     ]
    }
   ],
   "source": [
    "print(\"BACTERIA\")\n",
    "r, c = np.where(bacteria_pvals<(.05/(len(virus_pvals)+len(bacteria_pvals))))\n",
    "hits = [(bacteria_pvals.index[i],bacteria_pvals.columns[j]) for i,j in zip(r,c)]\n",
    "seq_plate_hits = [h for h in hits if 'sequencing_plate' in h[1]]\n",
    "sex_hits = [h for h in hits if 'sex_numeric' in h[1]]\n",
    "asd_hits = [h for h in hits if 'derived_affected_status' in h[1]]\n",
    "bio_source_hits = [h for h in hits if 'bio_seq_source' in h[1]]\n",
    "relationship_hits = [h for h in hits if 'relationship' in h[1]]\n",
    "family_hits = [h for h in hits if 'family' in h[1]]\n",
    "for label, hh in [('seq_plate', seq_plate_hits),\n",
    "                  ('sex_hits', sex_hits),\n",
    "                  ('asd_hits', asd_hits),\n",
    "                  ('bio_source_hits', bio_source_hits),\n",
    "                  ('relationship_hits', relationship_hits),\n",
    "                  ('family_hits', family_hits)]:\n",
    "    print(label, len(Counter([h[0] for h in hh])), len(hh)) #,len(hh), len(set([h[0] for h in hh])))"
   ]
  },
  {
   "cell_type": "code",
   "execution_count": 11,
   "metadata": {},
   "outputs": [
    {
     "data": {
      "text/plain": [
       "[('Plasmodium knowlesi strain', 'family_AU1466')]"
      ]
     },
     "execution_count": 11,
     "metadata": {},
     "output_type": "execute_result"
    }
   ],
   "source": [
    "family_hits"
   ]
  },
  {
   "cell_type": "code",
   "execution_count": 41,
   "metadata": {},
   "outputs": [
    {
     "name": "stdout",
     "output_type": "stream",
     "text": [
      "84 viruses unfinished\n",
      "588 bacteria unfinished\n"
     ]
    }
   ],
   "source": [
    "import pandas as pd\n",
    "\n",
    "BLOOD_MICROBIOME_DIR = '/home/groups/dpwall/briannac/blood_microbiome/'\n",
    "\n",
    "BACTERIA_ALL_FILE = BLOOD_MICROBIOME_DIR + 'data/bacteria_filtered.csv'\n",
    "BACTERIA_UNFINISHED_FILE = BLOOD_MICROBIOME_DIR + 'intermediate_files/lasso/unfinished_bacteria.txt'\n",
    "VIRUS_ALL_FILE = BLOOD_MICROBIOME_DIR + 'data/virus_filtered.csv'\n",
    "VIRUS_UNFINISHED_FILE = BLOOD_MICROBIOME_DIR + 'intermediate_files/lasso/unfinished_virus.txt'\n",
    "\n",
    "bam_mappings = pd.read_csv(BAM_MAPPINGS_FILE, sep='\\t', index_col=1)\n",
    "df_bacteria = pd.read_csv(BACTERIA_ALL_FILE, index_col=0)\n",
    "df_virus = pd.read_csv(VIRUS_ALL_FILE, index_col=0)\n",
    "try: finished_bacteria = pd.read_csv('/home/groups/dpwall/briannac/blood_microbiome/results/lasso/bacteria_pvals.csv', index_col=0).index\n",
    "except:  finished_bacteria = []\n",
    "try: finished_virus = pd.read_csv('/home/groups/dpwall/briannac/blood_microbiome/results/lasso/virus_pvals.csv', index_col=0).index\n",
    "except: finished_virus = []\n",
    "\n",
    "unfinished_virus = set(df_virus.columns).difference(set(finished_virus))\n",
    "print(len(unfinished_virus), 'viruses unfinished')\n",
    "\n",
    "unfinished_bacteria = set(df_bacteria.columns).difference(set(finished_bacteria))\n",
    "print(len(unfinished_bacteria), 'bacteria unfinished')\n",
    "\n",
    "with open(VIRUS_UNFINISHED_FILE, 'w') as f:\n",
    "    for b in unfinished_virus:\n",
    "        f.write(b + '\\n')\n",
    "\n",
    "with open(BACTERIA_UNFINISHED_FILE, 'w') as f:\n",
    "    for b in unfinished_bacteria:\n",
    "        f.write(b + '\\n')\n"
   ]
  },
  {
   "cell_type": "code",
   "execution_count": 32,
   "metadata": {},
   "outputs": [
    {
     "data": {
      "text/plain": [
       "'/home/groups/dpwall/briannac/blood_microbiome/intermediate_files/lasso/bacteria_unfinished.txt'"
      ]
     },
     "execution_count": 32,
     "metadata": {},
     "output_type": "execute_result"
    }
   ],
   "source": [
    "BACTERIA_UNFINISHED_FILE"
   ]
  },
  {
   "cell_type": "code",
   "execution_count": null,
   "metadata": {},
   "outputs": [],
   "source": [
    "100000"
   ]
  }
 ],
 "metadata": {
  "kernelspec": {
   "display_name": "Python 3",
   "language": "python",
   "name": "python3"
  },
  "language_info": {
   "codemirror_mode": {
    "name": "ipython",
    "version": 3
   },
   "file_extension": ".py",
   "mimetype": "text/x-python",
   "name": "python",
   "nbconvert_exporter": "python",
   "pygments_lexer": "ipython3",
   "version": "3.6.1"
  }
 },
 "nbformat": 4,
 "nbformat_minor": 2
}

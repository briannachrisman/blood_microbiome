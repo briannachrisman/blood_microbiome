{
 "cells": [
  {
   "cell_type": "code",
   "execution_count": 2,
   "metadata": {},
   "outputs": [],
   "source": [
    "import pandas as pd\n",
    "from collections import Counter\n",
    "import numpy as np\n",
    "from Bio import SeqIO\n",
    "import matplotlib.pyplot as plt\n",
    "import glob\n",
    "import seaborn as sns\n",
    "import sys\n",
    "from scipy.stats import spearmanr\n",
    "from scipy.cluster import hierarchy\n",
    "from scipy.cluster.hierarchy import dendrogram, linkage,leaves_list\n",
    "from sklearn.metrics.pairwise import euclidean_distances\n",
    "from scipy.spatial.distance import hamming, squareform\n",
    "from scipy.spatial.distance import pdist, jaccard\n",
    "\n",
    "PROJECT_FILEPATH='/home/groups/dpwall/briannac/blood_microbiome/'\n",
    "\n",
    "PROJECT_FILEPATH='/home/groups/dpwall/briannac/blood_microbiome/results/unmapped_read_distribution'\n",
    "sys.path.append('/home/groups/dpwall/briannac/blood_microbiome/src')\n",
    "\n",
    "HOME_FILEPATH='/home/groups/dpwall/briannac'\n",
    "OAK_FILEPATH='/oak/stanford/groups/dpwall/users/briannac'\n",
    "\n",
    "\n",
    "bacteria_aggregated_strain_file = PROJECT_FILEPATH + 'data/bacteria_strain_agg.csv'\n",
    "bacteria_aggregated_species_file =  PROJECT_FILEPATH + 'data/bacteria_species_agg.csv'\n",
    "\n",
    "# Output files and symlinks.\n",
    "bacteria_file_out = PROJECT_FILEPATH + 'data/bacteria_filt.csv'\n",
    "virus_file_out = PROJECT_FILEPATH + 'data/virus_filt.csv'\n",
    "virus_out_file = '/home/groups/dpwall/briannac/blood_microbiome/results_final/virus_filt.csv'\n",
    "hmp_catalog_file = '/home/groups/dpwall/briannac/blood_microbiome/data/hmp_project_catalog.csv'\n"
   ]
  },
  {
   "cell_type": "code",
   "execution_count": 12,
   "metadata": {},
   "outputs": [],
   "source": [
    "viruses = pd.read_csv('/scratch/users/briannac/blood_microbiome/make_microbe_mats/virus.all.csv', index_col=0)\n",
    "viruses = viruses[viruses.columns[viruses.sum()>0]]\n",
    "\n",
    "bacteria = pd.read_csv('/scratch/users/briannac/blood_microbiome/make_microbe_mats/bacteria.all.csv', index_col=0)\n",
    "bacteria = bacteria[bacteria.columns[bacteria.sum()>0]]"
   ]
  },
  {
   "cell_type": "code",
   "execution_count": 35,
   "metadata": {},
   "outputs": [],
   "source": [
    "import csv\n",
    "with open('/scratch/users/briannac/blood_microbiome/make_microbe_mats/bacteria.all.csv', newline='') as csvfile:\n",
    "    data = list(csv.reader(csvfile))\n",
    "non_zeros = [sum([int(d[i]) for d in data[1:]])>0 for i in range(1,len(data[1]))]\n",
    "idx_to_keep = np.where(np.array(non_zeros))[0]\n",
    "new_data = [[int(d[i+1]) for i in idx_to_keep] for d in data[1:]]\n",
    "\n",
    "col_names = np.array(data[0][1:])\n",
    "row_names = [d[0] for d in data[1:]]\n",
    "\n",
    "bacteria = pd.DataFrame(new_data)\n",
    "bacteria.columns = col_names[idx_to_keep]\n",
    "bacteria.index = row_names"
   ]
  },
  {
   "cell_type": "code",
   "execution_count": 73,
   "metadata": {},
   "outputs": [],
   "source": [
    "non_zeros = [sum([int(d[i]) for d in data[1:]])>0 for i in range(1,len(data[1]))]\n",
    "idx_to_keep = np.where(np.array(non_zeros))[0]\n",
    "new_data = [[int(d[i+1]) for i in idx_to_keep] for d in data[1:]]\n",
    "\n",
    "col_names = np.array(data[0][1:])\n",
    "row_names = [d[0] for d in data[1:]]\n",
    "\n",
    "bacteria = pd.DataFrame(new_data)\n",
    "bacteria.columns = col_names[idx_to_keep]\n",
    "bacteria.index = row_names"
   ]
  },
  {
   "cell_type": "code",
   "execution_count": 106,
   "metadata": {},
   "outputs": [],
   "source": [
    "idx_to_keep = np.where(np.array(non_zeros))[0]\n",
    "new_data = [[int(d[i+1]) for i in idx_to_keep] for d in data[1:]]"
   ]
  },
  {
   "cell_type": "code",
   "execution_count": 107,
   "metadata": {},
   "outputs": [],
   "source": [
    "col_names = np.array(data[0][1:])\n",
    "row_names = [d[0] for d in data[1:]]"
   ]
  },
  {
   "cell_type": "code",
   "execution_count": 108,
   "metadata": {},
   "outputs": [],
   "source": [
    "bacteria = pd.DataFrame(new_data)\n",
    "bacteria.columns = col_names[idx_to_keep]\n",
    "bacteria.index = row_names"
   ]
  },
  {
   "cell_type": "code",
   "execution_count": 109,
   "metadata": {},
   "outputs": [],
   "source": [
    "df.columns = col_names[idx_to_keep]\n",
    "df.index = row_names"
   ]
  },
  {
   "cell_type": "code",
   "execution_count": 40,
   "metadata": {},
   "outputs": [
    {
     "ename": "TypeError",
     "evalue": "__init__() got an unexpected keyword argument 'header'",
     "output_type": "error",
     "traceback": [
      "\u001b[0;31m---------------------------------------------------------------------------\u001b[0m",
      "\u001b[0;31mTypeError\u001b[0m                                 Traceback (most recent call last)",
      "\u001b[0;32m<ipython-input-40-4e3bb8eaa338>\u001b[0m in \u001b[0;36m<module>\u001b[0;34m\u001b[0m\n\u001b[0;32m----> 1\u001b[0;31m \u001b[0mbacteria\u001b[0m \u001b[0;34m=\u001b[0m \u001b[0mpd\u001b[0m\u001b[0;34m.\u001b[0m\u001b[0mDataFrame\u001b[0m\u001b[0;34m(\u001b[0m\u001b[0mdata\u001b[0m\u001b[0;34m,\u001b[0m \u001b[0mheader\u001b[0m\u001b[0;34m=\u001b[0m\u001b[0;32mNone\u001b[0m\u001b[0;34m,\u001b[0m \u001b[0mskiprows\u001b[0m\u001b[0;34m=\u001b[0m\u001b[0;36m1\u001b[0m\u001b[0;34m)\u001b[0m\u001b[0;34m\u001b[0m\u001b[0m\n\u001b[0m",
      "\u001b[0;31mTypeError\u001b[0m: __init__() got an unexpected keyword argument 'header'"
     ]
    }
   ],
   "source": [
    "bacteria = pd.DataFrame(data, header=None, skiprows=1)"
   ]
  },
  {
   "cell_type": "code",
   "execution_count": 41,
   "metadata": {},
   "outputs": [
    {
     "ename": "KeyboardInterrupt",
     "evalue": "",
     "output_type": "error",
     "traceback": [
      "\u001b[0;31m---------------------------------------------------------------------------\u001b[0m",
      "\u001b[0;31mKeyboardInterrupt\u001b[0m                         Traceback (most recent call last)",
      "\u001b[0;32m<ipython-input-41-3f1542cabece>\u001b[0m in \u001b[0;36m<module>\u001b[0;34m\u001b[0m\n\u001b[0;32m----> 1\u001b[0;31m \u001b[0mbacteria\u001b[0m \u001b[0;34m=\u001b[0m \u001b[0mpd\u001b[0m\u001b[0;34m.\u001b[0m\u001b[0mread_csv\u001b[0m\u001b[0;34m(\u001b[0m\u001b[0;34m'/scratch/users/briannac/blood_microbiome/make_microbe_mats/bacteria.all.csv'\u001b[0m\u001b[0;34m,\u001b[0m \u001b[0mindex_col\u001b[0m\u001b[0;34m=\u001b[0m\u001b[0;36m0\u001b[0m\u001b[0;34m,\u001b[0m \u001b[0mskiprows\u001b[0m\u001b[0;34m=\u001b[0m\u001b[0;36m1\u001b[0m\u001b[0;34m,\u001b[0m \u001b[0mheader\u001b[0m\u001b[0;34m=\u001b[0m\u001b[0;32mNone\u001b[0m\u001b[0;34m)\u001b[0m\u001b[0;34m\u001b[0m\u001b[0m\n\u001b[0m\u001b[1;32m      2\u001b[0m \u001b[0;31m#bacteria = bacteria[bacteria.columns[bacteria.sum()>0]]\u001b[0m\u001b[0;34m\u001b[0m\u001b[0;34m\u001b[0m\u001b[0m\n",
      "\u001b[0;32m~/.local/lib/python3.6/site-packages/pandas/io/parsers.py\u001b[0m in \u001b[0;36mparser_f\u001b[0;34m(filepath_or_buffer, sep, delimiter, header, names, index_col, usecols, squeeze, prefix, mangle_dupe_cols, dtype, engine, converters, true_values, false_values, skipinitialspace, skiprows, skipfooter, nrows, na_values, keep_default_na, na_filter, verbose, skip_blank_lines, parse_dates, infer_datetime_format, keep_date_col, date_parser, dayfirst, cache_dates, iterator, chunksize, compression, thousands, decimal, lineterminator, quotechar, quoting, doublequote, escapechar, comment, encoding, dialect, error_bad_lines, warn_bad_lines, delim_whitespace, low_memory, memory_map, float_precision)\u001b[0m\n\u001b[1;32m    674\u001b[0m         )\n\u001b[1;32m    675\u001b[0m \u001b[0;34m\u001b[0m\u001b[0m\n\u001b[0;32m--> 676\u001b[0;31m         \u001b[0;32mreturn\u001b[0m \u001b[0m_read\u001b[0m\u001b[0;34m(\u001b[0m\u001b[0mfilepath_or_buffer\u001b[0m\u001b[0;34m,\u001b[0m \u001b[0mkwds\u001b[0m\u001b[0;34m)\u001b[0m\u001b[0;34m\u001b[0m\u001b[0m\n\u001b[0m\u001b[1;32m    677\u001b[0m \u001b[0;34m\u001b[0m\u001b[0m\n\u001b[1;32m    678\u001b[0m     \u001b[0mparser_f\u001b[0m\u001b[0;34m.\u001b[0m\u001b[0m__name__\u001b[0m \u001b[0;34m=\u001b[0m \u001b[0mname\u001b[0m\u001b[0;34m\u001b[0m\u001b[0m\n",
      "\u001b[0;32m~/.local/lib/python3.6/site-packages/pandas/io/parsers.py\u001b[0m in \u001b[0;36m_read\u001b[0;34m(filepath_or_buffer, kwds)\u001b[0m\n\u001b[1;32m    452\u001b[0m \u001b[0;34m\u001b[0m\u001b[0m\n\u001b[1;32m    453\u001b[0m     \u001b[0;32mtry\u001b[0m\u001b[0;34m:\u001b[0m\u001b[0;34m\u001b[0m\u001b[0m\n\u001b[0;32m--> 454\u001b[0;31m         \u001b[0mdata\u001b[0m \u001b[0;34m=\u001b[0m \u001b[0mparser\u001b[0m\u001b[0;34m.\u001b[0m\u001b[0mread\u001b[0m\u001b[0;34m(\u001b[0m\u001b[0mnrows\u001b[0m\u001b[0;34m)\u001b[0m\u001b[0;34m\u001b[0m\u001b[0m\n\u001b[0m\u001b[1;32m    455\u001b[0m     \u001b[0;32mfinally\u001b[0m\u001b[0;34m:\u001b[0m\u001b[0;34m\u001b[0m\u001b[0m\n\u001b[1;32m    456\u001b[0m         \u001b[0mparser\u001b[0m\u001b[0;34m.\u001b[0m\u001b[0mclose\u001b[0m\u001b[0;34m(\u001b[0m\u001b[0;34m)\u001b[0m\u001b[0;34m\u001b[0m\u001b[0m\n",
      "\u001b[0;32m~/.local/lib/python3.6/site-packages/pandas/io/parsers.py\u001b[0m in \u001b[0;36mread\u001b[0;34m(self, nrows)\u001b[0m\n\u001b[1;32m   1131\u001b[0m     \u001b[0;32mdef\u001b[0m \u001b[0mread\u001b[0m\u001b[0;34m(\u001b[0m\u001b[0mself\u001b[0m\u001b[0;34m,\u001b[0m \u001b[0mnrows\u001b[0m\u001b[0;34m=\u001b[0m\u001b[0;32mNone\u001b[0m\u001b[0;34m)\u001b[0m\u001b[0;34m:\u001b[0m\u001b[0;34m\u001b[0m\u001b[0m\n\u001b[1;32m   1132\u001b[0m         \u001b[0mnrows\u001b[0m \u001b[0;34m=\u001b[0m \u001b[0m_validate_integer\u001b[0m\u001b[0;34m(\u001b[0m\u001b[0;34m\"nrows\"\u001b[0m\u001b[0;34m,\u001b[0m \u001b[0mnrows\u001b[0m\u001b[0;34m)\u001b[0m\u001b[0;34m\u001b[0m\u001b[0m\n\u001b[0;32m-> 1133\u001b[0;31m         \u001b[0mret\u001b[0m \u001b[0;34m=\u001b[0m \u001b[0mself\u001b[0m\u001b[0;34m.\u001b[0m\u001b[0m_engine\u001b[0m\u001b[0;34m.\u001b[0m\u001b[0mread\u001b[0m\u001b[0;34m(\u001b[0m\u001b[0mnrows\u001b[0m\u001b[0;34m)\u001b[0m\u001b[0;34m\u001b[0m\u001b[0m\n\u001b[0m\u001b[1;32m   1134\u001b[0m \u001b[0;34m\u001b[0m\u001b[0m\n\u001b[1;32m   1135\u001b[0m         \u001b[0;31m# May alter columns / col_dict\u001b[0m\u001b[0;34m\u001b[0m\u001b[0;34m\u001b[0m\u001b[0m\n",
      "\u001b[0;32m~/.local/lib/python3.6/site-packages/pandas/io/parsers.py\u001b[0m in \u001b[0;36mread\u001b[0;34m(self, nrows)\u001b[0m\n\u001b[1;32m   2035\u001b[0m     \u001b[0;32mdef\u001b[0m \u001b[0mread\u001b[0m\u001b[0;34m(\u001b[0m\u001b[0mself\u001b[0m\u001b[0;34m,\u001b[0m \u001b[0mnrows\u001b[0m\u001b[0;34m=\u001b[0m\u001b[0;32mNone\u001b[0m\u001b[0;34m)\u001b[0m\u001b[0;34m:\u001b[0m\u001b[0;34m\u001b[0m\u001b[0m\n\u001b[1;32m   2036\u001b[0m         \u001b[0;32mtry\u001b[0m\u001b[0;34m:\u001b[0m\u001b[0;34m\u001b[0m\u001b[0m\n\u001b[0;32m-> 2037\u001b[0;31m             \u001b[0mdata\u001b[0m \u001b[0;34m=\u001b[0m \u001b[0mself\u001b[0m\u001b[0;34m.\u001b[0m\u001b[0m_reader\u001b[0m\u001b[0;34m.\u001b[0m\u001b[0mread\u001b[0m\u001b[0;34m(\u001b[0m\u001b[0mnrows\u001b[0m\u001b[0;34m)\u001b[0m\u001b[0;34m\u001b[0m\u001b[0m\n\u001b[0m\u001b[1;32m   2038\u001b[0m         \u001b[0;32mexcept\u001b[0m \u001b[0mStopIteration\u001b[0m\u001b[0;34m:\u001b[0m\u001b[0;34m\u001b[0m\u001b[0m\n\u001b[1;32m   2039\u001b[0m             \u001b[0;32mif\u001b[0m \u001b[0mself\u001b[0m\u001b[0;34m.\u001b[0m\u001b[0m_first_chunk\u001b[0m\u001b[0;34m:\u001b[0m\u001b[0;34m\u001b[0m\u001b[0m\n",
      "\u001b[0;32mpandas/_libs/parsers.pyx\u001b[0m in \u001b[0;36mpandas._libs.parsers.TextReader.read\u001b[0;34m()\u001b[0m\n",
      "\u001b[0;32mpandas/_libs/parsers.pyx\u001b[0m in \u001b[0;36mpandas._libs.parsers.TextReader._read_low_memory\u001b[0;34m()\u001b[0m\n",
      "\u001b[0;32mpandas/_libs/parsers.pyx\u001b[0m in \u001b[0;36mpandas._libs.parsers.TextReader._read_rows\u001b[0;34m()\u001b[0m\n",
      "\u001b[0;32mpandas/_libs/parsers.pyx\u001b[0m in \u001b[0;36mpandas._libs.parsers.TextReader._convert_column_data\u001b[0;34m()\u001b[0m\n",
      "\u001b[0;32mpandas/_libs/parsers.pyx\u001b[0m in \u001b[0;36mpandas._libs.parsers.TextReader._convert_tokens\u001b[0;34m()\u001b[0m\n",
      "\u001b[0;32mpandas/_libs/parsers.pyx\u001b[0m in \u001b[0;36mpandas._libs.parsers.TextReader._convert_with_dtype\u001b[0;34m()\u001b[0m\n",
      "\u001b[0;32m~/.local/lib/python3.6/site-packages/pandas/core/dtypes/common.py\u001b[0m in \u001b[0;36mis_categorical_dtype\u001b[0;34m(arr_or_dtype)\u001b[0m\n\u001b[1;32m    540\u001b[0m \u001b[0;34m\u001b[0m\u001b[0m\n\u001b[1;32m    541\u001b[0m \u001b[0;34m\u001b[0m\u001b[0m\n\u001b[0;32m--> 542\u001b[0;31m \u001b[0;32mdef\u001b[0m \u001b[0mis_categorical_dtype\u001b[0m\u001b[0;34m(\u001b[0m\u001b[0marr_or_dtype\u001b[0m\u001b[0;34m)\u001b[0m \u001b[0;34m->\u001b[0m \u001b[0mbool\u001b[0m\u001b[0;34m:\u001b[0m\u001b[0;34m\u001b[0m\u001b[0m\n\u001b[0m\u001b[1;32m    543\u001b[0m     \"\"\"\n\u001b[1;32m    544\u001b[0m     \u001b[0mCheck\u001b[0m \u001b[0mwhether\u001b[0m \u001b[0man\u001b[0m \u001b[0marray\u001b[0m\u001b[0;34m-\u001b[0m\u001b[0mlike\u001b[0m \u001b[0;32mor\u001b[0m \u001b[0mdtype\u001b[0m \u001b[0;32mis\u001b[0m \u001b[0mof\u001b[0m \u001b[0mthe\u001b[0m \u001b[0mCategorical\u001b[0m \u001b[0mdtype\u001b[0m\u001b[0;34m.\u001b[0m\u001b[0;34m\u001b[0m\u001b[0m\n",
      "\u001b[0;31mKeyboardInterrupt\u001b[0m: "
     ]
    }
   ],
   "source": [
    "bacteria = pd.read_csv('/scratch/users/briannac/blood_microbiome/make_microbe_mats/bacteria.all.csv', index_col=0, skiprows=1, header=None)\n",
    "#bacteria = bacteria[bacteria.columns[bacteria.sum()>0]]"
   ]
  },
  {
   "cell_type": "code",
   "execution_count": 33,
   "metadata": {},
   "outputs": [
    {
     "ename": "NameError",
     "evalue": "name 'bacteria' is not defined",
     "output_type": "error",
     "traceback": [
      "\u001b[0;31m---------------------------------------------------------------------------\u001b[0m",
      "\u001b[0;31mNameError\u001b[0m                                 Traceback (most recent call last)",
      "\u001b[0;32m<ipython-input-33-859b3ed54d70>\u001b[0m in \u001b[0;36m<module>\u001b[0;34m\u001b[0m\n\u001b[0;32m----> 1\u001b[0;31m \u001b[0mbacteria\u001b[0m\u001b[0;34m\u001b[0m\u001b[0m\n\u001b[0m",
      "\u001b[0;31mNameError\u001b[0m: name 'bacteria' is not defined"
     ]
    }
   ],
   "source": [
    "bacteria"
   ]
  },
  {
   "cell_type": "code",
   "execution_count": 29,
   "metadata": {},
   "outputs": [
    {
     "data": {
      "text/plain": [
       "0.13436510139317454"
      ]
     },
     "execution_count": 29,
     "metadata": {},
     "output_type": "execute_result"
    }
   ],
   "source": [
    "np.median(bacteria['poorly_aligned'].sum()/bacteria.sum(axis=1).sum())"
   ]
  },
  {
   "cell_type": "code",
   "execution_count": 53,
   "metadata": {},
   "outputs": [
    {
     "data": {
      "text/html": [
       "<div>\n",
       "<style scoped>\n",
       "    .dataframe tbody tr th:only-of-type {\n",
       "        vertical-align: middle;\n",
       "    }\n",
       "\n",
       "    .dataframe tbody tr th {\n",
       "        vertical-align: top;\n",
       "    }\n",
       "\n",
       "    .dataframe thead th {\n",
       "        text-align: right;\n",
       "    }\n",
       "</style>\n",
       "<table border=\"1\" class=\"dataframe\">\n",
       "  <thead>\n",
       "    <tr style=\"text-align: right;\">\n",
       "      <th></th>\n",
       "      <th>sample</th>\n",
       "      <th>VIRL|gi|307691262|ref|NC_014542.1|</th>\n",
       "      <th>VIRL|gi|261420948|ref|NC_013413.1|</th>\n",
       "      <th>VIRL|gi|226232349|ref|NC_012493.1|</th>\n",
       "      <th>VIRL|gi|226202299|ref|NC_012492.1|</th>\n",
       "      <th>VIRL|gi|195535989|ref|NC_011096.1|</th>\n",
       "      <th>VIRL|gi|45445708|ref|NC_005812.1|</th>\n",
       "      <th>VIRL|gi|45445705|ref|NC_005811.1|</th>\n",
       "      <th>VIRL|gi|188572155|ref|NC_010714.1|</th>\n",
       "      <th>VIRL|gi|188572148|ref|NC_010713.1|</th>\n",
       "      <th>...</th>\n",
       "      <th>NC_012802.1</th>\n",
       "      <th>NC_012776.1</th>\n",
       "      <th>NC_012777.1</th>\n",
       "      <th>NC_012729.2</th>\n",
       "      <th>NC_012564.1</th>\n",
       "      <th>NC_012042.1</th>\n",
       "      <th>NC_011800.1</th>\n",
       "      <th>NC_011203.1</th>\n",
       "      <th>NC_007605.1</th>\n",
       "      <th>NC_001664.4</th>\n",
       "    </tr>\n",
       "  </thead>\n",
       "  <tbody>\n",
       "  </tbody>\n",
       "</table>\n",
       "<p>0 rows × 4135 columns</p>\n",
       "</div>"
      ],
      "text/plain": [
       "Empty DataFrame\n",
       "Columns: [sample, VIRL|gi|307691262|ref|NC_014542.1|, VIRL|gi|261420948|ref|NC_013413.1|, VIRL|gi|226232349|ref|NC_012493.1|, VIRL|gi|226202299|ref|NC_012492.1|, VIRL|gi|195535989|ref|NC_011096.1|, VIRL|gi|45445708|ref|NC_005812.1|, VIRL|gi|45445705|ref|NC_005811.1|, VIRL|gi|188572155|ref|NC_010714.1|, VIRL|gi|188572148|ref|NC_010713.1|, VIRL|gi|151266263|ref|NC_009646.1|, VIRL|gi|307563838|ref|NC_014536.1|, VIRL|gi|281306659|ref|NC_013638.1|, VIRL|gi|162135082|ref|NC_010116.1|, VIRL|gi|77020112|ref|NC_006356.2|, VIRL|gi|289183404|ref|NC_012729.2|, VIRL|gi|307346982|ref|NC_014521.1|, VIRL|gi|307346984|ref|NC_014520.1|, VIRL|gi|307346987|ref|NC_014519.1|, VIRL|gi|307346989|ref|NC_014518.1|, VIRL|gi|307346991|ref|NC_014517.1|, VIRL|gi|307346993|ref|NC_014516.1|, VIRL|gi|307346995|ref|NC_014515.1|, VIRL|gi|307346997|ref|NC_014514.1|, VIRL|gi|307346999|ref|NC_014513.1|, VIRL|gi|307347001|ref|NC_014512.1|, VIRL|gi|307347003|ref|NC_014511.1|, VIRL|gi|307715266|ref|NC_014510.2|, VIRL|gi|307346911|ref|NC_014509.1|, VIRL|gi|304282459|ref|NC_014413.1|, VIRL|gi|304282472|ref|NC_014412.1|, VIRL|gi|304282485|ref|NC_014411.1|, VIRL|gi|296005646|ref|NC_014137.1|, VIRL|gi|304422916|ref|NC_014468.1|, VIRL|gi|9630696|ref|NC_001937.1|, VIRL|gi|9630691|ref|NC_001936.1|, VIRL|gi|9627493|ref|NC_001607.1|, VIRL|gi|294987153|ref|NC_014040.1|, VIRL|gi|62327499|ref|NC_006935.1|, VIRL|gi|9626945|ref|NC_001498.1|, VIRL|gi|302315369|ref|NC_014372.1|, VIRL|gi|289163350|ref|NC_013774.1|, VIRL|gi|255694013|ref|NC_013076.1|, VIRL|gi|255694008|ref|NC_013075.1|, VIRL|gi|306478690|ref|NC_014482.1|, VIRL|gi|306478697|ref|NC_014481.1|, VIRL|gi|306478700|ref|NC_014480.1|, VIRL|gi|306478704|ref|NC_014474.1|, VIRL|gi|306478709|ref|NC_014473.1|, VIRL|gi|306478722|ref|NC_014324.1|, VIRL|gi|306478716|ref|NC_014320.1|, VIRL|gi|9626440|ref|NC_001434.1|, VIRL|gi|304633675|ref|NC_014470.1|, VIRL|gi|304522114|ref|NC_014469.1|, VIRL|gi|304443238|ref|NC_014460.1|, VIRL|gi|167046005|ref|NC_010313.1|, VIRL|gi|12280941|ref|NC_001792.2|, VIRL|gi|9627014|ref|NC_001514.1|, VIRL|gi|213159161|ref|NC_011587.1|, VIRL|gi|51556461|ref|NC_006150.1|, VIRL|gi|14250967|ref|NC_002794.1|, VIRL|gi|10140926|ref|NC_002531.1|, VIRL|gi|20198505|ref|NC_002512.2|, VIRL|gi|9629818|ref|NC_001847.1|, VIRL|gi|9629378|ref|NC_001806.1|, VIRL|gi|304373555|ref|NC_014467.1|, VIRL|gi|304373830|ref|NC_014465.1|, VIRL|gi|304373828|ref|NC_014464.1|, VIRL|gi|304373826|ref|NC_014463.1|, VIRL|gi|304373832|ref|NC_014462.1|, VIRL|gi|304360949|ref|NC_014461.1|, VIRL|gi|304360853|ref|NC_014459.1|, VIRL|gi|304360758|ref|NC_014458.1|, VIRL|gi|304360662|ref|NC_014457.1|, VIRL|gi|304360749|ref|NC_014447.1|, VIRL|gi|304360752|ref|NC_014446.1|, VIRL|gi|302317866|ref|NC_014358.1|, VIRL|gi|20564191|ref|NC_003843.1|, VIRL|gi|20564188|ref|NC_003841.1|, VIRL|gi|20564186|ref|NC_003832.1|, VIRL|gi|9695415|ref|NC_002200.1|, VIRL|gi|282598772|ref|NC_013698.1|, VIRL|gi|52673229|ref|NC_006312.1|, VIRL|gi|52630357|ref|NC_006311.1|, VIRL|gi|52630355|ref|NC_006310.1|, VIRL|gi|52630353|ref|NC_006309.1|, VIRL|gi|52630351|ref|NC_006308.1|, VIRL|gi|52630349|ref|NC_006307.1|, VIRL|gi|211910015|ref|NC_006306.2|, VIRL|gi|41057586|ref|NC_005338.1|, VIRL|gi|20806024|ref|NC_003865.1|, VIRL|gi|14717141|ref|NC_002985.1|, VIRL|gi|14717136|ref|NC_002984.1|, VIRL|gi|253756630|ref|NC_012952.1|, VIRL|gi|253750553|ref|NC_012938.1|, VIRL|gi|303308462|ref|NC_010441.2|, VIRL|gi|9633069|ref|NC_000898.1|, VIRL|gi|303291522|ref|NC_014407.1|, VIRL|gi|303291528|ref|NC_014406.1|, VIRL|gi|288804632|ref|NC_013796.1|, ...]\n",
       "Index: []\n",
       "\n",
       "[0 rows x 4135 columns]"
      ]
     },
     "execution_count": 53,
     "metadata": {},
     "output_type": "execute_result"
    }
   ],
   "source": [
    "viruses = pd.read_csv('/scratch/users/briannac/blood_microbiome/make_microbe_mats/virus.all.csv', index_col=0)"
   ]
  },
  {
   "cell_type": "code",
   "execution_count": 46,
   "metadata": {},
   "outputs": [
    {
     "data": {
      "image/png": "[encoded data removed]",
      "text/plain": [
       "<Figure size 432x288 with 1 Axes>"
      ]
     },
     "metadata": {
      "needs_background": "light"
     },
     "output_type": "display_data"
    }
   ],
   "source": [
    "AS_df = pd.read_csv('test_AS.csv', header=None)\n",
    "ref_df = pd.read_csv('test_ref.csv', header=None)\n",
    "plt.hist(AS_df[0].values)\n",
    "plt.show()"
   ]
  },
  {
   "cell_type": "code",
   "execution_count": 49,
   "metadata": {},
   "outputs": [
    {
     "data": {
      "text/plain": [
       "Counter({'MH533023.1': 186,\n",
       "         'MH533024.1': 639,\n",
       "         'MH533028.1': 5949,\n",
       "         'MH533029.1': 316,\n",
       "         'MH533030.1': 161,\n",
       "         'MH533031.1': 1203,\n",
       "         'MH533034.1': 116,\n",
       "         'MH533035.1': 214,\n",
       "         'MH533036.1': 563,\n",
       "         'MH533037.1': 1143,\n",
       "         'MH533038.1': 787,\n",
       "         'MH533039.1': 1248,\n",
       "         'MH533040.1': 1322,\n",
       "         'MH533041.1': 212,\n",
       "         'MH533042.1': 682,\n",
       "         'MH533045.1': 3,\n",
       "         'MH533047.1': 669,\n",
       "         'MH533048.1': 1,\n",
       "         'MH533049.1': 4,\n",
       "         'MH533051.1': 244,\n",
       "         'MH533052.1': 12,\n",
       "         'MH533053.1': 1537,\n",
       "         'MH533055.1': 393,\n",
       "         'MH533056.1': 586,\n",
       "         'MH533057.1': 675,\n",
       "         'MH533058.1': 59,\n",
       "         'MH533059.1': 1253,\n",
       "         'MH533060.1': 3159,\n",
       "         'MH533061.1': 16,\n",
       "         'MH533065.1': 155,\n",
       "         'MH533068.1': 86,\n",
       "         'MH533069.1': 74,\n",
       "         'MH533071.1': 2,\n",
       "         'MH533073.1': 4,\n",
       "         'MH533074.1': 2213,\n",
       "         'MH533075.1': 1152,\n",
       "         'MH533076.1': 126,\n",
       "         'MH533079.1': 4,\n",
       "         'MH533080.1': 397,\n",
       "         'MH533081.1': 32,\n",
       "         'MH533084.1': 30,\n",
       "         'MH533085.1': 524,\n",
       "         'MH533086.1': 1402,\n",
       "         'MH533087.1': 54,\n",
       "         'MH533088.1': 613,\n",
       "         'MH533089.1': 2,\n",
       "         'MH533091.1': 110,\n",
       "         'MH533092.1': 125,\n",
       "         'MH533094.1': 3032,\n",
       "         'MH533097.1': 83,\n",
       "         'MH533098.1': 450,\n",
       "         'MH533101.1': 31,\n",
       "         'MH533102.1': 59,\n",
       "         'MH533103.1': 7,\n",
       "         'MH533105.1': 80,\n",
       "         'MH533107.1': 1657,\n",
       "         'MH533108.1': 4,\n",
       "         'MH533109.1': 50,\n",
       "         'MH533112.1': 120,\n",
       "         'MH533114.1': 662,\n",
       "         'MH533115.1': 290,\n",
       "         'MH533116.1': 6,\n",
       "         'MH533117.1': 68,\n",
       "         'MH533121.1': 614,\n",
       "         'MH533122.1': 3,\n",
       "         'MH533129.1': 54,\n",
       "         'MH533133.1': 10,\n",
       "         'MH533136.1': 401,\n",
       "         'MH533138.1': 232,\n",
       "         'MH533141.1': 52,\n",
       "         'MH533144.1': 29,\n",
       "         'MH533145.1': 1,\n",
       "         'MH533146.1': 22,\n",
       "         'MH533149.1': 8,\n",
       "         'MH533150.1': 40,\n",
       "         'MH533151.1': 1503,\n",
       "         'MH533152.1': 242,\n",
       "         'MH533153.1': 190,\n",
       "         'MH533154.1': 981,\n",
       "         'MH533155.1': 442,\n",
       "         'MH533156.1': 104,\n",
       "         'MH533158.1': 1,\n",
       "         'MH533159.1': 2,\n",
       "         'MH533160.1': 66,\n",
       "         'MH533163.1': 2449,\n",
       "         'MH533164.1': 725,\n",
       "         'MH533165.1': 85,\n",
       "         'MH533166.1': 678,\n",
       "         'MH533168.1': 336,\n",
       "         'MH533170.1': 32,\n",
       "         'MH533171.1': 177,\n",
       "         'MH533172.1': 450,\n",
       "         'MH533173.1': 58,\n",
       "         'MH533174.1': 686,\n",
       "         'MH533175.1': 1033,\n",
       "         'MH533177.1': 755,\n",
       "         'MH533178.1': 782,\n",
       "         'MH533183.1': 63,\n",
       "         'MH533185.1': 16,\n",
       "         'MH533186.1': 49,\n",
       "         'MH533187.1': 68,\n",
       "         'MH533190.1': 22,\n",
       "         'MH533191.1': 858,\n",
       "         'MH533194.1': 2085,\n",
       "         'MH533195.1': 10,\n",
       "         'MH533198.1': 177,\n",
       "         'MH533199.1': 24,\n",
       "         'MH533200.1': 1113,\n",
       "         'MH533202.1': 52,\n",
       "         'MH533203.1': 504,\n",
       "         'MH533204.1': 19,\n",
       "         'MH533206.1': 350,\n",
       "         'MH533207.1': 14,\n",
       "         'MH533209.1': 136,\n",
       "         'MH533211.1': 122,\n",
       "         'MH533212.1': 377,\n",
       "         'MH533213.1': 216,\n",
       "         'MH533214.1': 1124,\n",
       "         'MH533215.1': 456,\n",
       "         'MH533217.1': 28,\n",
       "         'MH533218.1': 264,\n",
       "         'MH533221.1': 335,\n",
       "         'MH533226.1': 41,\n",
       "         'MH533229.1': 2,\n",
       "         'MH533231.1': 599,\n",
       "         'MH533236.1': 476,\n",
       "         'MH533237.1': 429,\n",
       "         'MH533238.1': 229,\n",
       "         'MH533239.1': 116,\n",
       "         'MH533241.1': 656,\n",
       "         'MH533242.1': 1092,\n",
       "         'MH533243.1': 71,\n",
       "         'MH533244.1': 17,\n",
       "         'MH533246.1': 840,\n",
       "         'MH533247.1': 16,\n",
       "         'MH533248.1': 460,\n",
       "         'MH533249.1': 91,\n",
       "         'MH533250.1': 1,\n",
       "         'MH533254.1': 30,\n",
       "         'MH533256.1': 2,\n",
       "         'MH533258.1': 58,\n",
       "         'MH533259.1': 6,\n",
       "         'MH533260.1': 432,\n",
       "         'MH533261.1': 35,\n",
       "         'MH533262.1': 18,\n",
       "         'MH533263.1': 449,\n",
       "         'MH533266.1': 6,\n",
       "         'MH533267.1': 8,\n",
       "         'MH533270.1': 2129,\n",
       "         'MH533271.1': 34,\n",
       "         'MH533273.1': 22,\n",
       "         'MH533274.1': 6,\n",
       "         'MH533275.1': 2435,\n",
       "         'MH533276.1': 839,\n",
       "         'MH533278.1': 324,\n",
       "         'MH533279.1': 453,\n",
       "         'MH533281.1': 19,\n",
       "         'MH533283.1': 422,\n",
       "         'MH533284.1': 8,\n",
       "         'MH533285.1': 276,\n",
       "         'MH533286.1': 2,\n",
       "         'MH533287.1': 114,\n",
       "         'MH533288.1': 1449,\n",
       "         'MH533289.1': 1566,\n",
       "         'MH533290.1': 2033,\n",
       "         'MH533291.1': 1004,\n",
       "         'MH533292.1': 4616,\n",
       "         'MH533293.1': 1410,\n",
       "         'MH533294.1': 1208,\n",
       "         'MH533295.1': 1033,\n",
       "         'MH533301.1': 681,\n",
       "         'MH533303.1': 746,\n",
       "         'MH533305.1': 2,\n",
       "         'MH533306.1': 1,\n",
       "         'MH533307.1': 522,\n",
       "         'MH533308.1': 2080,\n",
       "         'MH533309.1': 60,\n",
       "         'MH533310.1': 2,\n",
       "         'MH533315.1': 407,\n",
       "         'MH533316.1': 99,\n",
       "         'MH533317.1': 164,\n",
       "         'MH533318.1': 122,\n",
       "         'MH533320.1': 401,\n",
       "         'MH533323.1': 247,\n",
       "         'MH533325.1': 50,\n",
       "         'MH533326.1': 38,\n",
       "         'MH533330.1': 193,\n",
       "         'MH533336.1': 1084,\n",
       "         'MH533338.1': 1,\n",
       "         'MH533339.1': 1737,\n",
       "         'MH533340.1': 3156,\n",
       "         'MH533341.1': 469,\n",
       "         'MH533345.1': 396,\n",
       "         'MH533346.1': 385,\n",
       "         'MH533347.1': 13,\n",
       "         'MH533348.1': 581})"
      ]
     },
     "execution_count": 49,
     "metadata": {},
     "output_type": "execute_result"
    }
   ],
   "source": [
    "Counter(ref_df[0])"
   ]
  },
  {
   "cell_type": "code",
   "execution_count": 11,
   "metadata": {},
   "outputs": [],
   "source": [
    "hmp_catalog_file = '/home/groups/dpwall/briannac/blood_microbiome/data/hmp_project_catalog.csv'\n"
   ]
  },
  {
   "cell_type": "code",
   "execution_count": 10,
   "metadata": {},
   "outputs": [],
   "source": [
    "bacteria_abundance = pd.read_csv(bacteria_abundance_no_filter_file, \n",
    "                                 index_col=0).drop('batch', axis=1)\n",
    "bacteria_abundance_filtered = pd.read_csv(bacteria_abundance_filtered_file, \n",
    "                                          index_col=0).drop('batch', axis=1)\n",
    "virus_abundance = pd.read_csv(virus_abundance_no_filter_file,\n",
    "                              index_col=0).drop('batch', axis=1)\n",
    "virus_abundance_filtered = pd.read_csv(virus_abundance_filtered_file,\n",
    "                                       index_col=0).drop('batch', axis=1)\n",
    "bacteria_aggregated_strain = pd.read_csv(bacteria_aggregated_strain_file,\n",
    "                                       index_col=0).drop(['batch', 'type'], axis=1)"
   ]
  },
  {
   "cell_type": "code",
   "execution_count": 12,
   "metadata": {},
   "outputs": [],
   "source": [
    "# Where did they come from\n",
    "hmp_catalog = pd.read_csv(hmp_catalog_file)"
   ]
  },
  {
   "cell_type": "code",
   "execution_count": 2,
   "metadata": {},
   "outputs": [],
   "source": [
    "bacteria_aggregated_strain = pd.read_csv(bacteria_aggregated_strain_file,\n",
    "                                       index_col=0).drop(['batch', 'type'], axis=1)\n",
    "bacteria_aggregated_species = pd.read_csv(bacteria_aggregated_species_file,\n",
    "                                       index_col=0).drop(['batch', 'type'], axis=1)"
   ]
  },
  {
   "cell_type": "code",
   "execution_count": null,
   "metadata": {},
   "outputs": [],
   "source": [
    "print('shapes')\n",
    "print(np.shape(bacteria_abundance), 'bacteria')\n",
    "print(np.shape(bacteria_abundance_filtered), 'bacteria MAPQ filtered')\n",
    "print(np.shape(virus_abundance), 'virus')\n",
    "print(np.shape(virus_abundance_filtered), 'virus MAPQ filtered')"
   ]
  },
  {
   "cell_type": "code",
   "execution_count": 5,
   "metadata": {},
   "outputs": [
    {
     "name": "stdout",
     "output_type": "stream",
     "text": [
      "num reads - median\n",
      "1365000.5 virus\n",
      "1364804.0 virus MAPQ filtered\n",
      "36500.5 bacteria\n",
      "26881.0 bacteria MAPQ filtered\n"
     ]
    }
   ],
   "source": [
    "print('num reads - median')\n",
    "print(np.median(virus_abundance.sum(axis=1)), 'virus')\n",
    "print(np.median(virus_abundance_filtered.sum(axis=1)), 'virus MAPQ filtered')\n",
    "print(np.median(bacteria_abundance.sum(axis=1)), 'bacteria')\n",
    "print(np.median(bacteria_abundance_filtered.sum(axis=1)), 'bacteria MAPQ filtered')\n"
   ]
  },
  {
   "cell_type": "code",
   "execution_count": 6,
   "metadata": {},
   "outputs": [
    {
     "name": "stdout",
     "output_type": "stream",
     "text": [
      "num reads total\n",
      "6077871165.0 virus\n",
      "6075601649.0 virus MAPQ filtered\n",
      "1162764213.0 bacteria\n",
      "943895334.0 bacteria MAPQ filtered\n",
      "0.9996265935985829  percent of viral reads kept\n",
      "0.8117684767444765  percent of bacterial reads kept\n"
     ]
    }
   ],
   "source": [
    "print('num reads total')\n",
    "print(virus_abundance.sum().sum(), 'virus')\n",
    "print(virus_abundance_filtered.sum().sum(), 'virus MAPQ filtered')\n",
    "print(bacteria_abundance.sum().sum(), 'bacteria')\n",
    "print(bacteria_abundance_filtered.sum().sum(), 'bacteria MAPQ filtered')\n",
    "print(virus_abundance_filtered.sum().sum()/virus_abundance.sum().sum(), ' percent of viral reads kept')\n",
    "print(bacteria_abundance_filtered.sum().sum()/bacteria_abundance.sum().sum(), ' percent of bacterial reads kept')"
   ]
  },
  {
   "cell_type": "code",
   "execution_count": 8,
   "metadata": {},
   "outputs": [
    {
     "name": "stdout",
     "output_type": "stream",
     "text": [
      "num contigs -- median\n",
      "398.0 bacteria\n",
      "129.0 bacteria MAPQ filtered\n",
      "10.0 virus\n",
      "5.0 virus MAPQ filtered\n"
     ]
    }
   ],
   "source": [
    "print('num contigs -- median')\n",
    "print(np.median((bacteria_abundance>0).sum(axis=1)), 'bacteria')\n",
    "print(np.median((bacteria_abundance_filtered>0).sum(axis=1)), 'bacteria MAPQ filtered')\n",
    "print(np.median((virus_abundance>0).sum(axis=1)), 'virus')\n",
    "print(np.median((virus_abundance_filtered>0).sum(axis=1)), 'virus MAPQ filtered')"
   ]
  },
  {
   "cell_type": "code",
   "execution_count": 9,
   "metadata": {},
   "outputs": [
    {
     "name": "stdout",
     "output_type": "stream",
     "text": [
      "num contigs total\n",
      "46797 virus\n",
      "22723 virus MAPQ filtered\n",
      "2290712 bacteria\n",
      "719966 bacteria MAPQ filtered\n",
      "0.48556531401585573  percent of virus contigs kept\n",
      "0.31429791261406936  percent of bacteria contigs kept\n"
     ]
    }
   ],
   "source": [
    "print('num contigs total')\n",
    "print((virus_abundance>0).sum().sum(), 'virus')\n",
    "print((virus_abundance_filtered>0).sum().sum(), 'virus MAPQ filtered')\n",
    "print((bacteria_abundance>0).sum().sum(), 'bacteria')\n",
    "print((bacteria_abundance_filtered>0).sum().sum(), 'bacteria MAPQ filtered')\n",
    "print((virus_abundance_filtered>0).sum().sum()/(virus_abundance>0).sum().sum(), ' percent of virus contigs kept')\n",
    "print((bacteria_abundance_filtered>0).sum().sum()/(bacteria_abundance>0).sum().sum(), ' percent of bacteria contigs kept')"
   ]
  },
  {
   "cell_type": "markdown",
   "metadata": {},
   "source": [
    "# Filtering"
   ]
  },
  {
   "cell_type": "code",
   "execution_count": 5,
   "metadata": {},
   "outputs": [
    {
     "data": {
      "image/png": "[encoded data removed]",
      "text/plain": [
       "<Figure size 432x288 with 2 Axes>"
      ]
     },
     "metadata": {},
     "output_type": "display_data"
    }
   ],
   "source": [
    "max_abundance_df_bacteria = bacteria_aggregated_strain.sum()\n",
    "hist, bins = np.histogram(max_abundance_df_bacteria, bins=40)\n",
    "fig, ax1 = plt.subplots()\n",
    "# histogram on log scale. \n",
    "# Use non-equal bin sizes, such that they look equal on log scale.\n",
    "logbins = np.logspace(np.log10(bins[0]),np.log10(bins[-1]),len(bins))\n",
    "ax1.hist(max_abundance_df_bacteria, bins=logbins, color='#8687d1')\n",
    "ax1.set_xscale('log')\n",
    "\n",
    "ax1.set_xlabel('Max # reads in a sample')\n",
    "ax1.set_ylabel('# Contigs', color='#8687d1')\n",
    "ax1.tick_params(axis='y', labelcolor='#8687d1')\n",
    "ax1.set_xscale('log')\n",
    "\n",
    "\n",
    "ax2 = ax1.twinx()  # instantiate a second axes that shares the same x-axis\n",
    "ax2.set_ylabel('# Contigs with >= Max # Reads', color='orange')  # we already handled the x-label with ax1\n",
    "ax2.plot(logbins,[sum(max_abundance_df_bacteria>=n) for n in logbins], color='orange')\n",
    "ax2.tick_params(axis='y', labelcolor='orange')\n",
    "#ax2.set_yscale('log')\n",
    "ax1.set_xscale('log')\n",
    "ax2.set_ylim(0,2000)\n",
    "ax2.vlines(x=100, ymin=0, ymax=2000, color='#3b5c36')\n",
    "\n",
    "plt.title('Bacteria Alignments')\n",
    "fig.tight_layout()  # otherwise the right y-label is slightly clipped\n",
    "plt.savefig('%s/max_reads_distribution_bacteria.png' % fig_dir, transparent=True, bbox_inches='tight', format='png', dpi=500)\n",
    "plt.show()"
   ]
  },
  {
   "cell_type": "code",
   "execution_count": 6,
   "metadata": {},
   "outputs": [
    {
     "data": {
      "text/plain": [
       "525"
      ]
     },
     "execution_count": 6,
     "metadata": {},
     "output_type": "execute_result"
    }
   ],
   "source": [
    "sum(max_abundance_df_bacteria>=100)"
   ]
  },
  {
   "cell_type": "code",
   "execution_count": 3,
   "metadata": {},
   "outputs": [
    {
     "data": {
      "image/png": "[encoded data removed]",
      "text/plain": [
       "<Figure size 432x288 with 2 Axes>"
      ]
     },
     "metadata": {},
     "output_type": "display_data"
    }
   ],
   "source": [
    "max_abundance_df_bacteria = bacteria_aggregated_species.sum()\n",
    "hist, bins = np.histogram(max_abundance_df_bacteria, bins=40)\n",
    "fig, ax1 = plt.subplots()\n",
    "# histogram on log scale. \n",
    "# Use non-equal bin sizes, such that they look equal on log scale.\n",
    "logbins = np.logspace(np.log10(bins[0]),np.log10(bins[-1]),len(bins))\n",
    "ax1.hist(max_abundance_df_bacteria, bins=logbins, color='#8687d1')\n",
    "ax1.set_xscale('log')\n",
    "\n",
    "ax1.set_xlabel('Max # reads in a sample')\n",
    "ax1.set_ylabel('# Contigs', color='#8687d1')\n",
    "ax1.tick_params(axis='y', labelcolor='#8687d1')\n",
    "ax1.set_xscale('log')\n",
    "\n",
    "\n",
    "ax2 = ax1.twinx()  # instantiate a second axes that shares the same x-axis\n",
    "ax2.set_ylabel('# Contigs with >= Max # Reads', color='orange')  # we already handled the x-label with ax1\n",
    "ax2.plot(logbins,[sum(max_abundance_df_bacteria>=n) for n in logbins], color='orange')\n",
    "ax2.tick_params(axis='y', labelcolor='orange')\n",
    "#ax2.set_yscale('log')\n",
    "ax1.set_xscale('log')\n",
    "ax2.set_ylim(0,2000)\n",
    "ax2.vlines(x=100, ymin=0, ymax=2000, color='#3b5c36')\n",
    "\n",
    "plt.title('Bacteria Alignments')\n",
    "fig.tight_layout()  # otherwise the right y-label is slightly clipped\n",
    "#plt.savefig('%s/max_reads_distribution_bacteria.png' % fig_dir, transparent=True, bbox_inches='tight', format='png', dpi=500)\n",
    "plt.show()"
   ]
  },
  {
   "cell_type": "code",
   "execution_count": 9,
   "metadata": {},
   "outputs": [
    {
     "data": {
      "text/plain": [
       "(4568, 1670)"
      ]
     },
     "execution_count": 9,
     "metadata": {},
     "output_type": "execute_result"
    }
   ],
   "source": [
    "np.shape(bacteria_aggregated_strain)"
   ]
  },
  {
   "cell_type": "code",
   "execution_count": 9,
   "metadata": {},
   "outputs": [
    {
     "name": "stdout",
     "output_type": "stream",
     "text": [
      "set()\n",
      "66\n",
      "521 bacteria that passed filter\n"
     ]
    }
   ],
   "source": [
    "bacteria_abundant = bacteria_aggregated_strain.columns[np.argsort(bacteria_aggregated_strain.sum())[::-1]][:50]\n",
    "bacteria_prevalent = bacteria_aggregated_strain.columns[np.argsort((bacteria_aggregated_strain>0).sum())[::-1]][:50]\n",
    "bacteria_passed_filter = bacteria_aggregated_strain.columns[(bacteria_aggregated_strain.sum()>100)]\n",
    "\n",
    "print((set(bacteria_abundant).union(bacteria_prevalent)).difference(set(bacteria_passed_filter)))\n",
    "print(len(set(bacteria_abundant).union(bacteria_prevalent)))\n",
    "print(len(bacteria_passed_filter), 'bacteria that passed filter')\n",
    "bacteria_aggregated_strain[bacteria_passed_filter].to_csv(bacteria_out_file)"
   ]
  },
  {
   "cell_type": "code",
   "execution_count": 10,
   "metadata": {},
   "outputs": [
    {
     "data": {
      "image/png": "[encoded data removed]",
      "text/plain": [
       "<Figure size 432x288 with 2 Axes>"
      ]
     },
     "metadata": {},
     "output_type": "display_data"
    }
   ],
   "source": [
    "max_abundance_df_virus = virus_abundance_filtered.sum()\n",
    "hist, bins = np.histogram(max_abundance_df_virus, bins=40)\n",
    "fig, ax1 = plt.subplots()\n",
    "# histogram on log scale. \n",
    "# Use non-equal bin sizes, such that they look equal on log scale.\n",
    "logbins = np.logspace(np.log10(bins[0]),np.log10(bins[-1]),len(bins))\n",
    "ax1.hist(max_abundance_df_virus, bins=logbins, color='#8687d1')\n",
    "ax1.set_xscale('log')\n",
    "\n",
    "ax1.set_xlabel('Max # reads in a sample')\n",
    "ax1.set_ylabel('# Contigs', color='#8687d1')\n",
    "ax1.tick_params(axis='y', labelcolor='#8687d1')\n",
    "ax1.set_xscale('log')\n",
    "\n",
    "\n",
    "ax2 = ax1.twinx()  # instantiate a second axes that shares the same x-axis\n",
    "ax2.set_ylabel('# Contigs with >= Max # Reads', color='orange')  # we already handled the x-label with ax1\n",
    "ax2.plot(logbins,[sum(max_abundance_df_virus>=n) for n in logbins], color='orange')\n",
    "ax2.tick_params(axis='y', labelcolor='orange')\n",
    "#ax2.set_yscale('log')\n",
    "ax1.set_xscale('log')\n",
    "ax2.set_ylim(0,200)\n",
    "ax2.vlines(x=10, ymin=0, ymax=2000, color='#3b5c36')\n",
    "\n",
    "plt.title('virus Alignments')\n",
    "fig.tight_layout()  # otherwise the right y-label is slightly clipped\n",
    "plt.savefig('%s/max_reads_distribution_virus.png' % fig_dir, transparent=True, bbox_inches='tight', format='png', dpi=500)\n",
    "plt.show()"
   ]
  },
  {
   "cell_type": "code",
   "execution_count": 30,
   "metadata": {},
   "outputs": [
    {
     "name": "stdout",
     "output_type": "stream",
     "text": [
      "{'Streptococcus phage DT1'}\n",
      "59\n",
      "65 virus that passed filter\n"
     ]
    }
   ],
   "source": [
    "virus_transpose = virus_abundance_filtered.transpose()\n",
    "virus_transpose['cleaned_names'] = [\n",
    "    c.replace(',', '').split(' complete')[0].split(' segment')[0].split(\n",
    "        ' isolate')[0].split(' DNA')[0].split(' variant')[0] for c in virus_abundance_filtered.columns]\n",
    "virus_abundance_filtered = virus_transpose.groupby('cleaned_names').aggregate(sum).transpose()\n",
    "virus_abundant = virus_abundance_filtered.columns[np.argsort(virus_abundance_filtered.sum())[::-1]][:50]\n",
    "virus_prevalent = virus_abundance_filtered.columns[np.argsort((virus_abundance_filtered>0).sum())[::-1]][:50]\n",
    "virus_passed_filter = virus_abundance_filtered.columns[(virus_abundance_filtered.sum()>10)]\n",
    "\n",
    "print((set(virus_abundant).union(virus_prevalent)).difference(set(virus_passed_filter)))\n",
    "print(len(set(virus_abundant).union(virus_prevalent)))\n",
    "print(len(virus_passed_filter), 'virus that passed filter')\n",
    "virus_abundance_filtered[virus_passed_filter].to_csv(virus_out_file)"
   ]
  }
 ],
 "metadata": {
  "kernelspec": {
   "display_name": "Python 3",
   "language": "python",
   "name": "python3"
  },
  "language_info": {
   "codemirror_mode": {
    "name": "ipython",
    "version": 3
   },
   "file_extension": ".py",
   "mimetype": "text/x-python",
   "name": "python",
   "nbconvert_exporter": "python",
   "pygments_lexer": "ipython3",
   "version": "3.6.1"
  }
 },
 "nbformat": 4,
 "nbformat_minor": 2
}

{
 "cells": [
  {
   "cell_type": "code",
   "execution_count": 2,
   "metadata": {},
   "outputs": [],
   "source": [
    "import pandas as pd\n",
    "from glob import glob\n",
    "from collections import Counter \n",
    "\n",
    "BLOOD_MICROBIOME_DIR = '/home/groups/dpwall/briannac/blood_microbiome/'\n",
    "\n",
    "\n",
    "BAM_MAPPINGS_FILE = '/home/groups/dpwall/briannac/general_data/bam_mappings.csv'\n",
    "CONC_FILE= '/home/groups/dpwall/briannac/blood_microbiome/data/decontam/concentrations.csv'\n",
    "NYGC_FILE = '/home/groups/dpwall/briannac/blood_microbiome/intermediate_files/decontam/NYGC_DNA_stats'\n",
    "\n",
    "ABUNDANCES_ALL = '/home/groups/dpwall/briannac/blood_microbiome/data/kraken_align/microbe_filtered_species.tsv'\n",
    "IHART_FLAGSTAT_FILE = '/home/groups/dpwall/briannac/blood_microbiome/data/ihart_flagstat.csv'\n",
    "\n",
    "\n",
    "DECONTAM_OUT_FILE = BLOOD_MICROBIOME_DIR + 'intermediate_files/decontam/for_decontam_microbe.csv'\n"
   ]
  },
  {
   "cell_type": "code",
   "execution_count": 3,
   "metadata": {},
   "outputs": [],
   "source": [
    "# Read in bam mappings\n",
    "bam_mappings = pd.read_csv(BAM_MAPPINGS_FILE, sep='\\t', index_col=1)\n",
    "bam_mappings = bam_mappings[bam_mappings['status']=='Passed_QC_analysis_ready']\n"
   ]
  },
  {
   "cell_type": "code",
   "execution_count": 7,
   "metadata": {},
   "outputs": [
    {
     "name": "stderr",
     "output_type": "stream",
     "text": [
      "/home/users/briannac/.local/lib/python3.6/site-packages/openpyxl/worksheet/_reader.py:308: UserWarning: Unknown extension is not supported and will be removed\n",
      "  warn(msg)\n"
     ]
    },
    {
     "name": "stdout",
     "output_type": "stream",
     "text": [
      "3110 samples\n",
      "3110 unique samples\n"
     ]
    }
   ],
   "source": [
    "# Get concentrations\n",
    "xls_files = glob(NYGC_FILE + '/*SampleSubmission*.xls') + glob(NYGC_FILE + '/*/*SampleSubmission*.xls')\n",
    "xlsx_files = glob(NYGC_FILE + '/*/*manifest.*xlsx') + glob(NYGC_FILE + '/*manifest.*xlsx')\n",
    "xls = pd.concat([pd.read_excel(f) for f in xls_files])\n",
    "xls.index = xls['Client Sample ID']\n",
    "xls = xls[['Concentration (ng/µL)']]\n",
    "\n",
    "def read_xlsx(file_name):\n",
    "    df = pd.read_excel(file_name,engine='openpyxl')\n",
    "    df.columns = df.iloc[11]\n",
    "    df.index = df['UDF/Client Sample ID']\n",
    "    df.drop('UDF/Client Sample ID', axis=1, inplace=True)\n",
    "    df = df.iloc[14:][['UDF/Client Sample Concentration']]\n",
    "    df.columns = ['Concentration (ng/µL)']\n",
    "    return df\n",
    "\n",
    "xlsx = pd.concat([read_xlsx(f) for f in xlsx_files])\n",
    "concentrations = pd.concat([xls, xlsx])\n",
    "concentrations = concentrations[~pd.isna(concentrations.index)]\n",
    "concentrations = concentrations[~pd.isna(concentrations['Concentration (ng/µL)'])]\n",
    "#concentrations.index = [c if c in bam_mappings.index else c.split('_')[0] for c in concentrations.index]\n",
    "concentrations = concentrations[[c in bam_mappings.index for c in concentrations.index]] # Limit to those in bam file\n",
    "\n",
    "print(len(concentrations), 'samples')\n",
    "print(len(set(concentrations.index)), 'unique samples')\n",
    "concentrations.to_csv(CONC_FILE)"
   ]
  },
  {
   "cell_type": "markdown",
   "metadata": {},
   "source": [
    "# Set up for decontam"
   ]
  },
  {
   "cell_type": "code",
   "execution_count": 16,
   "metadata": {},
   "outputs": [],
   "source": [
    "abundances = pd.read_table(ABUNDANCES_ALL, index_col=0)\n",
    "concentrations = pd.read_csv(CONC_FILE, index_col=0)\n",
    "\n",
    "ihart_flagstat = pd.read_csv(IHART_FLAGSTAT_FILE, index_col=0)\n",
    "ihart_flagstat.index = [i.replace('-LCL', '_LCL') for i in ihart_flagstat.index]\n",
    "\n",
    "samples = list(set(abundances.columns).intersection(set(abundances.columns)).intersection(\n",
    "    ihart_flagstat.index).intersection(concentrations.index))\n",
    "ihart_flagstat = ihart_flagstat.loc[samples]\n",
    "total_reads = ihart_flagstat['Total_Reads']-ihart_flagstat['Supplementary']-ihart_flagstat['Duplicates']\n",
    "\n",
    "for_decontam = abundances.transpose()\n",
    "for_decontam = for_decontam.loc[samples]\n",
    "for_decontam = for_decontam.apply(lambda x: x/total_reads.values)\n",
    "for_decontam['concentration'] = (concentrations['Concentration (ng/µL)'].loc[samples].values)#*\n",
    "#                                 ihart_flagstat['Mapped'].loc[samples].values/\n",
    "#                                 total_reads.loc[samples].values)\n",
    "for_decontam['batch'] = ['%s_%s' % (i,j) for i,j in zip(bam_mappings.loc[samples].bio_seq_source.values, bam_mappings.loc[samples].sequencing_plate.values)]\n",
    "batch_counts = Counter(for_decontam.batch)\n",
    "for_decontam[[batch_counts[b]>10 for b in for_decontam.batch]].to_csv(DECONTAM_OUT_FILE)"
   ]
  }
 ],
 "metadata": {
  "kernelspec": {
   "display_name": "py_36_env",
   "language": "python",
   "name": "py_36_env"
  },
  "language_info": {
   "codemirror_mode": {
    "name": "ipython",
    "version": 3
   },
   "file_extension": ".py",
   "mimetype": "text/x-python",
   "name": "python",
   "nbconvert_exporter": "python",
   "pygments_lexer": "ipython3",
   "version": "3.6.1"
  }
 },
 "nbformat": 4,
 "nbformat_minor": 4
}

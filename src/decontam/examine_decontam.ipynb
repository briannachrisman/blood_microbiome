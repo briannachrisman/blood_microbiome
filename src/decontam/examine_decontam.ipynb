{
 "cells": [
  {
   "cell_type": "code",
   "execution_count": 148,
   "metadata": {},
   "outputs": [],
   "source": [
    "import pandas as pd\n",
    "from glob import glob\n",
    "from collections import Counter \n",
    "import matplotlib.pyplot as plt\n",
    "import numpy as np\n",
    "import seaborn as sns\n",
    "BLOOD_MICROBIOME_DIR = '/home/groups/dpwall/briannac/blood_microbiome/'\n",
    "\n",
    "\n",
    "BAM_MAPPINGS_FILE = '/home/groups/dpwall/briannac/general_data/bam_mappings.csv'\n",
    "CONC_FILE= '/home/groups/dpwall/briannac/blood_microbiome/data/decontam/concentrations.csv'\n",
    "NYGC_FILE = '/home/groups/dpwall/briannac/blood_microbiome/intermediate_files/decontam/NYGC_DNA_stats'\n",
    "\n",
    "ABUNDANCES_FILE = '/home/groups/dpwall/briannac/blood_microbiome/data/kraken_align/microbe_filtered_species.csv'\n",
    "\n",
    "FOR_DECONTAM_FILE = BLOOD_MICROBIOME_DIR + 'intermediate_files/decontam/for_decontam_microbe.csv'\n",
    "DECONTAM_FILE = BLOOD_MICROBIOME_DIR + 'results/decontam/contaminants_microbe_minimum.csv'\n"
   ]
  },
  {
   "cell_type": "markdown",
   "metadata": {},
   "source": [
    "# Examine decontam results."
   ]
  },
  {
   "cell_type": "code",
   "execution_count": 149,
   "metadata": {},
   "outputs": [],
   "source": [
    "bam_mappings = pd.read_csv(BAM_MAPPINGS_FILE, sep='\\t', index_col=1)\n",
    "bam_mappings = bam_mappings[bam_mappings['status']=='Passed_QC_analysis_ready']\n",
    "for_decontam = pd.read_csv(FOR_DECONTAM_FILE, index_col=0)\n",
    "for_decontam.columns = [''.join(c[np.where(np.array(list(c))!=' ')[0][0]:]).replace(' ', '.').replace('-','.') for c in for_decontam.columns]\n",
    "decontam_results = pd.read_csv(DECONTAM_FILE, index_col=0)"
   ]
  },
  {
   "cell_type": "code",
   "execution_count": 144,
   "metadata": {},
   "outputs": [],
   "source": [
    "decontam_results = pd.read_csv(DECONTAM_FILE, index_col=0)"
   ]
  },
  {
   "cell_type": "code",
   "execution_count": 158,
   "metadata": {},
   "outputs": [
    {
     "data": {
      "text/plain": [
       "2"
      ]
     },
     "execution_count": 158,
     "metadata": {},
     "output_type": "execute_result"
    }
   ],
   "source": [
    "sum(decontam_results.contaminant)"
   ]
  },
  {
   "cell_type": "code",
   "execution_count": 162,
   "metadata": {},
   "outputs": [
    {
     "data": {
      "text/html": [
       "<div>\n",
       "<style scoped>\n",
       "    .dataframe tbody tr th:only-of-type {\n",
       "        vertical-align: middle;\n",
       "    }\n",
       "\n",
       "    .dataframe tbody tr th {\n",
       "        vertical-align: top;\n",
       "    }\n",
       "\n",
       "    .dataframe thead th {\n",
       "        text-align: right;\n",
       "    }\n",
       "</style>\n",
       "<table border=\"1\" class=\"dataframe\">\n",
       "  <thead>\n",
       "    <tr style=\"text-align: right;\">\n",
       "      <th></th>\n",
       "      <th>freq</th>\n",
       "      <th>prev</th>\n",
       "      <th>p.freq</th>\n",
       "      <th>p.prev</th>\n",
       "      <th>p</th>\n",
       "      <th>contaminant</th>\n",
       "    </tr>\n",
       "  </thead>\n",
       "  <tbody>\n",
       "    <tr>\n",
       "      <th>Lactococcus.virus.c2</th>\n",
       "      <td>1.071906e-11</td>\n",
       "      <td>24</td>\n",
       "      <td>0.031552</td>\n",
       "      <td>NaN</td>\n",
       "      <td>0.031552</td>\n",
       "      <td>True</td>\n",
       "    </tr>\n",
       "    <tr>\n",
       "      <th>Natronomonas.sp..C90</th>\n",
       "      <td>2.510452e-09</td>\n",
       "      <td>1063</td>\n",
       "      <td>0.059492</td>\n",
       "      <td>NaN</td>\n",
       "      <td>0.059492</td>\n",
       "      <td>True</td>\n",
       "    </tr>\n",
       "    <tr>\n",
       "      <th>Human.mastadenovirus.C</th>\n",
       "      <td>2.726389e-11</td>\n",
       "      <td>56</td>\n",
       "      <td>0.104804</td>\n",
       "      <td>NaN</td>\n",
       "      <td>0.104804</td>\n",
       "      <td>False</td>\n",
       "    </tr>\n",
       "    <tr>\n",
       "      <th>Bacillus.sp..V3</th>\n",
       "      <td>4.845253e-08</td>\n",
       "      <td>3033</td>\n",
       "      <td>0.143903</td>\n",
       "      <td>NaN</td>\n",
       "      <td>0.143903</td>\n",
       "      <td>False</td>\n",
       "    </tr>\n",
       "    <tr>\n",
       "      <th>Human.betaherpesvirus.6B</th>\n",
       "      <td>6.694065e-06</td>\n",
       "      <td>297</td>\n",
       "      <td>0.156824</td>\n",
       "      <td>NaN</td>\n",
       "      <td>0.156824</td>\n",
       "      <td>False</td>\n",
       "    </tr>\n",
       "    <tr>\n",
       "      <th>...</th>\n",
       "      <td>...</td>\n",
       "      <td>...</td>\n",
       "      <td>...</td>\n",
       "      <td>...</td>\n",
       "      <td>...</td>\n",
       "      <td>...</td>\n",
       "    </tr>\n",
       "    <tr>\n",
       "      <th>Torque.teno.virus.15</th>\n",
       "      <td>5.635341e-12</td>\n",
       "      <td>8</td>\n",
       "      <td>0.510121</td>\n",
       "      <td>NaN</td>\n",
       "      <td>0.510121</td>\n",
       "      <td>False</td>\n",
       "    </tr>\n",
       "    <tr>\n",
       "      <th>Primate.erythroparvovirus.3</th>\n",
       "      <td>4.080478e-12</td>\n",
       "      <td>8</td>\n",
       "      <td>0.513192</td>\n",
       "      <td>NaN</td>\n",
       "      <td>0.513192</td>\n",
       "      <td>False</td>\n",
       "    </tr>\n",
       "    <tr>\n",
       "      <th>Torque.teno.virus.21</th>\n",
       "      <td>1.238374e-11</td>\n",
       "      <td>5</td>\n",
       "      <td>0.516407</td>\n",
       "      <td>NaN</td>\n",
       "      <td>0.516407</td>\n",
       "      <td>False</td>\n",
       "    </tr>\n",
       "    <tr>\n",
       "      <th>Torque.teno.virus.20</th>\n",
       "      <td>1.010879e-11</td>\n",
       "      <td>5</td>\n",
       "      <td>0.518369</td>\n",
       "      <td>NaN</td>\n",
       "      <td>0.518369</td>\n",
       "      <td>False</td>\n",
       "    </tr>\n",
       "    <tr>\n",
       "      <th>Torque.teno.virus.24</th>\n",
       "      <td>1.791826e-11</td>\n",
       "      <td>9</td>\n",
       "      <td>0.541663</td>\n",
       "      <td>NaN</td>\n",
       "      <td>0.541663</td>\n",
       "      <td>False</td>\n",
       "    </tr>\n",
       "  </tbody>\n",
       "</table>\n",
       "<p>1504 rows × 6 columns</p>\n",
       "</div>"
      ],
      "text/plain": [
       "                                     freq  prev    p.freq  p.prev         p  \\\n",
       "Lactococcus.virus.c2         1.071906e-11    24  0.031552     NaN  0.031552   \n",
       "Natronomonas.sp..C90         2.510452e-09  1063  0.059492     NaN  0.059492   \n",
       "Human.mastadenovirus.C       2.726389e-11    56  0.104804     NaN  0.104804   \n",
       "Bacillus.sp..V3              4.845253e-08  3033  0.143903     NaN  0.143903   \n",
       "Human.betaherpesvirus.6B     6.694065e-06   297  0.156824     NaN  0.156824   \n",
       "...                                   ...   ...       ...     ...       ...   \n",
       "Torque.teno.virus.15         5.635341e-12     8  0.510121     NaN  0.510121   \n",
       "Primate.erythroparvovirus.3  4.080478e-12     8  0.513192     NaN  0.513192   \n",
       "Torque.teno.virus.21         1.238374e-11     5  0.516407     NaN  0.516407   \n",
       "Torque.teno.virus.20         1.010879e-11     5  0.518369     NaN  0.518369   \n",
       "Torque.teno.virus.24         1.791826e-11     9  0.541663     NaN  0.541663   \n",
       "\n",
       "                             contaminant  \n",
       "Lactococcus.virus.c2                True  \n",
       "Natronomonas.sp..C90                True  \n",
       "Human.mastadenovirus.C             False  \n",
       "Bacillus.sp..V3                    False  \n",
       "Human.betaherpesvirus.6B           False  \n",
       "...                                  ...  \n",
       "Torque.teno.virus.15               False  \n",
       "Primate.erythroparvovirus.3        False  \n",
       "Torque.teno.virus.21               False  \n",
       "Torque.teno.virus.20               False  \n",
       "Torque.teno.virus.24               False  \n",
       "\n",
       "[1504 rows x 6 columns]"
      ]
     },
     "execution_count": 162,
     "metadata": {},
     "output_type": "execute_result"
    }
   ],
   "source": [
    "decontam_results.sort_values('p')"
   ]
  },
  {
   "cell_type": "code",
   "execution_count": 151,
   "metadata": {},
   "outputs": [
    {
     "data": {
      "image/png": "[encoded data removed]",
      "text/plain": [
       "<Figure size 432x288 with 1 Axes>"
      ]
     },
     "metadata": {
      "needs_background": "light"
     },
     "output_type": "display_data"
    }
   ],
   "source": [
    "plt.hist(-np.log10(decontam_results.p.values), bins=np.linspace(0,2, 100), alpha=.5)\n",
    "#plt.hist(np.log10(decontam_exact.p.values), bins=50, alpha=.5)\n",
    "#plt.yscale('log')\n",
    "plt.yscale('log')\n",
    "plt.show()"
   ]
  },
  {
   "cell_type": "code",
   "execution_count": 152,
   "metadata": {},
   "outputs": [
    {
     "data": {
      "text/plain": [
       "0.381357220848733"
      ]
     },
     "execution_count": 152,
     "metadata": {},
     "output_type": "execute_result"
    }
   ],
   "source": [
    "np.median(decontam_results.p.values)"
   ]
  },
  {
   "cell_type": "code",
   "execution_count": 153,
   "metadata": {},
   "outputs": [
    {
     "data": {
      "text/html": [
       "<div>\n",
       "<style scoped>\n",
       "    .dataframe tbody tr th:only-of-type {\n",
       "        vertical-align: middle;\n",
       "    }\n",
       "\n",
       "    .dataframe tbody tr th {\n",
       "        vertical-align: top;\n",
       "    }\n",
       "\n",
       "    .dataframe thead th {\n",
       "        text-align: right;\n",
       "    }\n",
       "</style>\n",
       "<table border=\"1\" class=\"dataframe\">\n",
       "  <thead>\n",
       "    <tr style=\"text-align: right;\">\n",
       "      <th></th>\n",
       "      <th>freq</th>\n",
       "      <th>prev</th>\n",
       "      <th>p.freq</th>\n",
       "      <th>p.prev</th>\n",
       "      <th>p</th>\n",
       "      <th>contaminant</th>\n",
       "    </tr>\n",
       "  </thead>\n",
       "  <tbody>\n",
       "    <tr>\n",
       "      <th>Lactococcus.virus.c2</th>\n",
       "      <td>1.071906e-11</td>\n",
       "      <td>24</td>\n",
       "      <td>0.031552</td>\n",
       "      <td>NaN</td>\n",
       "      <td>0.031552</td>\n",
       "      <td>True</td>\n",
       "    </tr>\n",
       "    <tr>\n",
       "      <th>Natronomonas.sp..C90</th>\n",
       "      <td>2.510452e-09</td>\n",
       "      <td>1063</td>\n",
       "      <td>0.059492</td>\n",
       "      <td>NaN</td>\n",
       "      <td>0.059492</td>\n",
       "      <td>True</td>\n",
       "    </tr>\n",
       "    <tr>\n",
       "      <th>Human.mastadenovirus.C</th>\n",
       "      <td>2.726389e-11</td>\n",
       "      <td>56</td>\n",
       "      <td>0.104804</td>\n",
       "      <td>NaN</td>\n",
       "      <td>0.104804</td>\n",
       "      <td>False</td>\n",
       "    </tr>\n",
       "    <tr>\n",
       "      <th>Bacillus.sp..V3</th>\n",
       "      <td>4.845253e-08</td>\n",
       "      <td>3033</td>\n",
       "      <td>0.143903</td>\n",
       "      <td>NaN</td>\n",
       "      <td>0.143903</td>\n",
       "      <td>False</td>\n",
       "    </tr>\n",
       "    <tr>\n",
       "      <th>Human.betaherpesvirus.6B</th>\n",
       "      <td>6.694065e-06</td>\n",
       "      <td>297</td>\n",
       "      <td>0.156824</td>\n",
       "      <td>NaN</td>\n",
       "      <td>0.156824</td>\n",
       "      <td>False</td>\n",
       "    </tr>\n",
       "    <tr>\n",
       "      <th>Alcaligenes.faecalis</th>\n",
       "      <td>7.831292e-07</td>\n",
       "      <td>3033</td>\n",
       "      <td>0.160120</td>\n",
       "      <td>NaN</td>\n",
       "      <td>0.160120</td>\n",
       "      <td>False</td>\n",
       "    </tr>\n",
       "    <tr>\n",
       "      <th>Caldicellulosiruptor.bescii</th>\n",
       "      <td>1.601069e-07</td>\n",
       "      <td>3033</td>\n",
       "      <td>0.164703</td>\n",
       "      <td>NaN</td>\n",
       "      <td>0.164703</td>\n",
       "      <td>False</td>\n",
       "    </tr>\n",
       "    <tr>\n",
       "      <th>Streptomyces.sp..CB00271</th>\n",
       "      <td>1.734574e-07</td>\n",
       "      <td>3033</td>\n",
       "      <td>0.166568</td>\n",
       "      <td>NaN</td>\n",
       "      <td>0.166568</td>\n",
       "      <td>False</td>\n",
       "    </tr>\n",
       "    <tr>\n",
       "      <th>Streptomyces.cacaoi</th>\n",
       "      <td>2.534354e-07</td>\n",
       "      <td>3033</td>\n",
       "      <td>0.181011</td>\n",
       "      <td>NaN</td>\n",
       "      <td>0.181011</td>\n",
       "      <td>False</td>\n",
       "    </tr>\n",
       "    <tr>\n",
       "      <th>Sulfurospirillum.multivorans</th>\n",
       "      <td>2.458694e-08</td>\n",
       "      <td>3028</td>\n",
       "      <td>0.181058</td>\n",
       "      <td>NaN</td>\n",
       "      <td>0.181058</td>\n",
       "      <td>False</td>\n",
       "    </tr>\n",
       "    <tr>\n",
       "      <th>Campylobacter.ureolyticus</th>\n",
       "      <td>2.909291e-07</td>\n",
       "      <td>3033</td>\n",
       "      <td>0.182390</td>\n",
       "      <td>NaN</td>\n",
       "      <td>0.182390</td>\n",
       "      <td>False</td>\n",
       "    </tr>\n",
       "    <tr>\n",
       "      <th>Streptomyces.sp..S1D4.20</th>\n",
       "      <td>5.661783e-07</td>\n",
       "      <td>3033</td>\n",
       "      <td>0.190668</td>\n",
       "      <td>NaN</td>\n",
       "      <td>0.190668</td>\n",
       "      <td>False</td>\n",
       "    </tr>\n",
       "    <tr>\n",
       "      <th>Mycoplasma.californicum</th>\n",
       "      <td>3.754930e-07</td>\n",
       "      <td>3033</td>\n",
       "      <td>0.203924</td>\n",
       "      <td>NaN</td>\n",
       "      <td>0.203924</td>\n",
       "      <td>False</td>\n",
       "    </tr>\n",
       "    <tr>\n",
       "      <th>Psychromonas.sp..CNPT3</th>\n",
       "      <td>1.962539e-07</td>\n",
       "      <td>3033</td>\n",
       "      <td>0.211296</td>\n",
       "      <td>NaN</td>\n",
       "      <td>0.211296</td>\n",
       "      <td>False</td>\n",
       "    </tr>\n",
       "    <tr>\n",
       "      <th>Mesorhizobium.sp..NZP2234</th>\n",
       "      <td>3.095556e-10</td>\n",
       "      <td>595</td>\n",
       "      <td>0.212512</td>\n",
       "      <td>NaN</td>\n",
       "      <td>0.212512</td>\n",
       "      <td>False</td>\n",
       "    </tr>\n",
       "    <tr>\n",
       "      <th>Acidovorax.avenae</th>\n",
       "      <td>7.881991e-08</td>\n",
       "      <td>3033</td>\n",
       "      <td>0.216276</td>\n",
       "      <td>NaN</td>\n",
       "      <td>0.216276</td>\n",
       "      <td>False</td>\n",
       "    </tr>\n",
       "    <tr>\n",
       "      <th>Roseiflexus.castenholzii</th>\n",
       "      <td>4.533372e-08</td>\n",
       "      <td>3033</td>\n",
       "      <td>0.217126</td>\n",
       "      <td>NaN</td>\n",
       "      <td>0.217126</td>\n",
       "      <td>False</td>\n",
       "    </tr>\n",
       "    <tr>\n",
       "      <th>Runella.sp..SP2</th>\n",
       "      <td>2.631234e-08</td>\n",
       "      <td>3032</td>\n",
       "      <td>0.219620</td>\n",
       "      <td>NaN</td>\n",
       "      <td>0.219620</td>\n",
       "      <td>False</td>\n",
       "    </tr>\n",
       "    <tr>\n",
       "      <th>Acinetobacter.pittii</th>\n",
       "      <td>5.912508e-07</td>\n",
       "      <td>3033</td>\n",
       "      <td>0.221770</td>\n",
       "      <td>NaN</td>\n",
       "      <td>0.221770</td>\n",
       "      <td>False</td>\n",
       "    </tr>\n",
       "    <tr>\n",
       "      <th>Ehrlichia.chaffeensis</th>\n",
       "      <td>2.655471e-07</td>\n",
       "      <td>3033</td>\n",
       "      <td>0.223544</td>\n",
       "      <td>NaN</td>\n",
       "      <td>0.223544</td>\n",
       "      <td>False</td>\n",
       "    </tr>\n",
       "    <tr>\n",
       "      <th>Escherichia.fergusonii</th>\n",
       "      <td>6.421351e-08</td>\n",
       "      <td>3033</td>\n",
       "      <td>0.226269</td>\n",
       "      <td>NaN</td>\n",
       "      <td>0.226269</td>\n",
       "      <td>False</td>\n",
       "    </tr>\n",
       "    <tr>\n",
       "      <th>Dickeya.fangzhongdai</th>\n",
       "      <td>8.273852e-07</td>\n",
       "      <td>3033</td>\n",
       "      <td>0.226309</td>\n",
       "      <td>NaN</td>\n",
       "      <td>0.226309</td>\n",
       "      <td>False</td>\n",
       "    </tr>\n",
       "    <tr>\n",
       "      <th>Delftia.acidovorans</th>\n",
       "      <td>8.237116e-08</td>\n",
       "      <td>3033</td>\n",
       "      <td>0.227517</td>\n",
       "      <td>NaN</td>\n",
       "      <td>0.227517</td>\n",
       "      <td>False</td>\n",
       "    </tr>\n",
       "    <tr>\n",
       "      <th>Paraprevotella.xylaniphila</th>\n",
       "      <td>8.611374e-07</td>\n",
       "      <td>3033</td>\n",
       "      <td>0.231931</td>\n",
       "      <td>NaN</td>\n",
       "      <td>0.231931</td>\n",
       "      <td>False</td>\n",
       "    </tr>\n",
       "    <tr>\n",
       "      <th>Leptotrichia.sp..oral.taxon.498</th>\n",
       "      <td>2.327429e-07</td>\n",
       "      <td>3033</td>\n",
       "      <td>0.233457</td>\n",
       "      <td>NaN</td>\n",
       "      <td>0.233457</td>\n",
       "      <td>False</td>\n",
       "    </tr>\n",
       "    <tr>\n",
       "      <th>Bacillus.mycoides</th>\n",
       "      <td>1.702206e-07</td>\n",
       "      <td>3033</td>\n",
       "      <td>0.238695</td>\n",
       "      <td>NaN</td>\n",
       "      <td>0.238695</td>\n",
       "      <td>False</td>\n",
       "    </tr>\n",
       "    <tr>\n",
       "      <th>Aeromonas.salmonicida</th>\n",
       "      <td>1.484897e-07</td>\n",
       "      <td>3033</td>\n",
       "      <td>0.240522</td>\n",
       "      <td>NaN</td>\n",
       "      <td>0.240522</td>\n",
       "      <td>False</td>\n",
       "    </tr>\n",
       "    <tr>\n",
       "      <th>Anabaena.sp..90</th>\n",
       "      <td>7.338051e-07</td>\n",
       "      <td>3033</td>\n",
       "      <td>0.244631</td>\n",
       "      <td>NaN</td>\n",
       "      <td>0.244631</td>\n",
       "      <td>False</td>\n",
       "    </tr>\n",
       "    <tr>\n",
       "      <th>Flavobacterium.sp..HYN0086</th>\n",
       "      <td>2.846262e-07</td>\n",
       "      <td>3033</td>\n",
       "      <td>0.247033</td>\n",
       "      <td>NaN</td>\n",
       "      <td>0.247033</td>\n",
       "      <td>False</td>\n",
       "    </tr>\n",
       "    <tr>\n",
       "      <th>Listeria.ivanovii</th>\n",
       "      <td>1.093762e-07</td>\n",
       "      <td>3033</td>\n",
       "      <td>0.247494</td>\n",
       "      <td>NaN</td>\n",
       "      <td>0.247494</td>\n",
       "      <td>False</td>\n",
       "    </tr>\n",
       "  </tbody>\n",
       "</table>\n",
       "</div>"
      ],
      "text/plain": [
       "                                         freq  prev    p.freq  p.prev  \\\n",
       "Lactococcus.virus.c2             1.071906e-11    24  0.031552     NaN   \n",
       "Natronomonas.sp..C90             2.510452e-09  1063  0.059492     NaN   \n",
       "Human.mastadenovirus.C           2.726389e-11    56  0.104804     NaN   \n",
       "Bacillus.sp..V3                  4.845253e-08  3033  0.143903     NaN   \n",
       "Human.betaherpesvirus.6B         6.694065e-06   297  0.156824     NaN   \n",
       "Alcaligenes.faecalis             7.831292e-07  3033  0.160120     NaN   \n",
       "Caldicellulosiruptor.bescii      1.601069e-07  3033  0.164703     NaN   \n",
       "Streptomyces.sp..CB00271         1.734574e-07  3033  0.166568     NaN   \n",
       "Streptomyces.cacaoi              2.534354e-07  3033  0.181011     NaN   \n",
       "Sulfurospirillum.multivorans     2.458694e-08  3028  0.181058     NaN   \n",
       "Campylobacter.ureolyticus        2.909291e-07  3033  0.182390     NaN   \n",
       "Streptomyces.sp..S1D4.20         5.661783e-07  3033  0.190668     NaN   \n",
       "Mycoplasma.californicum          3.754930e-07  3033  0.203924     NaN   \n",
       "Psychromonas.sp..CNPT3           1.962539e-07  3033  0.211296     NaN   \n",
       "Mesorhizobium.sp..NZP2234        3.095556e-10   595  0.212512     NaN   \n",
       "Acidovorax.avenae                7.881991e-08  3033  0.216276     NaN   \n",
       "Roseiflexus.castenholzii         4.533372e-08  3033  0.217126     NaN   \n",
       "Runella.sp..SP2                  2.631234e-08  3032  0.219620     NaN   \n",
       "Acinetobacter.pittii             5.912508e-07  3033  0.221770     NaN   \n",
       "Ehrlichia.chaffeensis            2.655471e-07  3033  0.223544     NaN   \n",
       "Escherichia.fergusonii           6.421351e-08  3033  0.226269     NaN   \n",
       "Dickeya.fangzhongdai             8.273852e-07  3033  0.226309     NaN   \n",
       "Delftia.acidovorans              8.237116e-08  3033  0.227517     NaN   \n",
       "Paraprevotella.xylaniphila       8.611374e-07  3033  0.231931     NaN   \n",
       "Leptotrichia.sp..oral.taxon.498  2.327429e-07  3033  0.233457     NaN   \n",
       "Bacillus.mycoides                1.702206e-07  3033  0.238695     NaN   \n",
       "Aeromonas.salmonicida            1.484897e-07  3033  0.240522     NaN   \n",
       "Anabaena.sp..90                  7.338051e-07  3033  0.244631     NaN   \n",
       "Flavobacterium.sp..HYN0086       2.846262e-07  3033  0.247033     NaN   \n",
       "Listeria.ivanovii                1.093762e-07  3033  0.247494     NaN   \n",
       "\n",
       "                                        p  contaminant  \n",
       "Lactococcus.virus.c2             0.031552         True  \n",
       "Natronomonas.sp..C90             0.059492         True  \n",
       "Human.mastadenovirus.C           0.104804        False  \n",
       "Bacillus.sp..V3                  0.143903        False  \n",
       "Human.betaherpesvirus.6B         0.156824        False  \n",
       "Alcaligenes.faecalis             0.160120        False  \n",
       "Caldicellulosiruptor.bescii      0.164703        False  \n",
       "Streptomyces.sp..CB00271         0.166568        False  \n",
       "Streptomyces.cacaoi              0.181011        False  \n",
       "Sulfurospirillum.multivorans     0.181058        False  \n",
       "Campylobacter.ureolyticus        0.182390        False  \n",
       "Streptomyces.sp..S1D4.20         0.190668        False  \n",
       "Mycoplasma.californicum          0.203924        False  \n",
       "Psychromonas.sp..CNPT3           0.211296        False  \n",
       "Mesorhizobium.sp..NZP2234        0.212512        False  \n",
       "Acidovorax.avenae                0.216276        False  \n",
       "Roseiflexus.castenholzii         0.217126        False  \n",
       "Runella.sp..SP2                  0.219620        False  \n",
       "Acinetobacter.pittii             0.221770        False  \n",
       "Ehrlichia.chaffeensis            0.223544        False  \n",
       "Escherichia.fergusonii           0.226269        False  \n",
       "Dickeya.fangzhongdai             0.226309        False  \n",
       "Delftia.acidovorans              0.227517        False  \n",
       "Paraprevotella.xylaniphila       0.231931        False  \n",
       "Leptotrichia.sp..oral.taxon.498  0.233457        False  \n",
       "Bacillus.mycoides                0.238695        False  \n",
       "Aeromonas.salmonicida            0.240522        False  \n",
       "Anabaena.sp..90                  0.244631        False  \n",
       "Flavobacterium.sp..HYN0086       0.247033        False  \n",
       "Listeria.ivanovii                0.247494        False  "
      ]
     },
     "execution_count": 153,
     "metadata": {},
     "output_type": "execute_result"
    }
   ],
   "source": [
    "decontam_results.sort_values('p').head(30)"
   ]
  },
  {
   "cell_type": "code",
   "execution_count": 71,
   "metadata": {},
   "outputs": [
    {
     "name": "stderr",
     "output_type": "stream",
     "text": [
      "/home/users/briannac/.local/lib/python3.6/site-packages/seaborn/axisgrid.py:2036: UserWarning: The marginal plotting function has changed to `histplot`, which does not accept the following argument(s): rug.\n",
      "  warnings.warn(msg, UserWarning)\n"
     ]
    },
    {
     "data": {
      "image/png": "[encoded data removed]",
      "text/plain": [
       "<Figure size 432x432 with 3 Axes>"
      ]
     },
     "metadata": {
      "needs_background": "light"
     },
     "output_type": "display_data"
    }
   ],
   "source": [
    "n_seq_plates= (for_decontam.groupby('sequencing_plate').max()>0).sum()[:-1]\n",
    "sns.jointplot(x=n_seq_plates.values,\n",
    "              y=-np.log10(decontam_results.p),\n",
    "              marginal_kws=dict(bins=20, rug=True))\n",
    "\n",
    "plt.show()\n"
   ]
  },
  {
   "cell_type": "code",
   "execution_count": 132,
   "metadata": {},
   "outputs": [
    {
     "name": "stderr",
     "output_type": "stream",
     "text": [
      "No handles with labels found to put in legend.\n"
     ]
    },
    {
     "data": {
      "image/png": "[encoded data removed]",
      "text/plain": [
       "<Figure size 432x288 with 1 Axes>"
      ]
     },
     "metadata": {
      "needs_background": "light"
     },
     "output_type": "display_data"
    }
   ],
   "source": [
    "val = 'Natronomonas.sp..C90' #decontam_results.sort_values('p').index[1]\n",
    "plt.plot(for_decontam['concentration'].values, for_decontam[val].values, '.')#, hue='sequencing_plate')\n",
    "plt.legend().remove()\n",
    "plt.yscale('log')\n",
    "#plt.xscale('log')"
   ]
  },
  {
   "cell_type": "code",
   "execution_count": null,
   "metadata": {},
   "outputs": [
    {
     "data": {
      "text/plain": [
       "[<matplotlib.lines.Line2D at 0x7f15d54a7908>]"
      ]
     },
     "execution_count": 95,
     "metadata": {},
     "output_type": "execute_result"
    }
   ],
   "source": [
    "plt.plot(for_decontam[val].values)"
   ]
  },
  {
   "cell_type": "code",
   "execution_count": 438,
   "metadata": {},
   "outputs": [
    {
     "data": {
      "text/plain": [
       "array([1352, 50, 133, ..., 103, 74, 50], dtype=object)"
      ]
     },
     "execution_count": 438,
     "metadata": {},
     "output_type": "execute_result"
    }
   ],
   "source": [
    "abundances_exact.head(20).iloc[14].values[2:]"
   ]
  },
  {
   "cell_type": "code",
   "execution_count": 440,
   "metadata": {},
   "outputs": [
    {
     "data": {
      "image/png": "[encoded data removed]",
      "text/plain": [
       "<Figure size 432x288 with 1 Axes>"
      ]
     },
     "metadata": {
      "needs_background": "light"
     },
     "output_type": "display_data"
    }
   ],
   "source": [
    "plt.hist((abundances_exact.head(20).iloc[14].values[2:]), bins=10)\n",
    "plt.yscale('log')"
   ]
  },
  {
   "cell_type": "code",
   "execution_count": 16,
   "metadata": {},
   "outputs": [
    {
     "ename": "NameError",
     "evalue": "name 'abundances_children' is not defined",
     "output_type": "error",
     "traceback": [
      "\u001b[0;31m---------------------------------------------------------------------------\u001b[0m",
      "\u001b[0;31mNameError\u001b[0m                                 Traceback (most recent call last)",
      "\u001b[0;32m<ipython-input-16-2e706fecbcb6>\u001b[0m in \u001b[0;36m<module>\u001b[0;34m\u001b[0m\n\u001b[0;32m----> 1\u001b[0;31m \u001b[0msns\u001b[0m\u001b[0;34m.\u001b[0m\u001b[0mscatterplot\u001b[0m\u001b[0;34m(\u001b[0m\u001b[0mdata\u001b[0m\u001b[0;34m=\u001b[0m\u001b[0mdecontam_children\u001b[0m\u001b[0;34m.\u001b[0m\u001b[0miloc\u001b[0m\u001b[0;34m[\u001b[0m\u001b[0mnp\u001b[0m\u001b[0;34m.\u001b[0m\u001b[0mwhere\u001b[0m\u001b[0;34m(\u001b[0m\u001b[0mabundances_children\u001b[0m\u001b[0;34m.\u001b[0m\u001b[0mtax_level\u001b[0m\u001b[0;34m!=\u001b[0m\u001b[0;34m'FFFF'\u001b[0m\u001b[0;34m)\u001b[0m\u001b[0;34m]\u001b[0m\u001b[0;34m,\u001b[0m \u001b[0mx\u001b[0m\u001b[0;34m=\u001b[0m\u001b[0;34m'prev'\u001b[0m\u001b[0;34m,\u001b[0m \u001b[0my\u001b[0m\u001b[0;34m=\u001b[0m\u001b[0;34m'p'\u001b[0m\u001b[0;34m)\u001b[0m\u001b[0;34m\u001b[0m\u001b[0m\n\u001b[0m\u001b[1;32m      2\u001b[0m \u001b[0mplt\u001b[0m\u001b[0;34m.\u001b[0m\u001b[0myscale\u001b[0m\u001b[0;34m(\u001b[0m\u001b[0;34m'log'\u001b[0m\u001b[0;34m)\u001b[0m\u001b[0;34m\u001b[0m\u001b[0m\n\u001b[1;32m      3\u001b[0m \u001b[0;31m#plt.xscale('log')\u001b[0m\u001b[0;34m\u001b[0m\u001b[0;34m\u001b[0m\u001b[0m\n\u001b[1;32m      4\u001b[0m \u001b[0mplt\u001b[0m\u001b[0;34m.\u001b[0m\u001b[0mfigure\u001b[0m\u001b[0;34m(\u001b[0m\u001b[0;34m)\u001b[0m\u001b[0;34m\u001b[0m\u001b[0m\n\u001b[1;32m      5\u001b[0m \u001b[0mplt\u001b[0m\u001b[0;34m.\u001b[0m\u001b[0mhist\u001b[0m\u001b[0;34m(\u001b[0m\u001b[0mnp\u001b[0m\u001b[0;34m.\u001b[0m\u001b[0mlog10\u001b[0m\u001b[0;34m(\u001b[0m\u001b[0mdecontam_children\u001b[0m\u001b[0;34m.\u001b[0m\u001b[0miloc\u001b[0m\u001b[0;34m[\u001b[0m\u001b[0mnp\u001b[0m\u001b[0;34m.\u001b[0m\u001b[0mwhere\u001b[0m\u001b[0;34m(\u001b[0m\u001b[0mabundances_children\u001b[0m\u001b[0;34m.\u001b[0m\u001b[0mtax_level\u001b[0m\u001b[0;34m!=\u001b[0m\u001b[0;34m'FFF'\u001b[0m\u001b[0;34m)\u001b[0m\u001b[0;34m]\u001b[0m\u001b[0;34m.\u001b[0m\u001b[0mp\u001b[0m\u001b[0;34m)\u001b[0m\u001b[0;34m,\u001b[0m \u001b[0mbins\u001b[0m\u001b[0;34m=\u001b[0m\u001b[0;36m50\u001b[0m\u001b[0;34m)\u001b[0m\u001b[0;34m\u001b[0m\u001b[0m\n",
      "\u001b[0;31mNameError\u001b[0m: name 'abundances_children' is not defined"
     ]
    }
   ],
   "source": [
    "sns.scatterplot(data=decontam_children.iloc[np.where(abundances_children.tax_level!='FFFF')], x='prev', y='p')\n",
    "plt.yscale('log')\n",
    "#plt.xscale('log')\n",
    "plt.figure()\n",
    "plt.hist(np.log10(decontam_children.iloc[np.where(abundances_children.tax_level!='FFF')].p), bins=50)\n",
    "plt.yscale('log')\n",
    "plt.show()\n",
    "\n"
   ]
  },
  {
   "cell_type": "code",
   "execution_count": 274,
   "metadata": {},
   "outputs": [
    {
     "data": {
      "text/plain": [
       "Homo.sapiens                            0.336970\n",
       "Staphylococcus.aureus                   0.415939\n",
       "Pseudomonas.tolaasii                    0.260389\n",
       "Plantactinospora.sp..BB1                0.074696\n",
       "Candidatus.Portiera.aleyrodidarum       0.352116\n",
       "                                          ...   \n",
       "Hedyotis.yellow.mosaic.betasatellite         NaN\n",
       "Salmonella.virus.BP12B                       NaN\n",
       "Escherichia.virus.UAB78                      NaN\n",
       "Asparagus.virus.2                            NaN\n",
       "Salmonella.phage.64795_sal3                  NaN\n",
       "Name: p, Length: 11837, dtype: float64"
      ]
     },
     "execution_count": 274,
     "metadata": {},
     "output_type": "execute_result"
    }
   ],
   "source": [
    "decontam_children.iloc[np.where(abundances_children.tax_level=='S')].p"
   ]
  },
  {
   "cell_type": "code",
   "execution_count": null,
   "metadata": {},
   "outputs": [],
   "source": [
    "decontam_exact"
   ]
  },
  {
   "cell_type": "code",
   "execution_count": null,
   "metadata": {},
   "outputs": [],
   "source": [
    "decontam_exact[decontam_exact.contaminant]"
   ]
  },
  {
   "cell_type": "code",
   "execution_count": 106,
   "metadata": {},
   "outputs": [],
   "source": [
    "for_decontam_exact.columns = [''.join(c[np.where(np.array(list(c))!=' ')[0][0]:]).replace(' ', '.') for c in for_decontam_exact.columns]"
   ]
  },
  {
   "cell_type": "code",
   "execution_count": 78,
   "metadata": {},
   "outputs": [
    {
     "ename": "KeyError",
     "evalue": "\"['Hubei.toti.like.virus.24', 'Alphacoronavirus.Bat.CoV.P.kuhlii.Italy.3398.19.2015', 'Shahe.picorna.like.virus.12', 'Feline.stool.associated.circular.virus.KU14', 'Papaya.leaf.crumple.virus.Panipat.8..India.Panipat.Papaya.2008.', 'Escherichia.phage.ECML.4', 'White.eye.coronavirus.HKU16', 'Gill.associated.virus', 'Salmonella.enterica.subsp..enterica.serovar.Typhimurium.var..5.', 'Escherichia.coli.str..K.12.substr..W3110', 'Porcine.bocavirus.1.pig.ZJD.China.2006', 'Grapevine.leafroll.associated.virus.7', 'Bulbul.coronavirus.HKU11.934'] not in index\"",
     "output_type": "error",
     "traceback": [
      "\u001b[0;31m---------------------------------------------------------------------------\u001b[0m",
      "\u001b[0;31mKeyError\u001b[0m                                  Traceback (most recent call last)",
      "\u001b[0;32m<ipython-input-78-27aa63290e8e>\u001b[0m in \u001b[0;36m<module>\u001b[0;34m\u001b[0m\n\u001b[0;32m----> 1\u001b[0;31m \u001b[0mfor_decontam_exact\u001b[0m\u001b[0;34m[\u001b[0m\u001b[0mdecontam_exact\u001b[0m\u001b[0;34m[\u001b[0m\u001b[0mdecontam_exact\u001b[0m\u001b[0;34m[\u001b[0m\u001b[0;34m'contaminant'\u001b[0m\u001b[0;34m]\u001b[0m\u001b[0;34m==\u001b[0m\u001b[0;32mTrue\u001b[0m\u001b[0;34m]\u001b[0m\u001b[0;34m.\u001b[0m\u001b[0mindex\u001b[0m\u001b[0;34m]\u001b[0m\u001b[0;34m\u001b[0m\u001b[0m\n\u001b[0m",
      "\u001b[0;32m~/.local/lib/python3.6/site-packages/pandas/core/frame.py\u001b[0m in \u001b[0;36m__getitem__\u001b[0;34m(self, key)\u001b[0m\n\u001b[1;32m   2804\u001b[0m             \u001b[0;32mif\u001b[0m \u001b[0mis_iterator\u001b[0m\u001b[0;34m(\u001b[0m\u001b[0mkey\u001b[0m\u001b[0;34m)\u001b[0m\u001b[0;34m:\u001b[0m\u001b[0;34m\u001b[0m\u001b[0m\n\u001b[1;32m   2805\u001b[0m                 \u001b[0mkey\u001b[0m \u001b[0;34m=\u001b[0m \u001b[0mlist\u001b[0m\u001b[0;34m(\u001b[0m\u001b[0mkey\u001b[0m\u001b[0;34m)\u001b[0m\u001b[0;34m\u001b[0m\u001b[0m\n\u001b[0;32m-> 2806\u001b[0;31m             \u001b[0mindexer\u001b[0m \u001b[0;34m=\u001b[0m \u001b[0mself\u001b[0m\u001b[0;34m.\u001b[0m\u001b[0mloc\u001b[0m\u001b[0;34m.\u001b[0m\u001b[0m_get_listlike_indexer\u001b[0m\u001b[0;34m(\u001b[0m\u001b[0mkey\u001b[0m\u001b[0;34m,\u001b[0m \u001b[0maxis\u001b[0m\u001b[0;34m=\u001b[0m\u001b[0;36m1\u001b[0m\u001b[0;34m,\u001b[0m \u001b[0mraise_missing\u001b[0m\u001b[0;34m=\u001b[0m\u001b[0;32mTrue\u001b[0m\u001b[0;34m)\u001b[0m\u001b[0;34m[\u001b[0m\u001b[0;36m1\u001b[0m\u001b[0;34m]\u001b[0m\u001b[0;34m\u001b[0m\u001b[0m\n\u001b[0m\u001b[1;32m   2807\u001b[0m \u001b[0;34m\u001b[0m\u001b[0m\n\u001b[1;32m   2808\u001b[0m         \u001b[0;31m# take() does not accept boolean indexers\u001b[0m\u001b[0;34m\u001b[0m\u001b[0;34m\u001b[0m\u001b[0m\n",
      "\u001b[0;32m~/.local/lib/python3.6/site-packages/pandas/core/indexing.py\u001b[0m in \u001b[0;36m_get_listlike_indexer\u001b[0;34m(self, key, axis, raise_missing)\u001b[0m\n\u001b[1;32m   1551\u001b[0m \u001b[0;34m\u001b[0m\u001b[0m\n\u001b[1;32m   1552\u001b[0m         self._validate_read_indexer(\n\u001b[0;32m-> 1553\u001b[0;31m             \u001b[0mkeyarr\u001b[0m\u001b[0;34m,\u001b[0m \u001b[0mindexer\u001b[0m\u001b[0;34m,\u001b[0m \u001b[0mo\u001b[0m\u001b[0;34m.\u001b[0m\u001b[0m_get_axis_number\u001b[0m\u001b[0;34m(\u001b[0m\u001b[0maxis\u001b[0m\u001b[0;34m)\u001b[0m\u001b[0;34m,\u001b[0m \u001b[0mraise_missing\u001b[0m\u001b[0;34m=\u001b[0m\u001b[0mraise_missing\u001b[0m\u001b[0;34m\u001b[0m\u001b[0m\n\u001b[0m\u001b[1;32m   1554\u001b[0m         )\n\u001b[1;32m   1555\u001b[0m         \u001b[0;32mreturn\u001b[0m \u001b[0mkeyarr\u001b[0m\u001b[0;34m,\u001b[0m \u001b[0mindexer\u001b[0m\u001b[0;34m\u001b[0m\u001b[0m\n",
      "\u001b[0;32m~/.local/lib/python3.6/site-packages/pandas/core/indexing.py\u001b[0m in \u001b[0;36m_validate_read_indexer\u001b[0;34m(self, key, indexer, axis, raise_missing)\u001b[0m\n\u001b[1;32m   1644\u001b[0m             \u001b[0;32mif\u001b[0m \u001b[0;32mnot\u001b[0m \u001b[0;34m(\u001b[0m\u001b[0mself\u001b[0m\u001b[0;34m.\u001b[0m\u001b[0mname\u001b[0m \u001b[0;34m==\u001b[0m \u001b[0;34m\"loc\"\u001b[0m \u001b[0;32mand\u001b[0m \u001b[0;32mnot\u001b[0m \u001b[0mraise_missing\u001b[0m\u001b[0;34m)\u001b[0m\u001b[0;34m:\u001b[0m\u001b[0;34m\u001b[0m\u001b[0m\n\u001b[1;32m   1645\u001b[0m                 \u001b[0mnot_found\u001b[0m \u001b[0;34m=\u001b[0m \u001b[0mlist\u001b[0m\u001b[0;34m(\u001b[0m\u001b[0mset\u001b[0m\u001b[0;34m(\u001b[0m\u001b[0mkey\u001b[0m\u001b[0;34m)\u001b[0m \u001b[0;34m-\u001b[0m \u001b[0mset\u001b[0m\u001b[0;34m(\u001b[0m\u001b[0max\u001b[0m\u001b[0;34m)\u001b[0m\u001b[0;34m)\u001b[0m\u001b[0;34m\u001b[0m\u001b[0m\n\u001b[0;32m-> 1646\u001b[0;31m                 \u001b[0;32mraise\u001b[0m \u001b[0mKeyError\u001b[0m\u001b[0;34m(\u001b[0m\u001b[0;34mf\"{not_found} not in index\"\u001b[0m\u001b[0;34m)\u001b[0m\u001b[0;34m\u001b[0m\u001b[0m\n\u001b[0m\u001b[1;32m   1647\u001b[0m \u001b[0;34m\u001b[0m\u001b[0m\n\u001b[1;32m   1648\u001b[0m             \u001b[0;31m# we skip the warning on Categorical/Interval\u001b[0m\u001b[0;34m\u001b[0m\u001b[0;34m\u001b[0m\u001b[0m\n",
      "\u001b[0;31mKeyError\u001b[0m: \"['Hubei.toti.like.virus.24', 'Alphacoronavirus.Bat.CoV.P.kuhlii.Italy.3398.19.2015', 'Shahe.picorna.like.virus.12', 'Feline.stool.associated.circular.virus.KU14', 'Papaya.leaf.crumple.virus.Panipat.8..India.Panipat.Papaya.2008.', 'Escherichia.phage.ECML.4', 'White.eye.coronavirus.HKU16', 'Gill.associated.virus', 'Salmonella.enterica.subsp..enterica.serovar.Typhimurium.var..5.', 'Escherichia.coli.str..K.12.substr..W3110', 'Porcine.bocavirus.1.pig.ZJD.China.2006', 'Grapevine.leafroll.associated.virus.7', 'Bulbul.coronavirus.HKU11.934'] not in index\""
     ]
    }
   ],
   "source": [
    "for_decontam_exact[decontam_exact[decontam_exact['contaminant']==True].index]"
   ]
  },
  {
   "cell_type": "code",
   "execution_count": 79,
   "metadata": {},
   "outputs": [
    {
     "ename": "KeyError",
     "evalue": "'Hubei.toti.like.virus.24'",
     "output_type": "error",
     "traceback": [
      "\u001b[0;31m---------------------------------------------------------------------------\u001b[0m",
      "\u001b[0;31mKeyError\u001b[0m                                  Traceback (most recent call last)",
      "\u001b[0;32m~/.local/lib/python3.6/site-packages/pandas/core/indexes/base.py\u001b[0m in \u001b[0;36mget_loc\u001b[0;34m(self, key, method, tolerance)\u001b[0m\n\u001b[1;32m   2645\u001b[0m             \u001b[0;32mtry\u001b[0m\u001b[0;34m:\u001b[0m\u001b[0;34m\u001b[0m\u001b[0m\n\u001b[0;32m-> 2646\u001b[0;31m                 \u001b[0;32mreturn\u001b[0m \u001b[0mself\u001b[0m\u001b[0;34m.\u001b[0m\u001b[0m_engine\u001b[0m\u001b[0;34m.\u001b[0m\u001b[0mget_loc\u001b[0m\u001b[0;34m(\u001b[0m\u001b[0mkey\u001b[0m\u001b[0;34m)\u001b[0m\u001b[0;34m\u001b[0m\u001b[0m\n\u001b[0m\u001b[1;32m   2647\u001b[0m             \u001b[0;32mexcept\u001b[0m \u001b[0mKeyError\u001b[0m\u001b[0;34m:\u001b[0m\u001b[0;34m\u001b[0m\u001b[0m\n",
      "\u001b[0;32mpandas/_libs/index.pyx\u001b[0m in \u001b[0;36mpandas._libs.index.IndexEngine.get_loc\u001b[0;34m()\u001b[0m\n",
      "\u001b[0;32mpandas/_libs/index.pyx\u001b[0m in \u001b[0;36mpandas._libs.index.IndexEngine.get_loc\u001b[0;34m()\u001b[0m\n",
      "\u001b[0;32mpandas/_libs/hashtable_class_helper.pxi\u001b[0m in \u001b[0;36mpandas._libs.hashtable.PyObjectHashTable.get_item\u001b[0;34m()\u001b[0m\n",
      "\u001b[0;32mpandas/_libs/hashtable_class_helper.pxi\u001b[0m in \u001b[0;36mpandas._libs.hashtable.PyObjectHashTable.get_item\u001b[0;34m()\u001b[0m\n",
      "\u001b[0;31mKeyError\u001b[0m: 'Hubei.toti.like.virus.24'",
      "\nDuring handling of the above exception, another exception occurred:\n",
      "\u001b[0;31mKeyError\u001b[0m                                  Traceback (most recent call last)",
      "\u001b[0;32m<ipython-input-79-7997a5e51454>\u001b[0m in \u001b[0;36m<module>\u001b[0;34m\u001b[0m\n\u001b[0;32m----> 1\u001b[0;31m \u001b[0mfor_decontam_exact\u001b[0m\u001b[0;34m[\u001b[0m\u001b[0;34m'Hubei.toti.like.virus.24'\u001b[0m\u001b[0;34m]\u001b[0m\u001b[0;34m\u001b[0m\u001b[0m\n\u001b[0m",
      "\u001b[0;32m~/.local/lib/python3.6/site-packages/pandas/core/frame.py\u001b[0m in \u001b[0;36m__getitem__\u001b[0;34m(self, key)\u001b[0m\n\u001b[1;32m   2798\u001b[0m             \u001b[0;32mif\u001b[0m \u001b[0mself\u001b[0m\u001b[0;34m.\u001b[0m\u001b[0mcolumns\u001b[0m\u001b[0;34m.\u001b[0m\u001b[0mnlevels\u001b[0m \u001b[0;34m>\u001b[0m \u001b[0;36m1\u001b[0m\u001b[0;34m:\u001b[0m\u001b[0;34m\u001b[0m\u001b[0m\n\u001b[1;32m   2799\u001b[0m                 \u001b[0;32mreturn\u001b[0m \u001b[0mself\u001b[0m\u001b[0;34m.\u001b[0m\u001b[0m_getitem_multilevel\u001b[0m\u001b[0;34m(\u001b[0m\u001b[0mkey\u001b[0m\u001b[0;34m)\u001b[0m\u001b[0;34m\u001b[0m\u001b[0m\n\u001b[0;32m-> 2800\u001b[0;31m             \u001b[0mindexer\u001b[0m \u001b[0;34m=\u001b[0m \u001b[0mself\u001b[0m\u001b[0;34m.\u001b[0m\u001b[0mcolumns\u001b[0m\u001b[0;34m.\u001b[0m\u001b[0mget_loc\u001b[0m\u001b[0;34m(\u001b[0m\u001b[0mkey\u001b[0m\u001b[0;34m)\u001b[0m\u001b[0;34m\u001b[0m\u001b[0m\n\u001b[0m\u001b[1;32m   2801\u001b[0m             \u001b[0;32mif\u001b[0m \u001b[0mis_integer\u001b[0m\u001b[0;34m(\u001b[0m\u001b[0mindexer\u001b[0m\u001b[0;34m)\u001b[0m\u001b[0;34m:\u001b[0m\u001b[0;34m\u001b[0m\u001b[0m\n\u001b[1;32m   2802\u001b[0m                 \u001b[0mindexer\u001b[0m \u001b[0;34m=\u001b[0m \u001b[0;34m[\u001b[0m\u001b[0mindexer\u001b[0m\u001b[0;34m]\u001b[0m\u001b[0;34m\u001b[0m\u001b[0m\n",
      "\u001b[0;32m~/.local/lib/python3.6/site-packages/pandas/core/indexes/base.py\u001b[0m in \u001b[0;36mget_loc\u001b[0;34m(self, key, method, tolerance)\u001b[0m\n\u001b[1;32m   2646\u001b[0m                 \u001b[0;32mreturn\u001b[0m \u001b[0mself\u001b[0m\u001b[0;34m.\u001b[0m\u001b[0m_engine\u001b[0m\u001b[0;34m.\u001b[0m\u001b[0mget_loc\u001b[0m\u001b[0;34m(\u001b[0m\u001b[0mkey\u001b[0m\u001b[0;34m)\u001b[0m\u001b[0;34m\u001b[0m\u001b[0m\n\u001b[1;32m   2647\u001b[0m             \u001b[0;32mexcept\u001b[0m \u001b[0mKeyError\u001b[0m\u001b[0;34m:\u001b[0m\u001b[0;34m\u001b[0m\u001b[0m\n\u001b[0;32m-> 2648\u001b[0;31m                 \u001b[0;32mreturn\u001b[0m \u001b[0mself\u001b[0m\u001b[0;34m.\u001b[0m\u001b[0m_engine\u001b[0m\u001b[0;34m.\u001b[0m\u001b[0mget_loc\u001b[0m\u001b[0;34m(\u001b[0m\u001b[0mself\u001b[0m\u001b[0;34m.\u001b[0m\u001b[0m_maybe_cast_indexer\u001b[0m\u001b[0;34m(\u001b[0m\u001b[0mkey\u001b[0m\u001b[0;34m)\u001b[0m\u001b[0;34m)\u001b[0m\u001b[0;34m\u001b[0m\u001b[0m\n\u001b[0m\u001b[1;32m   2649\u001b[0m         \u001b[0mindexer\u001b[0m \u001b[0;34m=\u001b[0m \u001b[0mself\u001b[0m\u001b[0;34m.\u001b[0m\u001b[0mget_indexer\u001b[0m\u001b[0;34m(\u001b[0m\u001b[0;34m[\u001b[0m\u001b[0mkey\u001b[0m\u001b[0;34m]\u001b[0m\u001b[0;34m,\u001b[0m \u001b[0mmethod\u001b[0m\u001b[0;34m=\u001b[0m\u001b[0mmethod\u001b[0m\u001b[0;34m,\u001b[0m \u001b[0mtolerance\u001b[0m\u001b[0;34m=\u001b[0m\u001b[0mtolerance\u001b[0m\u001b[0;34m)\u001b[0m\u001b[0;34m\u001b[0m\u001b[0m\n\u001b[1;32m   2650\u001b[0m         \u001b[0;32mif\u001b[0m \u001b[0mindexer\u001b[0m\u001b[0;34m.\u001b[0m\u001b[0mndim\u001b[0m \u001b[0;34m>\u001b[0m \u001b[0;36m1\u001b[0m \u001b[0;32mor\u001b[0m \u001b[0mindexer\u001b[0m\u001b[0;34m.\u001b[0m\u001b[0msize\u001b[0m \u001b[0;34m>\u001b[0m \u001b[0;36m1\u001b[0m\u001b[0;34m:\u001b[0m\u001b[0;34m\u001b[0m\u001b[0m\n",
      "\u001b[0;32mpandas/_libs/index.pyx\u001b[0m in \u001b[0;36mpandas._libs.index.IndexEngine.get_loc\u001b[0;34m()\u001b[0m\n",
      "\u001b[0;32mpandas/_libs/index.pyx\u001b[0m in \u001b[0;36mpandas._libs.index.IndexEngine.get_loc\u001b[0;34m()\u001b[0m\n",
      "\u001b[0;32mpandas/_libs/hashtable_class_helper.pxi\u001b[0m in \u001b[0;36mpandas._libs.hashtable.PyObjectHashTable.get_item\u001b[0;34m()\u001b[0m\n",
      "\u001b[0;32mpandas/_libs/hashtable_class_helper.pxi\u001b[0m in \u001b[0;36mpandas._libs.hashtable.PyObjectHashTable.get_item\u001b[0;34m()\u001b[0m\n",
      "\u001b[0;31mKeyError\u001b[0m: 'Hubei.toti.like.virus.24'"
     ]
    }
   ],
   "source": [
    "for_decontam_exact['Hubei.toti.like.virus.24']"
   ]
  },
  {
   "cell_type": "code",
   "execution_count": null,
   "metadata": {},
   "outputs": [],
   "source": []
  }
 ],
 "metadata": {
  "kernelspec": {
   "display_name": "py_36_env",
   "language": "python",
   "name": "py_36_env"
  },
  "language_info": {
   "codemirror_mode": {
    "name": "ipython",
    "version": 3
   },
   "file_extension": ".py",
   "mimetype": "text/x-python",
   "name": "python",
   "nbconvert_exporter": "python",
   "pygments_lexer": "ipython3",
   "version": "3.6.1"
  }
 },
 "nbformat": 4,
 "nbformat_minor": 4
}

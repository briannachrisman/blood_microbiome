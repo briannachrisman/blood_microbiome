{
 "cells": [
  {
   "cell_type": "code",
   "execution_count": 220,
   "metadata": {},
   "outputs": [],
   "source": [
    "import pandas as pd\n",
    "from glob import glob\n",
    "from collections import Counter\n",
    "import matplotlib.pyplot as plt\n",
    "import numpy as np\n",
    "from scipy.stats import mannwhitneyu\n",
    "import sys\n",
    "\n",
    "BLOOD_MICROBIOME_DIR = '/home/groups/dpwall/briannac/blood_microbiome/'\n",
    "BAM_MAPPINGS_FILE = '/home/groups/dpwall/briannac/general_data/bam_mappings.csv'\n",
    "CONC_FILE= BLOOD_MICROBIOME_DIR + '/data/decontam/concentrations.csv'\n",
    "ABUNDANCE_FILE_EXACT_PAIRED=BLOOD_MICROBIOME_DIR + 'data/kraken_align/abundances_exact_paired.tsv'\n",
    "ABUNDANCE_FILE_EXACT_SINGLE=BLOOD_MICROBIOME_DIR + 'data/kraken_align/abundances_exact_single.tsv'\n",
    "ABUNDANCE_FILE_EXACT_ALL=BLOOD_MICROBIOME_DIR + 'data/kraken_align/abundances_exact_all.tsv'\n",
    "\n",
    "ABUNDANCE_FILE_CHILDREN_PAIRED=BLOOD_MICROBIOME_DIR + 'data/kraken_align/abundances_children_paired.tsv'\n",
    "ABUNDANCE_FILE_CHILDREN_SINGLE=BLOOD_MICROBIOME_DIR + 'data/kraken_align/abundances_children_single.tsv'\n",
    "ABUNDANCE_FILE_CHILDREN_ALL=BLOOD_MICROBIOME_DIR + 'data/kraken_align/abundances_children_all.tsv'\n",
    "TAXONOMY_FILE = '/home/groups/dpwall/briannac/blood_microbiome/data/kraken_align/taxonomies.tsv'\n",
    "TAXONOMY_MPA_FILE = '/home/groups/dpwall/briannac/blood_microbiome/data/kraken_align/taxonomies_mpa.tsv'\n",
    "\n",
    "DATA_OUT_FILE='/home/groups/dpwall/briannac/blood_microbiome/data/kraken_align/'\n",
    "\n",
    "bam_mappings = pd.read_table(BAM_MAPPINGS_FILE, index_col=1)\n",
    "\n",
    "\n",
    "abundances_exact = pd.read_table(ABUNDANCE_FILE_EXACT_ALL, index_col=2) #abundances_exact_paired + abundances_exact_single\n",
    "abundances_exact = abundances_exact.iloc[np.argsort(abundances_exact.drop(['tax_level', 'tax_id'], axis=1).sum(axis=1)).values[::-1]]\n",
    "\n",
    "abundances_children = pd.read_table(ABUNDANCE_FILE_CHILDREN_ALL, index_col=2) #abundances_exact_paired + abundances_exact_single\n",
    "abundances_children = abundances_children.iloc[np.argsort(abundances_children.drop(['tax_level', 'tax_id'], axis=1).sum(axis=1)).values[::-1]]\n",
    "\n",
    "abundances_exact = abundances_exact[abundances_exact.drop(['tax_level', 'tax_id'], axis=1).sum(axis=1)>0]\n",
    "abundances_children = abundances_children[abundances_children.drop(['tax_level', 'tax_id'], axis=1).sum(axis=1)>0]\n",
    "\n",
    "# Save final files.\n",
    "abundances_exact.to_csv(DATA_OUT_FILE + '/abundances_exact.csv')\n",
    "abundances_children.to_csv(DATA_OUT_FILE + '/abundances_children.csv')"
   ]
  },
  {
   "cell_type": "code",
   "execution_count": 73,
   "metadata": {},
   "outputs": [],
   "source": [
    "bam_mappings = pd.read_table(BAM_MAPPINGS_FILE, index_col=1)"
   ]
  },
  {
   "cell_type": "code",
   "execution_count": 2,
   "metadata": {},
   "outputs": [],
   "source": [
    "abundances_exact = pd.read_table(ABUNDANCE_FILE_EXACT_ALL, index_col=2) #abundances_exact_paired + abundances_exact_single\n",
    "abundances_exact = abundances_exact.iloc[np.argsort(abundances_exact.drop(['tax_level', 'tax_id'], axis=1).sum(axis=1)).values[::-1]]\n",
    "\n",
    "abundances_children = pd.read_table(ABUNDANCE_FILE_CHILDREN_ALL, index_col=2) #abundances_exact_paired + abundances_exact_single\n",
    "abundances_children = abundances_children.iloc[np.argsort(abundances_children.drop(['tax_level', 'tax_id'], axis=1).sum(axis=1)).values[::-1]]\n",
    "\n",
    "abundances_exact = abundances_exact[abundances_exact.drop(['tax_level', 'tax_id'], axis=1).sum(axis=1)>0]\n",
    "abundances_children = abundances_children[abundances_children.drop(['tax_level', 'tax_id'], axis=1).sum(axis=1)>0]\n",
    "\n",
    "# Save final files.\n",
    "abundances_exact.to_csv(DATA_OUT_FILE + '/abundances_exact.csv')\n",
    "abundances_children.to_csv(DATA_OUT_FILE + '/abundances_children.csv')"
   ]
  },
  {
   "cell_type": "markdown",
   "metadata": {},
   "source": [
    "# Load taxonomies"
   ]
  },
  {
   "cell_type": "code",
   "execution_count": 161,
   "metadata": {},
   "outputs": [],
   "source": [
    "taxonomies = pd.read_csv(TAXONOMY_FILE, sep='\\t', header=None)\n",
    "taxonomies_mpa = pd.read_csv(TAXONOMY_MPA_FILE, sep='\\t', header=None)"
   ]
  },
  {
   "cell_type": "code",
   "execution_count": 158,
   "metadata": {},
   "outputs": [
    {
     "data": {
      "text/plain": [
       "'/home/groups/dpwall/briannac/blood_microbiome/data/kraken_align/taxonomies.tsv'"
      ]
     },
     "execution_count": 158,
     "metadata": {},
     "output_type": "execute_result"
    }
   ],
   "source": [
    "TAXONOMY_FILE"
   ]
  },
  {
   "cell_type": "code",
   "execution_count": 162,
   "metadata": {},
   "outputs": [],
   "source": [
    "taxonomies.columns = ['Percent', 'N_children', 'N_exact', 'tax_level', 'tax_id', 'Name']\n",
    "taxonomies.index = taxonomies.Name"
   ]
  }
 ],
 "metadata": {
  "kernelspec": {
   "display_name": "Python 3",
   "language": "python",
   "name": "python3"
  },
  "language_info": {
   "codemirror_mode": {
    "name": "ipython",
    "version": 3
   },
   "file_extension": ".py",
   "mimetype": "text/x-python",
   "name": "python",
   "nbconvert_exporter": "python",
   "pygments_lexer": "ipython3",
   "version": "3.7.6"
  }
 },
 "nbformat": 4,
 "nbformat_minor": 4
}

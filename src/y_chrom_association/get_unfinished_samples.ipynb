{
 "cells": [
  {
   "cell_type": "code",
   "execution_count": 1,
   "metadata": {},
   "outputs": [],
   "source": [
    "import pandas as pd\n",
    "import numpy as np\n",
    "import matplotlib.pyplot as plt\n",
    "from glob import glob\n",
    "from collections import Counter"
   ]
  },
  {
   "cell_type": "code",
   "execution_count": 5,
   "metadata": {},
   "outputs": [
    {
     "name": "stdout",
     "output_type": "stream",
     "text": [
      "/home/groups/dpwall/briannac/alt_haplotypes/intermediate_files/kmers/03C14362.jellyfish.fa\n",
      "/home/groups/dpwall/briannac/alt_haplotypes/intermediate_files/kmers/03C15425.jellyfish.fa\n",
      "/home/groups/dpwall/briannac/alt_haplotypes/intermediate_files/kmers/03C15426.jellyfish.fa\n",
      "/home/groups/dpwall/briannac/alt_haplotypes/intermediate_files/kmers/03C15942.jellyfish.fa\n",
      "/home/groups/dpwall/briannac/alt_haplotypes/intermediate_files/kmers/03C16012.jellyfish.fa\n",
      "/home/groups/dpwall/briannac/alt_haplotypes/intermediate_files/kmers/03C16641.jellyfish.fa\n",
      "/home/groups/dpwall/briannac/alt_haplotypes/intermediate_files/kmers/03C16773.jellyfish.fa\n",
      "/home/groups/dpwall/briannac/alt_haplotypes/intermediate_files/kmers/03C17007.jellyfish.fa\n",
      "/home/groups/dpwall/briannac/alt_haplotypes/intermediate_files/kmers/04C31137.jellyfish.fa\n",
      "/home/groups/dpwall/briannac/alt_haplotypes/intermediate_files/kmers/05C40063.jellyfish.fa\n",
      "/home/groups/dpwall/briannac/alt_haplotypes/intermediate_files/kmers/05C50288.jellyfish.fa\n",
      "/home/groups/dpwall/briannac/alt_haplotypes/intermediate_files/kmers/07C67881.jellyfish.fa\n",
      "/home/groups/dpwall/briannac/alt_haplotypes/intermediate_files/kmers/09C86428.jellyfish.fa\n"
     ]
    }
   ],
   "source": [
    "%%bash\n",
    "find /home/groups/dpwall/briannac/alt_haplotypes/intermediate_files/kmers/*jellyfish.fa -size 0 -print -delete"
   ]
  },
  {
   "cell_type": "code",
   "execution_count": null,
   "metadata": {},
   "outputs": [],
   "source": [
    "python $MY_HOME/general_scripts/slurm_and_batch_resources/unfinished_samples.py \\\n",
    "/home/groups/dpwall/briannac/alt_haplotypes/intermediate_files/kmers/ \\\n",
    ".jellyfish.fa $MY_HOME/alt_haplotypes/data/phasings/samples.tsv $MY_HOME/alt_haplotypes/intermediate_files/kmers/kmers_from_unmapped_reads_unfinished.tsv"
   ]
  },
  {
   "cell_type": "code",
   "execution_count": 6,
   "metadata": {},
   "outputs": [],
   "source": [
    "fam_list = pd.read_pickle('/home/groups/dpwall/briannac/alt_haplotypes/data/phasings/fam_list.df')\n",
    "relevant_samples = list(fam_list.mother_sample) + list(fam_list.father_sample) + list(np.concatenate(fam_list.sib_samples.values))\n",
    "\n",
    "samples_finished_kraken = [i.split('/')[-1].split('_all.report')[0] for i in glob(\n",
    "    '/home/groups/dpwall/briannac/blood_microbiome/intermediate_files/kraken_align/*_all.report')]\n",
    "samples_finished_kraken = set(relevant_samples).intersection(samples_finished_kraken)\n",
    "samples_finished_shared_kmers = [i.split('/')[-1].split('.')[0] for i in glob(\n",
    "    '/home/groups/dpwall/briannac/alt_haplotypes/intermediate_files/kmers/*.query_counts.txt')] \n",
    "samples_finished_individual_kmers = [i.split('/')[-1].split('.')[0] for i in glob(\n",
    "    '/home/groups/dpwall/briannac/alt_haplotypes/intermediate_files/kmers/*.jellyfish.fa')] "
   ]
  },
  {
   "cell_type": "code",
   "execution_count": 7,
   "metadata": {},
   "outputs": [
    {
     "name": "stdout",
     "output_type": "stream",
     "text": [
      "216  samples left for kmers_from_unmapped_reads\n",
      "0  samples left for query_kmers\n"
     ]
    }
   ],
   "source": [
    "with open('/home/groups/dpwall/briannac/alt_haplotypes/intermediate_files/kmers/kmers_from_unmapped_reads_unfinished.tsv', 'w') as f:\n",
    "    not_finished = list(set(samples_finished_kraken).difference(samples_finished_individual_kmers))\n",
    "    print(len(not_finished), ' samples left for kmers_from_unmapped_reads')\n",
    "    for i in not_finished:\n",
    "        f.write(i + '\\n')\n",
    "        \n",
    "with open('/home/groups/dpwall/briannac/alt_haplotypes/intermediate_files/kmers/query_kmers_unfinished.tsv', 'w') as f:\n",
    "    not_finished = list(set(samples_finished_shared_kmers).difference(samples_finished_shared_kmers))\n",
    "    print(len(not_finished), ' samples left for query_kmers')\n",
    "    for i in not_finished:\n",
    "        f.write(i+ '\\n')"
   ]
  },
  {
   "cell_type": "code",
   "execution_count": null,
   "metadata": {},
   "outputs": [],
   "source": []
  }
 ],
 "metadata": {
  "kernelspec": {
   "display_name": "Python 3",
   "language": "python",
   "name": "python3"
  },
  "language_info": {
   "codemirror_mode": {
    "name": "ipython",
    "version": 3
   },
   "file_extension": ".py",
   "mimetype": "text/x-python",
   "name": "python",
   "nbconvert_exporter": "python",
   "pygments_lexer": "ipython3",
   "version": "3.7.6"
  }
 },
 "nbformat": 4,
 "nbformat_minor": 4
}

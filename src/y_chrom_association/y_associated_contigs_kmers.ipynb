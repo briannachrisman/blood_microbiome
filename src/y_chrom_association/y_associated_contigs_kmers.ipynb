{
 "cells": [
  {
   "cell_type": "markdown",
   "metadata": {},
   "source": [
    "# Sex Associated Contigs\n"
   ]
  },
  {
   "cell_type": "code",
   "execution_count": 1,
   "metadata": {},
   "outputs": [],
   "source": [
    "import pandas as pd\n",
    "import numpy as np\n",
    "from collections import Counter \n",
    "import matplotlib.pyplot as plt\n",
    "import seaborn as sns\n",
    "import sys\n",
    "import copy\n",
    "from tqdm import tqdm\n",
    "import scipy.stats as stats\n",
    "import statsmodels.api as sm\n",
    "from sklearn.preprocessing import StandardScaler\n",
    "from statsmodels.stats.anova import anova_lm\n",
    "from statsmodels.formula.api import ols\n",
    "import scipy.stats as stats\n",
    "from sklearn.feature_selection import f_regression\n",
    "from sklearn import metrics\n",
    "colors = [\"#8687d1\", \"#ff9900\",  \"#3b5c36\"]\n",
    "# Set your custom color palette\n",
    "sns.set_palette(sns.color_palette(colors))\n",
    "\n",
    "BLOOD_MICROBIOME_DIR = '/home/groups/dpwall/briannac/blood_microbiome/'\n",
    "F_REGRESSION_RESULTS = BLOOD_MICROBIOME_DIR + 'results/f_regression/f_regression_results.csv'\n",
    "BAM_MAPPINGS_FILE = BLOOD_MICROBIOME_DIR + 'data/bam_mappings.csv'\n",
    "bam_mappings = pd.read_csv(BAM_MAPPINGS_FILE, sep='\\t', index_col=1)\n",
    "\n",
    "MICROBE_FILE = BLOOD_MICROBIOME_DIR + 'data/kraken_align/microbe_filtered_species.tsv'\n",
    "FIG_DIR = BLOOD_MICROBIOME_DIR + 'results/y_chrom_association'\n",
    "TAX_IDS_TO_GREP_FILE = BLOOD_MICROBIOME_DIR + 'results/y_chrom_association/tax_ids_to_grep.txt'\n",
    "TAX_NAMES_TO_GREP_FILE = BLOOD_MICROBIOME_DIR + 'results/y_chrom_association/tax_names_to_grep.txt'\n",
    "\n",
    "df_microbe = pd.read_table(MICROBE_FILE, index_col=0).transpose()"
   ]
  },
  {
   "cell_type": "markdown",
   "metadata": {},
   "source": [
    "# Get y associated contigs."
   ]
  },
  {
   "cell_type": "code",
   "execution_count": 2,
   "metadata": {},
   "outputs": [],
   "source": [
    "f_regress_results = pd.read_csv(F_REGRESSION_RESULTS, header=None)\n",
    "f_regress_results.drop(0, inplace=True, axis=1)\n",
    "f_regress_results.columns = ['name', 'exog_value', 'coeff']\n",
    "f_regress_results['coeff_abs'] = abs(f_regress_results.coeff)"
   ]
  },
  {
   "cell_type": "code",
   "execution_count": 3,
   "metadata": {},
   "outputs": [],
   "source": [
    "y_associated_contigs = f_regress_results[f_regress_results.exog_value=='sex_numeric_2.0'].sort_values(\n",
    "    'coeff_abs', ascending=False)\n",
    "y_associated_contigs = y_associated_contigs[y_associated_contigs.coeff<0][['name']].drop_duplicates().name.values\n",
    "y_associated_contigs\n",
    "\n",
    "\n",
    "x_associated_contigs = f_regress_results[f_regress_results.exog_value=='sex_numeric_2.0'].sort_values(\n",
    "    'coeff_abs', ascending=False)\n",
    "x_associated_contigs = x_associated_contigs[x_associated_contigs.coeff>0][['name']].drop_duplicates().name.values"
   ]
  },
  {
   "cell_type": "code",
   "execution_count": 4,
   "metadata": {},
   "outputs": [],
   "source": [
    "taxonomies = pd.read_csv('/home/groups/dpwall/briannac/blood_microbiome/data/kraken_align/taxonomies.tsv', sep='\\t', header=None)\n",
    "taxonomies.columns = ['frac', 'n', '2', 'tax_level', 'tax_id', 'tax_name']\n",
    "taxonomies.tax_name = [''.join(n[np.where(np.array(list(n))!=' ')[0][0]:]) for n in taxonomies.tax_name]"
   ]
  },
  {
   "cell_type": "code",
   "execution_count": 5,
   "metadata": {},
   "outputs": [],
   "source": [
    "y_taxonomies = taxonomies[[n in y_associated_contigs for n in taxonomies.tax_name]]\n",
    "y_taxonomies = y_taxonomies[y_taxonomies.tax_id!=9606]"
   ]
  },
  {
   "cell_type": "code",
   "execution_count": 21,
   "metadata": {},
   "outputs": [],
   "source": [
    "with open(TAX_IDS_TO_GREP_FILE, 'w') as f:\n",
    "    for i in [r\"kraken:taxid%s$\" % str(t)  for t in y_taxonomies.tax_id]:\n",
    "        f.write(i + '\\n')\n",
    "with open(TAX_NAMES_TO_GREP_FILE, 'w') as f:\n",
    "    for i in [r\"(taxid %s)\" % str(t)  for t in y_taxonomies.tax_id]:\n",
    "        f.write(i + '\\n')\n",
    "        \n",
    "##kraken:tax_id\\|1560339$\n",
    "#kraken:tax_id\\|28901$"
   ]
  },
  {
   "cell_type": "code",
   "execution_count": 3,
   "metadata": {},
   "outputs": [],
   "source": [
    "kraken_classes = pd.read_table(\n",
    "    '/home/groups/dpwall/briannac/blood_microbiome/intermediate_files/y_chrom_association/all.tsv',\n",
    "    header=None)\n",
    "kraken_classes.columns = ['sample', 'read_id', 'tax_id', 'seq', 'read_id_dup', 'tax_name', 'kmer_length', 'kmer_classes']\n",
    "kraken_classes.drop(['read_id_dup', 'kmer_length'], inplace=True, axis=1)"
   ]
  },
  {
   "cell_type": "code",
   "execution_count": 4,
   "metadata": {},
   "outputs": [],
   "source": [
    "kraken_classes.columns = ['sample', 'read_id', 'tax_id', 'seq', 'read_id_dup', 'tax_name', 'kmer_length', 'kmer_classes']\n",
    "kraken_classes.drop(['read_id_dup', 'kmer_length'], inplace=True, axis=1)"
   ]
  },
  {
   "cell_type": "code",
   "execution_count": 20,
   "metadata": {},
   "outputs": [
    {
     "data": {
      "text/plain": [
       "[(28901, 4463299),\n",
       " (1653831, 1705889),\n",
       " (1560339, 1504768),\n",
       " (446, 618201),\n",
       " (336810, 514723),\n",
       " (28450, 458685),\n",
       " (1313, 431869),\n",
       " (630, 385493),\n",
       " (454, 367113),\n",
       " (9, 323836),\n",
       " (2731756, 260955),\n",
       " (362837, 155333),\n",
       " (1742359, 146628),\n",
       " (2675773, 113866),\n",
       " (164514, 92552),\n",
       " (96345, 90484),\n",
       " (1491, 82878),\n",
       " (1502, 62466),\n",
       " (1922217, 61960),\n",
       " (2683967, 58429)]"
      ]
     },
     "execution_count": 20,
     "metadata": {},
     "output_type": "execute_result"
    }
   ],
   "source": [
    "Counter(kraken_classes.tax_id).most_common(20)"
   ]
  },
  {
   "cell_type": "code",
   "execution_count": 171,
   "metadata": {},
   "outputs": [],
   "source": [
    "tax_id = 1278232\n",
    "df_pivot = pd.pivot_table(kraken_classes[kraken_classes.tax_id>336810].groupby(['seq', 'sample']).count()[['read_id']].reset_index(), values='read_id', index='seq', columns='sample')\n",
    "df_pivot[pd.isna(df_pivot)]=0\n",
    "df_pivot['mean'] = df_pivot.mean(axis=1)"
   ]
  },
  {
   "cell_type": "code",
   "execution_count": 161,
   "metadata": {},
   "outputs": [
    {
     "data": {
      "text/html": [
       "<div>\n",
       "<style scoped>\n",
       "    .dataframe tbody tr th:only-of-type {\n",
       "        vertical-align: middle;\n",
       "    }\n",
       "\n",
       "    .dataframe tbody tr th {\n",
       "        vertical-align: top;\n",
       "    }\n",
       "\n",
       "    .dataframe thead th {\n",
       "        text-align: right;\n",
       "    }\n",
       "</style>\n",
       "<table border=\"1\" class=\"dataframe\">\n",
       "  <thead>\n",
       "    <tr style=\"text-align: right;\">\n",
       "      <th>sample</th>\n",
       "      <th>02C10540</th>\n",
       "      <th>02C10541</th>\n",
       "      <th>02C10542</th>\n",
       "      <th>02C10543</th>\n",
       "      <th>02C10702</th>\n",
       "      <th>02C10704</th>\n",
       "      <th>02C10855</th>\n",
       "      <th>02C10856</th>\n",
       "      <th>02C10857</th>\n",
       "      <th>02C10858</th>\n",
       "      <th>...</th>\n",
       "      <th>02C12260</th>\n",
       "      <th>02C12341</th>\n",
       "      <th>02C12342</th>\n",
       "      <th>02C12343</th>\n",
       "      <th>02C12344</th>\n",
       "      <th>02C12373</th>\n",
       "      <th>02C12374</th>\n",
       "      <th>02C12376</th>\n",
       "      <th>02C12627</th>\n",
       "      <th>mean</th>\n",
       "    </tr>\n",
       "    <tr>\n",
       "      <th>seq</th>\n",
       "      <th></th>\n",
       "      <th></th>\n",
       "      <th></th>\n",
       "      <th></th>\n",
       "      <th></th>\n",
       "      <th></th>\n",
       "      <th></th>\n",
       "      <th></th>\n",
       "      <th></th>\n",
       "      <th></th>\n",
       "      <th></th>\n",
       "      <th></th>\n",
       "      <th></th>\n",
       "      <th></th>\n",
       "      <th></th>\n",
       "      <th></th>\n",
       "      <th></th>\n",
       "      <th></th>\n",
       "      <th></th>\n",
       "      <th></th>\n",
       "      <th></th>\n",
       "    </tr>\n",
       "  </thead>\n",
       "  <tbody>\n",
       "    <tr>\n",
       "      <th>TTATATATAACTGTATAATATTTTATGTAAATATGTAATATAATATATATAACTATATAATATATTATATATAACTATATATTATGTTATATATACTTTTATAACATAATTTACATAAAATATCATAATATAATATATATTATATTATTTA</th>\n",
       "      <td>4.0</td>\n",
       "      <td>0.0</td>\n",
       "      <td>0.0</td>\n",
       "      <td>1.0</td>\n",
       "      <td>0.0</td>\n",
       "      <td>0.0</td>\n",
       "      <td>0.0</td>\n",
       "      <td>0.0</td>\n",
       "      <td>6.0</td>\n",
       "      <td>5.0</td>\n",
       "      <td>...</td>\n",
       "      <td>3.0</td>\n",
       "      <td>0.0</td>\n",
       "      <td>0.0</td>\n",
       "      <td>0.0</td>\n",
       "      <td>0.0</td>\n",
       "      <td>3.0</td>\n",
       "      <td>0.0</td>\n",
       "      <td>0.0</td>\n",
       "      <td>0.0</td>\n",
       "      <td>1.686869</td>\n",
       "    </tr>\n",
       "    <tr>\n",
       "      <th>TGGGTGATATGTAATATATATTATGTAATATGAAATAATATAATATATATTATATTATGATATTTTATGTAAATTATGTTATAAAAGTATATATAACATAATATATAGTTATATATAATATATTATATAGTTATATATATTATATTATATA</th>\n",
       "      <td>3.0</td>\n",
       "      <td>0.0</td>\n",
       "      <td>0.0</td>\n",
       "      <td>0.0</td>\n",
       "      <td>0.0</td>\n",
       "      <td>0.0</td>\n",
       "      <td>0.0</td>\n",
       "      <td>0.0</td>\n",
       "      <td>2.0</td>\n",
       "      <td>3.0</td>\n",
       "      <td>...</td>\n",
       "      <td>1.0</td>\n",
       "      <td>0.0</td>\n",
       "      <td>0.0</td>\n",
       "      <td>0.0</td>\n",
       "      <td>0.0</td>\n",
       "      <td>2.0</td>\n",
       "      <td>0.0</td>\n",
       "      <td>0.0</td>\n",
       "      <td>0.0</td>\n",
       "      <td>0.787879</td>\n",
       "    </tr>\n",
       "    <tr>\n",
       "      <th>AACTGTATAATATTTTATGTAAATATGTAATATAATATATATAACTATATAATATATTATATATAACTATATATTATGTTATATATACTTTTATAACATAATTTACATAAAATATCATAATATAATATATATTATATTATTTTATATTACA</th>\n",
       "      <td>1.0</td>\n",
       "      <td>0.0</td>\n",
       "      <td>0.0</td>\n",
       "      <td>0.0</td>\n",
       "      <td>0.0</td>\n",
       "      <td>0.0</td>\n",
       "      <td>0.0</td>\n",
       "      <td>0.0</td>\n",
       "      <td>5.0</td>\n",
       "      <td>1.0</td>\n",
       "      <td>...</td>\n",
       "      <td>1.0</td>\n",
       "      <td>0.0</td>\n",
       "      <td>0.0</td>\n",
       "      <td>0.0</td>\n",
       "      <td>0.0</td>\n",
       "      <td>3.0</td>\n",
       "      <td>0.0</td>\n",
       "      <td>0.0</td>\n",
       "      <td>0.0</td>\n",
       "      <td>0.767677</td>\n",
       "    </tr>\n",
       "    <tr>\n",
       "      <th>TATATGTTTTATATTCTGTTATATATAACTATTTGAAATTATATATAACTGTATAATATTTTATGTAAATATGTAATATAATATATATAACTATATAATATATTATATATAACTATATATTATGTTATATATACTTTTATAATATAATTTA</th>\n",
       "      <td>3.0</td>\n",
       "      <td>0.0</td>\n",
       "      <td>0.0</td>\n",
       "      <td>0.0</td>\n",
       "      <td>0.0</td>\n",
       "      <td>0.0</td>\n",
       "      <td>0.0</td>\n",
       "      <td>0.0</td>\n",
       "      <td>0.0</td>\n",
       "      <td>4.0</td>\n",
       "      <td>...</td>\n",
       "      <td>2.0</td>\n",
       "      <td>0.0</td>\n",
       "      <td>0.0</td>\n",
       "      <td>0.0</td>\n",
       "      <td>0.0</td>\n",
       "      <td>0.0</td>\n",
       "      <td>0.0</td>\n",
       "      <td>0.0</td>\n",
       "      <td>0.0</td>\n",
       "      <td>0.707071</td>\n",
       "    </tr>\n",
       "    <tr>\n",
       "      <th>TAATATGAAATAATATAATATATATTATATTATGATATTTTATGTAAATTATGTTATAAAAGTATATATAACATAATATATAGTTATATATAATATATTATATAGTTATATATATTATATTACATATTTACATAAAATATTATAAAGTTAT</th>\n",
       "      <td>2.0</td>\n",
       "      <td>0.0</td>\n",
       "      <td>0.0</td>\n",
       "      <td>0.0</td>\n",
       "      <td>0.0</td>\n",
       "      <td>0.0</td>\n",
       "      <td>0.0</td>\n",
       "      <td>0.0</td>\n",
       "      <td>4.0</td>\n",
       "      <td>4.0</td>\n",
       "      <td>...</td>\n",
       "      <td>1.0</td>\n",
       "      <td>0.0</td>\n",
       "      <td>0.0</td>\n",
       "      <td>0.0</td>\n",
       "      <td>0.0</td>\n",
       "      <td>1.0</td>\n",
       "      <td>0.0</td>\n",
       "      <td>0.0</td>\n",
       "      <td>0.0</td>\n",
       "      <td>0.696970</td>\n",
       "    </tr>\n",
       "    <tr>\n",
       "      <th>TATATGTTTTATATTCTGTTATATATAACTATTTGAAATTATATATAACTGTATAATATTTTATGTAAATATGTAATATAATATATATAACTATATAATATATTATATATAACTATATATTATGTTATATATACTTTTATAAAATAATTTA</th>\n",
       "      <td>1.0</td>\n",
       "      <td>0.0</td>\n",
       "      <td>0.0</td>\n",
       "      <td>1.0</td>\n",
       "      <td>0.0</td>\n",
       "      <td>0.0</td>\n",
       "      <td>0.0</td>\n",
       "      <td>0.0</td>\n",
       "      <td>2.0</td>\n",
       "      <td>2.0</td>\n",
       "      <td>...</td>\n",
       "      <td>2.0</td>\n",
       "      <td>0.0</td>\n",
       "      <td>0.0</td>\n",
       "      <td>0.0</td>\n",
       "      <td>0.0</td>\n",
       "      <td>2.0</td>\n",
       "      <td>0.0</td>\n",
       "      <td>0.0</td>\n",
       "      <td>0.0</td>\n",
       "      <td>0.606061</td>\n",
       "    </tr>\n",
       "    <tr>\n",
       "      <th>GACATTTTATGTAAATTATGTTATAAAAGTATATATAACATAATATATAGTTATATATAATATATTATATAGTTATATATATTATATTACATATTTACATAAAATATTATACAGTTATATATAATTTCAAATAGTTATATATAACAGAATA</th>\n",
       "      <td>0.0</td>\n",
       "      <td>0.0</td>\n",
       "      <td>0.0</td>\n",
       "      <td>3.0</td>\n",
       "      <td>0.0</td>\n",
       "      <td>0.0</td>\n",
       "      <td>0.0</td>\n",
       "      <td>0.0</td>\n",
       "      <td>1.0</td>\n",
       "      <td>2.0</td>\n",
       "      <td>...</td>\n",
       "      <td>1.0</td>\n",
       "      <td>0.0</td>\n",
       "      <td>0.0</td>\n",
       "      <td>0.0</td>\n",
       "      <td>0.0</td>\n",
       "      <td>2.0</td>\n",
       "      <td>0.0</td>\n",
       "      <td>0.0</td>\n",
       "      <td>0.0</td>\n",
       "      <td>0.565657</td>\n",
       "    </tr>\n",
       "    <tr>\n",
       "      <th>TATTCTGTTATATATAACTATTTGAAATTATATATAACTGTATAATATTTTATGTAAATATGTAATATAATATATATAACTATATAATATATTATATATAACTATATATTATGTTATATATACTTTTATAACATAATTTACATAAAATGTC</th>\n",
       "      <td>4.0</td>\n",
       "      <td>0.0</td>\n",
       "      <td>0.0</td>\n",
       "      <td>4.0</td>\n",
       "      <td>0.0</td>\n",
       "      <td>0.0</td>\n",
       "      <td>0.0</td>\n",
       "      <td>0.0</td>\n",
       "      <td>0.0</td>\n",
       "      <td>2.0</td>\n",
       "      <td>...</td>\n",
       "      <td>1.0</td>\n",
       "      <td>0.0</td>\n",
       "      <td>0.0</td>\n",
       "      <td>0.0</td>\n",
       "      <td>0.0</td>\n",
       "      <td>0.0</td>\n",
       "      <td>0.0</td>\n",
       "      <td>0.0</td>\n",
       "      <td>0.0</td>\n",
       "      <td>0.555556</td>\n",
       "    </tr>\n",
       "    <tr>\n",
       "      <th>TCTATATGTTATATATTCTGTTATATATAACTGTTTGAAATTATATATAACTGTATAATATTTTAGGTAAATATGTAATATAATATATATAACTTTATAATATATTATATATAACTATATATTATGTTATATATACTTTTATAACATAATT</th>\n",
       "      <td>2.0</td>\n",
       "      <td>0.0</td>\n",
       "      <td>0.0</td>\n",
       "      <td>2.0</td>\n",
       "      <td>0.0</td>\n",
       "      <td>0.0</td>\n",
       "      <td>0.0</td>\n",
       "      <td>0.0</td>\n",
       "      <td>0.0</td>\n",
       "      <td>2.0</td>\n",
       "      <td>...</td>\n",
       "      <td>1.0</td>\n",
       "      <td>0.0</td>\n",
       "      <td>0.0</td>\n",
       "      <td>0.0</td>\n",
       "      <td>0.0</td>\n",
       "      <td>0.0</td>\n",
       "      <td>0.0</td>\n",
       "      <td>0.0</td>\n",
       "      <td>0.0</td>\n",
       "      <td>0.505051</td>\n",
       "    </tr>\n",
       "    <tr>\n",
       "      <th>AATTATGTTATAAAAGTATATATAACATAATATATAGTTATATATAATATATTATAAAGTTATATATATTATATTACATATTTACCTAAAATATTATACAGTTATATATAATTTCAAACAGTTATATATAACAGAATATATAACATATAGA</th>\n",
       "      <td>0.0</td>\n",
       "      <td>0.0</td>\n",
       "      <td>0.0</td>\n",
       "      <td>0.0</td>\n",
       "      <td>0.0</td>\n",
       "      <td>0.0</td>\n",
       "      <td>0.0</td>\n",
       "      <td>0.0</td>\n",
       "      <td>2.0</td>\n",
       "      <td>3.0</td>\n",
       "      <td>...</td>\n",
       "      <td>0.0</td>\n",
       "      <td>0.0</td>\n",
       "      <td>0.0</td>\n",
       "      <td>0.0</td>\n",
       "      <td>0.0</td>\n",
       "      <td>2.0</td>\n",
       "      <td>0.0</td>\n",
       "      <td>0.0</td>\n",
       "      <td>0.0</td>\n",
       "      <td>0.444444</td>\n",
       "    </tr>\n",
       "  </tbody>\n",
       "</table>\n",
       "<p>10 rows × 100 columns</p>\n",
       "</div>"
      ],
      "text/plain": [
       "sample                                              02C10540  02C10541  \\\n",
       "seq                                                                      \n",
       "TTATATATAACTGTATAATATTTTATGTAAATATGTAATATAATATA...       4.0       0.0   \n",
       "TGGGTGATATGTAATATATATTATGTAATATGAAATAATATAATATA...       3.0       0.0   \n",
       "AACTGTATAATATTTTATGTAAATATGTAATATAATATATATAACTA...       1.0       0.0   \n",
       "TATATGTTTTATATTCTGTTATATATAACTATTTGAAATTATATATA...       3.0       0.0   \n",
       "TAATATGAAATAATATAATATATATTATATTATGATATTTTATGTAA...       2.0       0.0   \n",
       "TATATGTTTTATATTCTGTTATATATAACTATTTGAAATTATATATA...       1.0       0.0   \n",
       "GACATTTTATGTAAATTATGTTATAAAAGTATATATAACATAATATA...       0.0       0.0   \n",
       "TATTCTGTTATATATAACTATTTGAAATTATATATAACTGTATAATA...       4.0       0.0   \n",
       "TCTATATGTTATATATTCTGTTATATATAACTGTTTGAAATTATATA...       2.0       0.0   \n",
       "AATTATGTTATAAAAGTATATATAACATAATATATAGTTATATATAA...       0.0       0.0   \n",
       "\n",
       "sample                                              02C10542  02C10543  \\\n",
       "seq                                                                      \n",
       "TTATATATAACTGTATAATATTTTATGTAAATATGTAATATAATATA...       0.0       1.0   \n",
       "TGGGTGATATGTAATATATATTATGTAATATGAAATAATATAATATA...       0.0       0.0   \n",
       "AACTGTATAATATTTTATGTAAATATGTAATATAATATATATAACTA...       0.0       0.0   \n",
       "TATATGTTTTATATTCTGTTATATATAACTATTTGAAATTATATATA...       0.0       0.0   \n",
       "TAATATGAAATAATATAATATATATTATATTATGATATTTTATGTAA...       0.0       0.0   \n",
       "TATATGTTTTATATTCTGTTATATATAACTATTTGAAATTATATATA...       0.0       1.0   \n",
       "GACATTTTATGTAAATTATGTTATAAAAGTATATATAACATAATATA...       0.0       3.0   \n",
       "TATTCTGTTATATATAACTATTTGAAATTATATATAACTGTATAATA...       0.0       4.0   \n",
       "TCTATATGTTATATATTCTGTTATATATAACTGTTTGAAATTATATA...       0.0       2.0   \n",
       "AATTATGTTATAAAAGTATATATAACATAATATATAGTTATATATAA...       0.0       0.0   \n",
       "\n",
       "sample                                              02C10702  02C10704  \\\n",
       "seq                                                                      \n",
       "TTATATATAACTGTATAATATTTTATGTAAATATGTAATATAATATA...       0.0       0.0   \n",
       "TGGGTGATATGTAATATATATTATGTAATATGAAATAATATAATATA...       0.0       0.0   \n",
       "AACTGTATAATATTTTATGTAAATATGTAATATAATATATATAACTA...       0.0       0.0   \n",
       "TATATGTTTTATATTCTGTTATATATAACTATTTGAAATTATATATA...       0.0       0.0   \n",
       "TAATATGAAATAATATAATATATATTATATTATGATATTTTATGTAA...       0.0       0.0   \n",
       "TATATGTTTTATATTCTGTTATATATAACTATTTGAAATTATATATA...       0.0       0.0   \n",
       "GACATTTTATGTAAATTATGTTATAAAAGTATATATAACATAATATA...       0.0       0.0   \n",
       "TATTCTGTTATATATAACTATTTGAAATTATATATAACTGTATAATA...       0.0       0.0   \n",
       "TCTATATGTTATATATTCTGTTATATATAACTGTTTGAAATTATATA...       0.0       0.0   \n",
       "AATTATGTTATAAAAGTATATATAACATAATATATAGTTATATATAA...       0.0       0.0   \n",
       "\n",
       "sample                                              02C10855  02C10856  \\\n",
       "seq                                                                      \n",
       "TTATATATAACTGTATAATATTTTATGTAAATATGTAATATAATATA...       0.0       0.0   \n",
       "TGGGTGATATGTAATATATATTATGTAATATGAAATAATATAATATA...       0.0       0.0   \n",
       "AACTGTATAATATTTTATGTAAATATGTAATATAATATATATAACTA...       0.0       0.0   \n",
       "TATATGTTTTATATTCTGTTATATATAACTATTTGAAATTATATATA...       0.0       0.0   \n",
       "TAATATGAAATAATATAATATATATTATATTATGATATTTTATGTAA...       0.0       0.0   \n",
       "TATATGTTTTATATTCTGTTATATATAACTATTTGAAATTATATATA...       0.0       0.0   \n",
       "GACATTTTATGTAAATTATGTTATAAAAGTATATATAACATAATATA...       0.0       0.0   \n",
       "TATTCTGTTATATATAACTATTTGAAATTATATATAACTGTATAATA...       0.0       0.0   \n",
       "TCTATATGTTATATATTCTGTTATATATAACTGTTTGAAATTATATA...       0.0       0.0   \n",
       "AATTATGTTATAAAAGTATATATAACATAATATATAGTTATATATAA...       0.0       0.0   \n",
       "\n",
       "sample                                              02C10857  02C10858  ...  \\\n",
       "seq                                                                     ...   \n",
       "TTATATATAACTGTATAATATTTTATGTAAATATGTAATATAATATA...       6.0       5.0  ...   \n",
       "TGGGTGATATGTAATATATATTATGTAATATGAAATAATATAATATA...       2.0       3.0  ...   \n",
       "AACTGTATAATATTTTATGTAAATATGTAATATAATATATATAACTA...       5.0       1.0  ...   \n",
       "TATATGTTTTATATTCTGTTATATATAACTATTTGAAATTATATATA...       0.0       4.0  ...   \n",
       "TAATATGAAATAATATAATATATATTATATTATGATATTTTATGTAA...       4.0       4.0  ...   \n",
       "TATATGTTTTATATTCTGTTATATATAACTATTTGAAATTATATATA...       2.0       2.0  ...   \n",
       "GACATTTTATGTAAATTATGTTATAAAAGTATATATAACATAATATA...       1.0       2.0  ...   \n",
       "TATTCTGTTATATATAACTATTTGAAATTATATATAACTGTATAATA...       0.0       2.0  ...   \n",
       "TCTATATGTTATATATTCTGTTATATATAACTGTTTGAAATTATATA...       0.0       2.0  ...   \n",
       "AATTATGTTATAAAAGTATATATAACATAATATATAGTTATATATAA...       2.0       3.0  ...   \n",
       "\n",
       "sample                                              02C12260  02C12341  \\\n",
       "seq                                                                      \n",
       "TTATATATAACTGTATAATATTTTATGTAAATATGTAATATAATATA...       3.0       0.0   \n",
       "TGGGTGATATGTAATATATATTATGTAATATGAAATAATATAATATA...       1.0       0.0   \n",
       "AACTGTATAATATTTTATGTAAATATGTAATATAATATATATAACTA...       1.0       0.0   \n",
       "TATATGTTTTATATTCTGTTATATATAACTATTTGAAATTATATATA...       2.0       0.0   \n",
       "TAATATGAAATAATATAATATATATTATATTATGATATTTTATGTAA...       1.0       0.0   \n",
       "TATATGTTTTATATTCTGTTATATATAACTATTTGAAATTATATATA...       2.0       0.0   \n",
       "GACATTTTATGTAAATTATGTTATAAAAGTATATATAACATAATATA...       1.0       0.0   \n",
       "TATTCTGTTATATATAACTATTTGAAATTATATATAACTGTATAATA...       1.0       0.0   \n",
       "TCTATATGTTATATATTCTGTTATATATAACTGTTTGAAATTATATA...       1.0       0.0   \n",
       "AATTATGTTATAAAAGTATATATAACATAATATATAGTTATATATAA...       0.0       0.0   \n",
       "\n",
       "sample                                              02C12342  02C12343  \\\n",
       "seq                                                                      \n",
       "TTATATATAACTGTATAATATTTTATGTAAATATGTAATATAATATA...       0.0       0.0   \n",
       "TGGGTGATATGTAATATATATTATGTAATATGAAATAATATAATATA...       0.0       0.0   \n",
       "AACTGTATAATATTTTATGTAAATATGTAATATAATATATATAACTA...       0.0       0.0   \n",
       "TATATGTTTTATATTCTGTTATATATAACTATTTGAAATTATATATA...       0.0       0.0   \n",
       "TAATATGAAATAATATAATATATATTATATTATGATATTTTATGTAA...       0.0       0.0   \n",
       "TATATGTTTTATATTCTGTTATATATAACTATTTGAAATTATATATA...       0.0       0.0   \n",
       "GACATTTTATGTAAATTATGTTATAAAAGTATATATAACATAATATA...       0.0       0.0   \n",
       "TATTCTGTTATATATAACTATTTGAAATTATATATAACTGTATAATA...       0.0       0.0   \n",
       "TCTATATGTTATATATTCTGTTATATATAACTGTTTGAAATTATATA...       0.0       0.0   \n",
       "AATTATGTTATAAAAGTATATATAACATAATATATAGTTATATATAA...       0.0       0.0   \n",
       "\n",
       "sample                                              02C12344  02C12373  \\\n",
       "seq                                                                      \n",
       "TTATATATAACTGTATAATATTTTATGTAAATATGTAATATAATATA...       0.0       3.0   \n",
       "TGGGTGATATGTAATATATATTATGTAATATGAAATAATATAATATA...       0.0       2.0   \n",
       "AACTGTATAATATTTTATGTAAATATGTAATATAATATATATAACTA...       0.0       3.0   \n",
       "TATATGTTTTATATTCTGTTATATATAACTATTTGAAATTATATATA...       0.0       0.0   \n",
       "TAATATGAAATAATATAATATATATTATATTATGATATTTTATGTAA...       0.0       1.0   \n",
       "TATATGTTTTATATTCTGTTATATATAACTATTTGAAATTATATATA...       0.0       2.0   \n",
       "GACATTTTATGTAAATTATGTTATAAAAGTATATATAACATAATATA...       0.0       2.0   \n",
       "TATTCTGTTATATATAACTATTTGAAATTATATATAACTGTATAATA...       0.0       0.0   \n",
       "TCTATATGTTATATATTCTGTTATATATAACTGTTTGAAATTATATA...       0.0       0.0   \n",
       "AATTATGTTATAAAAGTATATATAACATAATATATAGTTATATATAA...       0.0       2.0   \n",
       "\n",
       "sample                                              02C12374  02C12376  \\\n",
       "seq                                                                      \n",
       "TTATATATAACTGTATAATATTTTATGTAAATATGTAATATAATATA...       0.0       0.0   \n",
       "TGGGTGATATGTAATATATATTATGTAATATGAAATAATATAATATA...       0.0       0.0   \n",
       "AACTGTATAATATTTTATGTAAATATGTAATATAATATATATAACTA...       0.0       0.0   \n",
       "TATATGTTTTATATTCTGTTATATATAACTATTTGAAATTATATATA...       0.0       0.0   \n",
       "TAATATGAAATAATATAATATATATTATATTATGATATTTTATGTAA...       0.0       0.0   \n",
       "TATATGTTTTATATTCTGTTATATATAACTATTTGAAATTATATATA...       0.0       0.0   \n",
       "GACATTTTATGTAAATTATGTTATAAAAGTATATATAACATAATATA...       0.0       0.0   \n",
       "TATTCTGTTATATATAACTATTTGAAATTATATATAACTGTATAATA...       0.0       0.0   \n",
       "TCTATATGTTATATATTCTGTTATATATAACTGTTTGAAATTATATA...       0.0       0.0   \n",
       "AATTATGTTATAAAAGTATATATAACATAATATATAGTTATATATAA...       0.0       0.0   \n",
       "\n",
       "sample                                              02C12627      mean  \n",
       "seq                                                                     \n",
       "TTATATATAACTGTATAATATTTTATGTAAATATGTAATATAATATA...       0.0  1.686869  \n",
       "TGGGTGATATGTAATATATATTATGTAATATGAAATAATATAATATA...       0.0  0.787879  \n",
       "AACTGTATAATATTTTATGTAAATATGTAATATAATATATATAACTA...       0.0  0.767677  \n",
       "TATATGTTTTATATTCTGTTATATATAACTATTTGAAATTATATATA...       0.0  0.707071  \n",
       "TAATATGAAATAATATAATATATATTATATTATGATATTTTATGTAA...       0.0  0.696970  \n",
       "TATATGTTTTATATTCTGTTATATATAACTATTTGAAATTATATATA...       0.0  0.606061  \n",
       "GACATTTTATGTAAATTATGTTATAAAAGTATATATAACATAATATA...       0.0  0.565657  \n",
       "TATTCTGTTATATATAACTATTTGAAATTATATATAACTGTATAATA...       0.0  0.555556  \n",
       "TCTATATGTTATATATTCTGTTATATATAACTGTTTGAAATTATATA...       0.0  0.505051  \n",
       "AATTATGTTATAAAAGTATATATAACATAATATATAGTTATATATAA...       0.0  0.444444  \n",
       "\n",
       "[10 rows x 100 columns]"
      ]
     },
     "execution_count": 161,
     "metadata": {},
     "output_type": "execute_result"
    }
   ],
   "source": [
    "df_pivot.sort_values('mean', ascending=False).iloc[:10]"
   ]
  },
  {
   "cell_type": "code",
   "execution_count": 172,
   "metadata": {},
   "outputs": [],
   "source": [
    "import numpy as np\n",
    "from sklearn.decomposition import PCA\n",
    "from sklearn.preprocessing import StandardScaler\n",
    "X = df_pivot.drop('mean',  axis=1).transpose()\n",
    "pca = PCA(n_components=100)\n"
   ]
  },
  {
   "cell_type": "code",
   "execution_count": 167,
   "metadata": {},
   "outputs": [],
   "source": [
    "s = StandardScaler()\n",
    "s.fit(X[(bam_mappings.loc[X.index]['sex_numeric']=='2.0').values])\n",
    "X_norm = s.transform(X[(bam_mappings.loc[X.index]['sex_numeric']=='2.0').values])\n",
    "pca.fit(X[(bam_mappings.loc[X.index]['sex_numeric']=='2.0').values])\n",
    "transform = pd.DataFrame(pca.transform(X))\n",
    "#transform_females = transform[(bam_mappings.loc[X.index]['sex_numeric']=='2.0').values]\n",
    "#transform_males = transform[(bam_mappings.loc[X.index]['sex_numeric']=='1.0').values]"
   ]
  },
  {
   "cell_type": "code",
   "execution_count": 169,
   "metadata": {},
   "outputs": [
    {
     "data": {
      "text/plain": [
       "[<matplotlib.lines.Line2D at 0x7f8b4dc7ab70>]"
      ]
     },
     "execution_count": 169,
     "metadata": {},
     "output_type": "execute_result"
    },
    {
     "data": {
      "image/png": "[encoded data removed]",
      "text/plain": [
       "<Figure size 432x288 with 1 Axes>"
      ]
     },
     "metadata": {
      "needs_background": "light"
     },
     "output_type": "display_data"
    }
   ],
   "source": [
    "plt.plot(pca.explained_variance_ratio_)"
   ]
  },
  {
   "cell_type": "code",
   "execution_count": 170,
   "metadata": {},
   "outputs": [
    {
     "data": {
      "text/plain": [
       "[<matplotlib.lines.Line2D at 0x7f8b9d29a278>]"
      ]
     },
     "execution_count": 170,
     "metadata": {},
     "output_type": "execute_result"
    },
    {
     "data": {
      "image/png": "[encoded data removed]",
      "text/plain": [
       "<Figure size 432x288 with 1 Axes>"
      ]
     },
     "metadata": {
      "needs_background": "light"
     },
     "output_type": "display_data"
    }
   ],
   "source": [
    "plt.plot(transform[0], transform[1], 'x')"
   ]
  },
  {
   "cell_type": "code",
   "execution_count": 153,
   "metadata": {},
   "outputs": [
    {
     "data": {
      "text/plain": [
       "[<matplotlib.lines.Line2D at 0x7f8b781c0be0>]"
      ]
     },
     "execution_count": 153,
     "metadata": {},
     "output_type": "execute_result"
    },
    {
     "data": {
      "image/png": "[encoded data removed]",
      "text/plain": [
       "<Figure size 432x288 with 1 Axes>"
      ]
     },
     "metadata": {
      "needs_background": "light"
     },
     "output_type": "display_data"
    }
   ],
   "source": [
    "plt.plot(transform_females[0], transform_females[1], 'rX')\n",
    "plt.plot(transform_males[0], transform_males[1], 'b.')\n"
   ]
  },
  {
   "cell_type": "code",
   "execution_count": 154,
   "metadata": {},
   "outputs": [
    {
     "data": {
      "text/plain": [
       "[<matplotlib.lines.Line2D at 0x7f8a4f286518>]"
      ]
     },
     "execution_count": 154,
     "metadata": {},
     "output_type": "execute_result"
    },
    {
     "data": {
      "image/png": "[encoded data removed]",
      "text/plain": [
       "<Figure size 432x288 with 1 Axes>"
      ]
     },
     "metadata": {
      "needs_background": "light"
     },
     "output_type": "display_data"
    }
   ],
   "source": [
    "plt.plot(pca.explained_variance_ratio_)"
   ]
  },
  {
   "cell_type": "code",
   "execution_count": 124,
   "metadata": {},
   "outputs": [
    {
     "data": {
      "text/plain": [
       "1.0000000000000002"
      ]
     },
     "execution_count": 124,
     "metadata": {},
     "output_type": "execute_result"
    }
   ],
   "source": [
    "sum(pca.explained_variance_ratio_)"
   ]
  },
  {
   "cell_type": "code",
   "execution_count": 40,
   "metadata": {},
   "outputs": [
    {
     "data": {
      "text/plain": [
       "sex_numeric        1.0\n",
       "family          AU0866\n",
       "relationship    father\n",
       "Name: 02C12373, dtype: object"
      ]
     },
     "execution_count": 40,
     "metadata": {},
     "output_type": "execute_result"
    }
   ],
   "source": [
    "bam_mappings.loc['02C12373'][['sex_numeric', 'family', 'relationship']]"
   ]
  },
  {
   "cell_type": "code",
   "execution_count": 166,
   "metadata": {},
   "outputs": [],
   "source": [
    "kmers = kraken_classes[['sample', 'tax_id', 'kmer_classes_list']].groupby(['sample']).aggregate(lambda x:Counter([i for j in list(x) for i in j]).most_common())"
   ]
  },
  {
   "cell_type": "code",
   "execution_count": 173,
   "metadata": {},
   "outputs": [
    {
     "data": {
      "text/plain": [
       "('ATTTTATAACATATGTAATATATATTATATATTAT', 10816)"
      ]
     },
     "execution_count": 173,
     "metadata": {},
     "output_type": "execute_result"
    }
   ],
   "source": [
    "kmers.kmer_classes_list[0][0]"
   ]
  },
  {
   "cell_type": "code",
   "execution_count": 125,
   "metadata": {},
   "outputs": [],
   "source": [
    "def KrakenToKmers(row):\n",
    "    kraken_format_out = row['kmer_classes']\n",
    "    desired_tax_id  = str(row['tax_id'])\n",
    "    seq  = row['seq']\n",
    "    \n",
    "    tax_ids_n_seqs = [(i.split(':')[0],int(i.split(':')[1])) for i in  (kraken_format_out+ ' ').split(' ') if i!='']\n",
    "    i = 0\n",
    "    a = []\n",
    "    for tax_id, n_seq in tax_ids_n_seqs:\n",
    "        if tax_id == desired_tax_id:\n",
    "            a = a + [seq[(i+s):(i+s+35)]for s in range(n_seq)]\n",
    "        i = i + n_seq\n",
    "    return a\n",
    "\n",
    "kraken_classes['kmer_classes_list'] = kraken_classes.apply(KrakenToKmers, axis=1)"
   ]
  }
 ],
 "metadata": {
  "kernelspec": {
   "display_name": "py_36_env",
   "language": "python",
   "name": "py_36_env"
  },
  "language_info": {
   "codemirror_mode": {
    "name": "ipython",
    "version": 3
   },
   "file_extension": ".py",
   "mimetype": "text/x-python",
   "name": "python",
   "nbconvert_exporter": "python",
   "pygments_lexer": "ipython3",
   "version": "3.6.1"
  }
 },
 "nbformat": 4,
 "nbformat_minor": 4
}

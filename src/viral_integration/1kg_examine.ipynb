{
 "cells": [
  {
   "cell_type": "code",
   "execution_count": 1,
   "metadata": {},
   "outputs": [],
   "source": [
    "import pandas as pd\n",
    "import numpy as np\n",
    "import matplotlib.pyplot as plt"
   ]
  },
  {
   "cell_type": "code",
   "execution_count": 2,
   "metadata": {},
   "outputs": [],
   "source": [
    "cov_1kg_file = '/home/groups/dpwall/briannac/blood_microbiome/results/herpesvirus/coverages_1kg.npy'"
   ]
  },
  {
   "cell_type": "code",
   "execution_count": 3,
   "metadata": {},
   "outputs": [],
   "source": [
    "coverages_dict = np.load(cov_1kg_file, allow_pickle=True).item()"
   ]
  },
  {
   "cell_type": "code",
   "execution_count": 4,
   "metadata": {},
   "outputs": [],
   "source": [
    "FIG_DIR = '/home/groups/dpwall/briannac/blood_microbiome/results/herpesvirus/'"
   ]
  },
  {
   "cell_type": "code",
   "execution_count": 5,
   "metadata": {},
   "outputs": [],
   "source": [
    "pairing_cols = list(set([tuple(p) for k in coverages_dict.keys() for p in coverages_dict[k].keys()]))\n",
    "pairings_df = pd.DataFrame([[sum(coverages_dict[k][p][0].values())/150 if p in coverages_dict[k] else 0 for p in pairing_cols] for k in coverages_dict.keys()], columns=pairing_cols)\n",
    "pairings_df.index = list(coverages_dict.keys())\n",
    "pairings_df = pairings_df[pairings_df.columns[np.argsort(pairings_df.sum())[::-1]]]"
   ]
  },
  {
   "cell_type": "code",
   "execution_count": 6,
   "metadata": {},
   "outputs": [
    {
     "data": {
      "text/plain": [
       "Index([('kraken:taxid|10376|NC_007605.1', 'kraken:taxid|10376|NC_007605.1'),\n",
       "       ('kraken:taxid|32604|NC_000898.1', 'kraken:taxid|32604|NC_000898.1'),\n",
       "       ('kraken:taxid|32603|NC_001664.4', 'kraken:taxid|32603|NC_001664.4'),\n",
       "       ('kraken:taxid|10376|NC_007605.1', 'kraken:taxid|12509|NC_009334.1'),\n",
       "                               ('chrEBV', 'kraken:taxid|10376|NC_007605.1'),\n",
       "       ('kraken:taxid|32603|NC_001664.4', 'kraken:taxid|32604|NC_000898.1'),\n",
       "       ('kraken:taxid|10372|NC_001716.2', 'kraken:taxid|10372|NC_001716.2'),\n",
       "                                 ('chr2', 'kraken:taxid|10376|NC_007605.1'),\n",
       "                                 ('chr2', 'kraken:taxid|32604|NC_000898.1'),\n",
       "       ('kraken:taxid|10376|NC_007605.1', 'kraken:taxid|45455|NC_006146.1'),\n",
       "                                 ('chr2', 'kraken:taxid|32603|NC_001664.4'),\n",
       "                                 ('chr1', 'kraken:taxid|32604|NC_000898.1'),\n",
       "           ('chrUn_JTFH01000690v1_decoy', 'kraken:taxid|32603|NC_001664.4'),\n",
       "                                 ('chr5', 'kraken:taxid|32604|NC_000898.1'),\n",
       "                                 ('chr1', 'kraken:taxid|10376|NC_007605.1'),\n",
       "                                ('chr10', 'kraken:taxid|10376|NC_007605.1'),\n",
       "                                ('chr16', 'kraken:taxid|10376|NC_007605.1'),\n",
       "                                ('chr18', 'kraken:taxid|32604|NC_000898.1'),\n",
       "                                 ('chr1', 'kraken:taxid|32603|NC_001664.4'),\n",
       "                                 ('chrX', 'kraken:taxid|32604|NC_000898.1')],\n",
       "      dtype='object')"
      ]
     },
     "execution_count": 6,
     "metadata": {},
     "output_type": "execute_result"
    }
   ],
   "source": [
    "pairings_df.columns[:20]"
   ]
  },
  {
   "cell_type": "code",
   "execution_count": 54,
   "metadata": {},
   "outputs": [
    {
     "data": {
      "image/png": "[encoded data removed]",
      "text/plain": [
       "<Figure size 432x288 with 1 Axes>"
      ]
     },
     "metadata": {
      "needs_background": "light"
     },
     "output_type": "display_data"
    }
   ],
   "source": [
    "plt.hist(pairings_df[('kraken:taxid|10376|NC_007605.1', 'kraken:taxid|10376|NC_007605.1')].values, bins=50)\n",
    "plt.title('HHV 4')\n",
    "plt.xlabel('Reads')\n",
    "plt.ylabel('# Samples')\n",
    "plt.yscale('symlog', linthresh=1)\n",
    "plt.ylim(.5,)\n",
    "plt.savefig(FIG_DIR + '1kg_hhv4.svg', transparent=True, bbox_inches='tight')"
   ]
  },
  {
   "cell_type": "code",
   "execution_count": 55,
   "metadata": {},
   "outputs": [
    {
     "data": {
      "image/png": "[encoded data removed]",
      "text/plain": [
       "<Figure size 432x288 with 1 Axes>"
      ]
     },
     "metadata": {
      "needs_background": "light"
     },
     "output_type": "display_data"
    }
   ],
   "source": [
    "plt.hist(pairings_df[('kraken:taxid|10372|NC_001716.2', 'kraken:taxid|10372|NC_001716.2')].values, bins=50, log=True)\n",
    "plt.title('HHV 7')\n",
    "plt.xlabel('Reads')\n",
    "plt.ylabel('# Samples')\n",
    "plt.yscale('symlog', linthresh=1)\n",
    "plt.ylim(.5,)\n",
    "plt.savefig(FIG_DIR + '1kg_hhv7.svg', transparent=True, bbox_inches='tight')\n",
    "plt.show()"
   ]
  },
  {
   "cell_type": "code",
   "execution_count": 56,
   "metadata": {},
   "outputs": [
    {
     "name": "stderr",
     "output_type": "stream",
     "text": [
      "/home/users/briannac/.local/lib/python3.6/site-packages/ipykernel_launcher.py:7: MatplotlibDeprecationWarning: savefig() got unexpected keyword argument \"tight_layout\" which is no longer supported as of 3.3 and will become an error two minor releases later\n",
      "  import sys\n"
     ]
    },
    {
     "data": {
      "image/png": "[encoded data removed]",
      "text/plain": [
       "<Figure size 432x288 with 1 Axes>"
      ]
     },
     "metadata": {
      "needs_background": "light"
     },
     "output_type": "display_data"
    }
   ],
   "source": [
    "plt.hist(pairings_df[('kraken:taxid|32604|NC_000898.1', 'kraken:taxid|32604|NC_000898.1')].values, bins=50, log=True)\n",
    "plt.title('HHV 6B')\n",
    "plt.xlabel('Reads')\n",
    "plt.ylabel('# Samples')\n",
    "plt.yscale('symlog', linthresh=1)\n",
    "plt.ylim(.5,)\n",
    "plt.savefig(FIG_DIR + '1kg_hhv6B.svg', transparent=True, tight_layout=True)\n",
    "plt.show()"
   ]
  },
  {
   "cell_type": "code",
   "execution_count": 57,
   "metadata": {},
   "outputs": [
    {
     "name": "stderr",
     "output_type": "stream",
     "text": [
      "/home/users/briannac/.local/lib/python3.6/site-packages/ipykernel_launcher.py:7: MatplotlibDeprecationWarning: savefig() got unexpected keyword argument \"tight_layout\" which is no longer supported as of 3.3 and will become an error two minor releases later\n",
      "  import sys\n"
     ]
    },
    {
     "data": {
      "image/png": "[encoded data removed]",
      "text/plain": [
       "<Figure size 432x288 with 1 Axes>"
      ]
     },
     "metadata": {
      "needs_background": "light"
     },
     "output_type": "display_data"
    }
   ],
   "source": [
    "plt.hist(pairings_df[('kraken:taxid|32603|NC_001664.4', 'kraken:taxid|32603|NC_001664.4')].values, bins=50, log=True)\n",
    "plt.title('HHV 6A')\n",
    "plt.xlabel('Reads')\n",
    "plt.ylabel('# Samples')\n",
    "plt.yscale('symlog', linthresh=1)\n",
    "plt.ylim(.5,)\n",
    "plt.savefig(FIG_DIR + '1kg_hhv6A.svg', transparent=True, tight_layout=True)\n",
    "plt.show()"
   ]
  },
  {
   "cell_type": "code",
   "execution_count": null,
   "metadata": {},
   "outputs": [],
   "source": []
  }
 ],
 "metadata": {
  "kernelspec": {
   "display_name": "py_36_env",
   "language": "python",
   "name": "py_36_env"
  },
  "language_info": {
   "codemirror_mode": {
    "name": "ipython",
    "version": 3
   },
   "file_extension": ".py",
   "mimetype": "text/x-python",
   "name": "python",
   "nbconvert_exporter": "python",
   "pygments_lexer": "ipython3",
   "version": "3.6.1"
  }
 },
 "nbformat": 4,
 "nbformat_minor": 4
}

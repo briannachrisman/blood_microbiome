{
 "cells": [
  {
   "cell_type": "code",
   "execution_count": 4,
   "metadata": {},
   "outputs": [],
   "source": [
    "import pandas as pd\n",
    "import glob"
   ]
  },
  {
   "cell_type": "code",
   "execution_count": 5,
   "metadata": {},
   "outputs": [],
   "source": [
    "df = pd.read_table('/home/groups/dpwall/briannac/general_data/1kg/file_info.txt', header=None)\n",
    "file_names = ['s3://1000genomes/1000G_2504_high_coverage/data/%s/%s.final.cram' % (i,j) for i,j in df[[2,9]].values]\n",
    "sample_names = [j for _,j in df[[2,9]].values]"
   ]
  },
  {
   "cell_type": "code",
   "execution_count": 6,
   "metadata": {},
   "outputs": [
    {
     "name": "stdout",
     "output_type": "stream",
     "text": [
      "2504 / 2504  unifinished\n"
     ]
    }
   ],
   "source": [
    "new_df = pd.DataFrame(file_names, sample_names)\n",
    "new_df = new_df[[len(glob.glob('/home/groups/dpwall/briannac/blood_microbiome/intermediate_files/1kg_herpes/%s.reealigned.bam' % s))==0 for s in sample_names]]\n",
    "print(len(new_df), '/', len(sample_names), ' unifinished')\n",
    "new_df.to_csv('/home/groups/dpwall/briannac/blood_microbiome/intermediate_files/1kg_herpes/unfinished_files.tsv', sep='\\t', header=None)"
   ]
  },
  {
   "cell_type": "code",
   "execution_count": null,
   "metadata": {},
   "outputs": [],
   "source": []
  }
 ],
 "metadata": {
  "kernelspec": {
   "display_name": "py_36_env",
   "language": "python",
   "name": "py_36_env"
  },
  "language_info": {
   "codemirror_mode": {
    "name": "ipython",
    "version": 3
   },
   "file_extension": ".py",
   "mimetype": "text/x-python",
   "name": "python",
   "nbconvert_exporter": "python",
   "pygments_lexer": "ipython3",
   "version": "3.6.1"
  }
 },
 "nbformat": 4,
 "nbformat_minor": 4
}
